{
 "cells": [
  {
   "cell_type": "markdown",
   "metadata": {},
   "source": [
    "# Using pandas Series"
   ]
  },
  {
   "cell_type": "markdown",
   "metadata": {},
   "source": [
    "A Series is a 1D object containing an array of any NumPy data type. The key difference is that a Series object has an associated array of data labels, called the **index**.\n",
    "\n",
    "If we do not specify the index, numerical indexes are used like for NumPy arrays."
   ]
  },
  {
   "cell_type": "code",
   "execution_count": 1,
   "metadata": {
    "collapsed": false
   },
   "outputs": [
    {
     "name": "stdout",
     "output_type": "stream",
     "text": [
      "[ 9 28 70  7 31 50 90 32 71 77]\n",
      "<type 'numpy.ndarray'>\n",
      "0     9\n",
      "1    28\n",
      "2    70\n",
      "3     7\n",
      "4    31\n",
      "5    50\n",
      "6    90\n",
      "7    32\n",
      "8    71\n",
      "9    77\n",
      "dtype: int64\n",
      "<class 'pandas.core.series.Series'>\n",
      "<type 'numpy.ndarray'>\n",
      "<class 'pandas.indexes.range.RangeIndex'>\n"
     ]
    }
   ],
   "source": [
    "import numpy as np\n",
    "import pandas as pd\n",
    "\n",
    "# Create the array\n",
    "array = np.random.randint(1, 100, 10)\n",
    "print array\n",
    "print type(array)\n",
    "\n",
    "\n",
    "# Create Series from array\n",
    "series = pd.Series(array)\n",
    "print series\n",
    "print type(series)\n",
    "print type(series.values)\n",
    "print type(series.index)\n",
    "# Observe that the printing is different!"
   ]
  },
  {
   "cell_type": "markdown",
   "metadata": {},
   "source": [
    "## Indexes in series"
   ]
  },
  {
   "cell_type": "markdown",
   "metadata": {},
   "source": [
    "The index is a different array, and it can be changed! (or you can provide it when you create the series)"
   ]
  },
  {
   "cell_type": "code",
   "execution_count": 2,
   "metadata": {
    "collapsed": false
   },
   "outputs": [
    {
     "name": "stdout",
     "output_type": "stream",
     "text": [
      "RangeIndex(start=0, stop=10, step=1)\n",
      "<class 'pandas.indexes.range.RangeIndex'>\n",
      "a     9\n",
      "b    28\n",
      "c    70\n",
      "d     7\n",
      "e    31\n",
      "f    50\n",
      "g    90\n",
      "h    32\n",
      "i    71\n",
      "j    77\n",
      "dtype: int64\n",
      "<class 'pandas.indexes.base.Index'>\n"
     ]
    }
   ],
   "source": [
    "print(series.index)\n",
    "print type(series.index)\n",
    "\n",
    "# Change the index:\n",
    "series.index=[list(\"abcdefghij\")]\n",
    "print series\n",
    "print type(series.index)"
   ]
  },
  {
   "cell_type": "markdown",
   "metadata": {},
   "source": [
    "**Reflection:** then a Series can be thought of as a **ordered** dictionary with fixed keys. Actually, it behaves as a Python dict in some situations, and you can create series from Python dicts."
   ]
  },
  {
   "cell_type": "code",
   "execution_count": 3,
   "metadata": {
    "collapsed": false
   },
   "outputs": [
    {
     "name": "stdout",
     "output_type": "stream",
     "text": [
      "True\n",
      "False\n",
      "70\n"
     ]
    }
   ],
   "source": [
    "print \"a\" in series\n",
    "print \"x\" in series\n",
    "print series[\"c\"]"
   ]
  },
  {
   "cell_type": "markdown",
   "metadata": {},
   "source": [
    "You can select using values in the index"
   ]
  },
  {
   "cell_type": "code",
   "execution_count": 4,
   "metadata": {
    "collapsed": false
   },
   "outputs": [
    {
     "data": {
      "text/plain": [
       "a     9\n",
       "c    70\n",
       "f    50\n",
       "dtype: int64"
      ]
     },
     "execution_count": 4,
     "metadata": {},
     "output_type": "execute_result"
    }
   ],
   "source": [
    "series[[\"a\",\"c\",\"f\"]]"
   ]
  },
  {
   "cell_type": "markdown",
   "metadata": {},
   "source": [
    "## Series use indexes in a smart way"
   ]
  },
  {
   "cell_type": "markdown",
   "metadata": {},
   "source": [
    "Let's create two series with different indexes."
   ]
  },
  {
   "cell_type": "code",
   "execution_count": 5,
   "metadata": {
    "collapsed": false
   },
   "outputs": [
    {
     "name": "stdout",
     "output_type": "stream",
     "text": [
      "regions\n",
      "Europe    48\n",
      "USA       84\n",
      "LATAM     54\n",
      "Asia      84\n",
      "dtype: int64\n",
      "--------\n",
      "Europe    60\n",
      "USA       67\n",
      "Asia      59\n",
      "dtype: int64\n"
     ]
    }
   ],
   "source": [
    "import pandas as pd\n",
    "import numpy as np\n",
    "sales1Q = pd.Series(np.random.randint(20,100, 4), \n",
    "                    index=[\"Europe\", \"USA\", \"LATAM\", \"Asia\"])\n",
    "sales1Q.index.name = \"regions\"\n",
    "print sales1Q\n",
    "\n",
    "print \"--------\"\n",
    "\n",
    "sales2Q = pd.Series(np.random.randint(20,100, 3), \n",
    "                    index=[\"Europe\", \"USA\", \"Asia\"])\n",
    "print sales2Q"
   ]
  },
  {
   "cell_type": "markdown",
   "metadata": {},
   "source": [
    "Now let's try to combine them."
   ]
  },
  {
   "cell_type": "code",
   "execution_count": 6,
   "metadata": {
    "collapsed": false,
    "scrolled": true
   },
   "outputs": [
    {
     "data": {
      "text/plain": [
       "Asia      143.0\n",
       "Europe    108.0\n",
       "LATAM       NaN\n",
       "USA       151.0\n",
       "dtype: float64"
      ]
     },
     "execution_count": 6,
     "metadata": {},
     "output_type": "execute_result"
    }
   ],
   "source": [
    "sales1Q + sales2Q"
   ]
  },
  {
   "cell_type": "markdown",
   "metadata": {},
   "source": [
    "It took the labels at the indexes to add the values.\n",
    "But the problem is that \"LATAM\" was not in the second index, and then it was assumed it had no value, resulting in a NaN. We must care of missing values and replace them accordingly or remove the corresponding data depending on our data."
   ]
  },
  {
   "cell_type": "code",
   "execution_count": 7,
   "metadata": {
    "collapsed": false
   },
   "outputs": [
    {
     "data": {
      "text/plain": [
       "Asia      143.0\n",
       "Europe    108.0\n",
       "LATAM      54.0\n",
       "USA       151.0\n",
       "dtype: float64"
      ]
     },
     "execution_count": 7,
     "metadata": {},
     "output_type": "execute_result"
    }
   ],
   "source": [
    "sales1Q.add(sales2Q, fill_value=0)"
   ]
  },
  {
   "cell_type": "markdown",
   "metadata": {},
   "source": [
    "## Manipulating Series"
   ]
  },
  {
   "cell_type": "markdown",
   "metadata": {},
   "source": [
    "You can use dates to index a Series"
   ]
  },
  {
   "cell_type": "code",
   "execution_count": 8,
   "metadata": {
    "collapsed": false
   },
   "outputs": [
    {
     "name": "stdout",
     "output_type": "stream",
     "text": [
      "2013-01-25    1\n",
      "2013-01-26    5\n",
      "2013-01-27    2\n",
      "2013-01-28    9\n",
      "2013-01-29    5\n",
      "2013-01-30    1\n",
      "2013-01-31    4\n",
      "2013-02-01    3\n",
      "2013-02-02    4\n",
      "2013-02-03    9\n",
      "Freq: D, dtype: int64\n"
     ]
    },
    {
     "data": {
      "text/plain": [
       "2013-01-31    4\n",
       "2013-02-01    3\n",
       "2013-02-02    4\n",
       "2013-02-03    9\n",
       "Freq: D, dtype: int64"
      ]
     },
     "execution_count": 8,
     "metadata": {},
     "output_type": "execute_result"
    }
   ],
   "source": [
    "dates = pd.date_range('20130125',periods=10)\n",
    "\n",
    "values = pd.Series(np.random.randint(1,10, 10),index=dates)\n",
    "print values\n",
    "values.tail(4)"
   ]
  },
  {
   "cell_type": "code",
   "execution_count": 9,
   "metadata": {
    "collapsed": false
   },
   "outputs": [
    {
     "name": "stdout",
     "output_type": "stream",
     "text": [
      "2013-02-01    3\n",
      "2013-02-02    4\n",
      "2013-02-03    9\n",
      "Freq: D, dtype: int64\n",
      "-------\n",
      "2013-01-28    9\n",
      "2013-02-03    9\n",
      "dtype: int64\n"
     ]
    }
   ],
   "source": [
    "\n",
    "# We can select based on comparing the indexes\n",
    "from datetime import datetime\n",
    "end_january = datetime(2013, 01, 31)\n",
    "february = values[values.index > end_january]\n",
    "print february\n",
    "\n",
    "print \"-------\"\n",
    "\n",
    "# And also comparing the values\n",
    "higher_than_five = values[values >5]\n",
    "print higher_than_five"
   ]
  },
  {
   "cell_type": "markdown",
   "metadata": {},
   "source": [
    "## Series of strings can also be manipulated"
   ]
  },
  {
   "cell_type": "code",
   "execution_count": 16,
   "metadata": {
    "collapsed": false
   },
   "outputs": [
    {
     "data": {
      "text/html": [
       "<div>\n",
       "<table border=\"1\" class=\"dataframe\">\n",
       "  <thead>\n",
       "    <tr style=\"text-align: right;\">\n",
       "      <th></th>\n",
       "      <th>nombre</th>\n",
       "      <th>apellido</th>\n",
       "    </tr>\n",
       "  </thead>\n",
       "  <tbody>\n",
       "    <tr>\n",
       "      <th>1</th>\n",
       "      <td>Bob</td>\n",
       "      <td>Geldof</td>\n",
       "    </tr>\n",
       "    <tr>\n",
       "      <th>3</th>\n",
       "      <td>Frank</td>\n",
       "      <td>Miller</td>\n",
       "    </tr>\n",
       "    <tr>\n",
       "      <th>2</th>\n",
       "      <td>Ron</td>\n",
       "      <td>Paul</td>\n",
       "    </tr>\n",
       "    <tr>\n",
       "      <th>0</th>\n",
       "      <td>John</td>\n",
       "      <td>Smith</td>\n",
       "    </tr>\n",
       "  </tbody>\n",
       "</table>\n",
       "</div>"
      ],
      "text/plain": [
       "  nombre apellido\n",
       "1    Bob   Geldof\n",
       "3  Frank   Miller\n",
       "2    Ron     Paul\n",
       "0   John    Smith"
      ]
     },
     "execution_count": 16,
     "metadata": {},
     "output_type": "execute_result"
    }
   ],
   "source": [
    "names = pd.Series([\"John Smith\", \"Bob Geldof\", \"Ron Paul\", \"Frank Miller\"])\n",
    "names = names.str.split(expand=True)\n",
    "names.columns = [\"nombre\", \"apellido\"]\n",
    "names.sort_values(by=[\"apellido\"])"
   ]
  },
  {
   "cell_type": "markdown",
   "metadata": {},
   "source": [
    "## Series do stats too"
   ]
  },
  {
   "cell_type": "markdown",
   "metadata": {},
   "source": [
    "And there are a number of statistical functions on series also."
   ]
  },
  {
   "cell_type": "code",
   "execution_count": 17,
   "metadata": {
    "collapsed": false
   },
   "outputs": [
    {
     "name": "stdout",
     "output_type": "stream",
     "text": [
      "-0.00621913555535\n",
      "-0.00613921042075\n"
     ]
    }
   ],
   "source": [
    "s1 = pd.Series(np.random.randn(1000))\n",
    "\n",
    "s2 = pd.Series(np.random.randn(1000))\n",
    "\n",
    "print s1.corr(s2)\n",
    "print s1.cov(s2)\n"
   ]
  },
  {
   "cell_type": "code",
   "execution_count": 18,
   "metadata": {
    "collapsed": false
   },
   "outputs": [
    {
     "name": "stdout",
     "output_type": "stream",
     "text": [
      "0.994834782607\n",
      "0.951141921885\n"
     ]
    }
   ],
   "source": [
    "s1 = pd.Series(np.random.randn(1000))\n",
    "\n",
    "s2 = pd.Series(s1 + np.random.randn(1000)/10)\n",
    "\n",
    "print s1.corr(s2)\n",
    "print s1.cov(s2)"
   ]
  },
  {
   "cell_type": "markdown",
   "metadata": {},
   "source": [
    "More on statistical functions: http://pandas.pydata.org/pandas-docs/dev/computation.html"
   ]
  },
  {
   "cell_type": "code",
   "execution_count": 19,
   "metadata": {
    "collapsed": false
   },
   "outputs": [
    {
     "name": "stdout",
     "output_type": "stream",
     "text": [
      "One-way ANOVA P = 9.92880795879e-184\n",
      "One-way ANOVA P = 0.111955914436\n"
     ]
    }
   ],
   "source": [
    "# compute one-way ANOVA P value \n",
    "# from 3 samples (for two equiv. t-test)\n",
    "from scipy import stats  \n",
    "\n",
    "s1 = pd.Series(np.random.randn(10000))\n",
    "\n",
    "s2 = pd.Series(np.random.gamma(0.42 ,0.5, 10000))\n",
    "\n",
    "s3 = pd.Series(np.random.gamma(0.43 ,0.5, 10000))\n",
    "\n",
    "f_val, p_val = stats.f_oneway(s1, s2, s3)        \n",
    "print \"One-way ANOVA P =\", p_val  \n",
    "\n",
    "f_val, p_val = stats.f_oneway(s2, s3)        \n",
    "print \"One-way ANOVA P =\", p_val "
   ]
  },
  {
   "cell_type": "markdown",
   "metadata": {},
   "source": [
    "<code>f_oneway</code> tests the null hypothesis that two or more groups have the same population mean. The hypothesis is rejected if any of these probabilities is less than or equal to a small, fixed but arbitrarily pre-defined threshold value $\\alpha$, which is referred to as the level of significance.\n",
    "\n",
    "However, it has some assumptions: http://docs.scipy.org/doc/scipy-0.17.0/reference/generated/scipy.stats.f_oneway.html   Do they hold in our case? "
   ]
  },
  {
   "cell_type": "code",
   "execution_count": 20,
   "metadata": {
    "collapsed": false
   },
   "outputs": [
    {
     "name": "stdout",
     "output_type": "stream",
     "text": [
      "0.0988251966909\n"
     ]
    }
   ],
   "source": [
    "from scipy.stats import ttest_1samp\n",
    "t, p = ttest_1samp(s1, 0)\n",
    "# If p is large, we can accept that the population has the mean indicated.\n",
    "print p"
   ]
  },
  {
   "cell_type": "code",
   "execution_count": null,
   "metadata": {
    "collapsed": true
   },
   "outputs": [],
   "source": []
  }
 ],
 "metadata": {
  "kernelspec": {
   "display_name": "Python [py27]",
   "language": "python",
   "name": "Python [py27]"
  },
  "language_info": {
   "codemirror_mode": {
    "name": "ipython",
    "version": 2
   },
   "file_extension": ".py",
   "mimetype": "text/x-python",
   "name": "python",
   "nbconvert_exporter": "python",
   "pygments_lexer": "ipython2",
   "version": "2.7.12"
  }
 },
 "nbformat": 4,
 "nbformat_minor": 0
}
