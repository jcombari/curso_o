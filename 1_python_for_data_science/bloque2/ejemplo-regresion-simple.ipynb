{
 "cells": [
  {
   "cell_type": "markdown",
   "metadata": {},
   "source": [
    "# Regresión básica con scikit-learn"
   ]
  },
  {
   "cell_type": "markdown",
   "metadata": {},
   "source": [
    "Debemos aplicar la regresión cuando queremos crear un modelo para predecir cantidades. "
   ]
  },
  {
   "cell_type": "markdown",
   "metadata": {},
   "source": [
    "Quizá el método de regresión más sencillo y conocido sea el de los mínimos cuadrados. Esta es una técnica de regresión lineal. En scikit-learn, está implementado en la clase <a href=\"http://scikit-learn.org/stable/modules/generated/sklearn.linear_model.LinearRegression.html\">LinearRegression</a>"
   ]
  },
  {
   "cell_type": "markdown",
   "metadata": {},
   "source": [
    "NOTA: La regresión lineal utilizando el método de los mínimos cuadrados es una técnica de análisis estadístico básico. Por eso, podemos encontrar también esta técnica implementada en otros paquetes Python como <a href=\"http://statsmodels.sourceforge.net/devel/generated/statsmodels.regression.linear_model.OLS.html\">statmodels</a>. No obstante, al utilizar la implementación en scikit-learn usamos las interfaces y el estilo de interacción de una biblioteca de aprendizaje automático.    "
   ]
  },
  {
   "cell_type": "markdown",
   "metadata": {},
   "source": [
    "## Un dataset de ejemplo"
   ]
  },
  {
   "cell_type": "markdown",
   "metadata": {},
   "source": [
    "Vamos a utilizar un dataset ficticio (las magnitudes no pretenden ser realistas, es solo un ejemplo). El primero representa las ventas de vehículos de una empresa por años, junto con el PIB del país en ese año, la tasa de desempleo y el precio medio del combustible. "
   ]
  },
  {
   "cell_type": "code",
   "execution_count": 1,
   "metadata": {
    "collapsed": false
   },
   "outputs": [
    {
     "data": {
      "text/html": [
       "<div>\n",
       "<table border=\"1\" class=\"dataframe\">\n",
       "  <thead>\n",
       "    <tr style=\"text-align: right;\">\n",
       "      <th></th>\n",
       "      <th>Unnamed: 0</th>\n",
       "      <th>years</th>\n",
       "      <th>sales</th>\n",
       "      <th>gdp</th>\n",
       "      <th>unempl</th>\n",
       "    </tr>\n",
       "  </thead>\n",
       "  <tbody>\n",
       "    <tr>\n",
       "      <th>0</th>\n",
       "      <td>0</td>\n",
       "      <td>1990</td>\n",
       "      <td>3206</td>\n",
       "      <td>2.784180</td>\n",
       "      <td>301</td>\n",
       "    </tr>\n",
       "    <tr>\n",
       "      <th>1</th>\n",
       "      <td>1</td>\n",
       "      <td>1991</td>\n",
       "      <td>3780</td>\n",
       "      <td>3.263245</td>\n",
       "      <td>409</td>\n",
       "    </tr>\n",
       "    <tr>\n",
       "      <th>2</th>\n",
       "      <td>2</td>\n",
       "      <td>1992</td>\n",
       "      <td>2909</td>\n",
       "      <td>2.515199</td>\n",
       "      <td>300</td>\n",
       "    </tr>\n",
       "    <tr>\n",
       "      <th>3</th>\n",
       "      <td>3</td>\n",
       "      <td>1993</td>\n",
       "      <td>4048</td>\n",
       "      <td>3.433681</td>\n",
       "      <td>321</td>\n",
       "    </tr>\n",
       "    <tr>\n",
       "      <th>4</th>\n",
       "      <td>4</td>\n",
       "      <td>1994</td>\n",
       "      <td>3224</td>\n",
       "      <td>2.807687</td>\n",
       "      <td>343</td>\n",
       "    </tr>\n",
       "  </tbody>\n",
       "</table>\n",
       "</div>"
      ],
      "text/plain": [
       "   Unnamed: 0  years  sales       gdp  unempl\n",
       "0           0   1990   3206  2.784180     301\n",
       "1           1   1991   3780  3.263245     409\n",
       "2           2   1992   2909  2.515199     300\n",
       "3           3   1993   4048  3.433681     321\n",
       "4           4   1994   3224  2.807687     343"
      ]
     },
     "execution_count": 1,
     "metadata": {},
     "output_type": "execute_result"
    }
   ],
   "source": [
    "import pandas as pd\n",
    "import numpy as np\n",
    "data = pd.read_csv(\"sales.txt\")\n",
    "data.head()\n"
   ]
  },
  {
   "cell_type": "markdown",
   "metadata": {},
   "source": [
    "En este caso, vemos una columna con un ordinal que no nos interesa. Podemos eliminarla (o excluirla con un parámetro de read_csv()) aunque tampoco nos molesta para nuestro análisis."
   ]
  },
  {
   "cell_type": "code",
   "execution_count": 2,
   "metadata": {
    "collapsed": false
   },
   "outputs": [],
   "source": [
    "del data[\"Unnamed: 0\"]"
   ]
  },
  {
   "cell_type": "markdown",
   "metadata": {},
   "source": [
    "A continuación típicamente se visualizan los datos para entenderlos mejor, y para buscar posibles errores o valores nulos (en este caso no los hay)."
   ]
  },
  {
   "cell_type": "code",
   "execution_count": 3,
   "metadata": {
    "collapsed": false
   },
   "outputs": [
    {
     "data": {
      "text/plain": [
       "[<matplotlib.lines.Line2D at 0x106a6d810>]"
      ]
     },
     "execution_count": 3,
     "metadata": {},
     "output_type": "execute_result"
    },
    {
     "data": {
      "image/png": "[encoded data removed]",
      "text/plain": [
       "<matplotlib.figure.Figure at 0x106945450>"
      ]
     },
     "metadata": {},
     "output_type": "display_data"
    }
   ],
   "source": [
    "%matplotlib inline\n",
    "import matplotlib.pyplot as plt\n",
    "plt.plot(data[\"years\"], data[\"sales\"])"
   ]
  },
  {
   "cell_type": "markdown",
   "metadata": {},
   "source": [
    "## Visualización de relaciones entre datos"
   ]
  },
  {
   "cell_type": "markdown",
   "metadata": {},
   "source": [
    "El siguiente paso lógico es tratar de buscar alguna evidencia de relación entre las variables. En nuestro caso:\n",
    "* ventas (sales) es la variable objetivo de salida que queremos predecir. \n",
    "* El PIB (gdp) y el desempleo (unempl) son posibles variables de entrada o predictoras. \n",
    "\n",
    "Por ello, lo habitual es primero tratar de buscar alguna relación visual o alguna medida estadística. "
   ]
  },
  {
   "cell_type": "code",
   "execution_count": 4,
   "metadata": {
    "collapsed": false
   },
   "outputs": [
    {
     "data": {
      "text/plain": [
       "<matplotlib.text.Text at 0x106a1ce50>"
      ]
     },
     "execution_count": 4,
     "metadata": {},
     "output_type": "execute_result"
    },
    {
     "name": "stderr",
     "output_type": "stream",
     "text": [
      "/Users/msicilia/anaconda/lib/python2.7/site-packages/matplotlib/collections.py:590: FutureWarning: elementwise comparison failed; returning scalar instead, but in the future will perform elementwise comparison\n",
      "  if self._edgecolors == str('face'):\n"
     ]
    },
    {
     "data": {
      "image/png": "[encoded data removed]",
      "text/plain": [
       "<matplotlib.figure.Figure at 0x106ad3950>"
      ]
     },
     "metadata": {},
     "output_type": "display_data"
    }
   ],
   "source": [
    "plt.scatter( data[\"gdp\"], data[\"sales\"])\n",
    "plt.ylabel(\"sales\")\n",
    "plt.xlabel(\"GDP\")"
   ]
  },
  {
   "cell_type": "markdown",
   "metadata": {},
   "source": [
    "Vemos que en apariencia hay una relación lineal entre las variables."
   ]
  },
  {
   "cell_type": "code",
   "execution_count": 5,
   "metadata": {
    "collapsed": false
   },
   "outputs": [
    {
     "data": {
      "text/plain": [
       "<matplotlib.text.Text at 0x106b148d0>"
      ]
     },
     "execution_count": 5,
     "metadata": {},
     "output_type": "execute_result"
    },
    {
     "data": {
      "image/png": "[encoded data removed]",
      "text/plain": [
       "<matplotlib.figure.Figure at 0x106c1c710>"
      ]
     },
     "metadata": {},
     "output_type": "display_data"
    }
   ],
   "source": [
    "plt.scatter(data[\"unempl\"], data[\"sales\"])\n",
    "plt.ylabel(\"sales\")\n",
    "plt.xlabel(\"unemployment\")"
   ]
  },
  {
   "cell_type": "markdown",
   "metadata": {},
   "source": [
    "En este segundo caso, también parece que hay una relación lineal entre las variables, por eso ambas pueden considerse candidatas. "
   ]
  },
  {
   "cell_type": "markdown",
   "metadata": {},
   "source": [
    "Hay otras medidas estadísticas que nos pueden servir también como indicio de la relación entre variables. Por ejemplo, la correlación y la covarianza."
   ]
  },
  {
   "cell_type": "code",
   "execution_count": 6,
   "metadata": {
    "collapsed": false
   },
   "outputs": [
    {
     "name": "stdout",
     "output_type": "stream",
     "text": [
      "0.901711844983 41.7226154593\n"
     ]
    }
   ],
   "source": [
    "gdp = data[\"gdp\"]\n",
    "unem = data[\"unempl\"]\n",
    "print gdp.corr(unem), gdp.cov(unem)"
   ]
  },
  {
   "cell_type": "markdown",
   "metadata": {},
   "source": [
    "## El método de los mínimos cuadrados"
   ]
  },
  {
   "cell_type": "markdown",
   "metadata": {},
   "source": [
    "Una vez que hemos visto una posible relación lineal entre la variable a predecir (ventas) y otras del conjunto de datos, tenemos la base para aplicar la regresión lineal."
   ]
  },
  {
   "cell_type": "code",
   "execution_count": 7,
   "metadata": {
    "collapsed": false
   },
   "outputs": [
    {
     "data": {
      "text/plain": [
       "LinearRegression(copy_X=True, fit_intercept=True, n_jobs=1, normalize=False)"
      ]
     },
     "execution_count": 7,
     "metadata": {},
     "output_type": "execute_result"
    }
   ],
   "source": [
    "from sklearn import linear_model\n",
    "# Creamos un modelo de regresión \"vacío\":\n",
    "clf = linear_model.LinearRegression()\n",
    "# Entrenamos el modelo tomando todos los datos:\n",
    "gdp = data[\"gdp\"]\n",
    "X = gdp[:, np.newaxis] # Necesario porque fit() espera una matriz.\n",
    "y = data[\"sales\"]\n",
    "clf.fit(X, y)"
   ]
  },
  {
   "cell_type": "markdown",
   "metadata": {},
   "source": [
    "En este momento ya tenemos el modelo entrenado y podemos consultar sus parámetros, que en este caso es el coeficiente de la recta solamente."
   ]
  },
  {
   "cell_type": "code",
   "execution_count": 8,
   "metadata": {
    "collapsed": false
   },
   "outputs": [
    {
     "data": {
      "text/plain": [
       "array([ 1134.18804425])"
      ]
     },
     "execution_count": 8,
     "metadata": {},
     "output_type": "execute_result"
    }
   ],
   "source": [
    "clf.coef_"
   ]
  },
  {
   "cell_type": "markdown",
   "metadata": {},
   "source": [
    "Ahora ya podemos hacer predicciones para valores concretos."
   ]
  },
  {
   "cell_type": "code",
   "execution_count": 9,
   "metadata": {
    "collapsed": false
   },
   "outputs": [
    {
     "name": "stdout",
     "output_type": "stream",
     "text": [
      "[ 5761.20614292]\n"
     ]
    }
   ],
   "source": [
    "print clf.predict(5)"
   ]
  },
  {
   "cell_type": "markdown",
   "metadata": {},
   "source": [
    "Y podemos dibujar los puntos originales y la recta que es el modelo. Nótese que para la recta, predecimos valores con el modelo. "
   ]
  },
  {
   "cell_type": "code",
   "execution_count": 10,
   "metadata": {
    "collapsed": false
   },
   "outputs": [
    {
     "data": {
      "text/plain": [
       "[<matplotlib.lines.Line2D at 0x106e5e490>]"
      ]
     },
     "execution_count": 10,
     "metadata": {},
     "output_type": "execute_result"
    },
    {
     "data": {
      "image/png": "[encoded data removed]",
      "text/plain": [
       "<matplotlib.figure.Figure at 0x106e5eb50>"
      ]
     },
     "metadata": {},
     "output_type": "display_data"
    }
   ],
   "source": [
    "# Los puntos originales:\n",
    "plt.scatter(X, y,  color='red')\n",
    "\n",
    "# El modelo.\n",
    "plt.plot(X, clf.predict(X), color='blue', linewidth=3)"
   ]
  },
  {
   "cell_type": "markdown",
   "metadata": {},
   "source": [
    "Simplemente mirando el gráfico, parece que el modelo se ajusta bastante bien a los datos, como esperábamos. No obstante, a veces no es tan claro o necesitamos comparar modelos alternativos con diferenets variables. Para ello, necesitamos medidas para <b>evaluar</b> si el modelo es bueno. Podemos obtenerlo mediante score()."
   ]
  },
  {
   "cell_type": "code",
   "execution_count": 11,
   "metadata": {
    "collapsed": false
   },
   "outputs": [
    {
     "data": {
      "text/plain": [
       "0.97394467130051454"
      ]
     },
     "execution_count": 11,
     "metadata": {},
     "output_type": "execute_result"
    }
   ],
   "source": [
    "clf.score(X, y)"
   ]
  },
  {
   "cell_type": "markdown",
   "metadata": {},
   "source": [
    "Score en el caso de este método no es otra cosa que un <a href=\"http://es.wikipedia.org/wiki/Coeficiente_de_determinaci%C3%B3n\">coeficiente de determinación</a> R$²$. Evalúa en qué medida el modelo explica los datos. El mejor valor es 1.0, por lo que en este caso tenemos un buen modelo.\n",
    "\n",
    "NOTA: En este caso hemos llamado a score() con los mismos datos que hemos usado para entrenar el modelo. Sería más interesantes hacerlo con datos adicionales, para comprobar si el modelo <b>generaliza</b> bien para otros datos. "
   ]
  },
  {
   "cell_type": "markdown",
   "metadata": {},
   "source": [
    "## Utilizando más de una variable"
   ]
  },
  {
   "cell_type": "markdown",
   "metadata": {},
   "source": [
    "Podemos tomar más de una variable de entrada, indexando el dataframe con una lista de los nombres de columnas:"
   ]
  },
  {
   "cell_type": "code",
   "execution_count": 12,
   "metadata": {
    "collapsed": false
   },
   "outputs": [],
   "source": [
    "X2 = data[[\"gdp\", \"unempl\"]]"
   ]
  },
  {
   "cell_type": "markdown",
   "metadata": {},
   "source": [
    "Y podemos crear otro modelo nuevo con esas dos variables."
   ]
  },
  {
   "cell_type": "code",
   "execution_count": 13,
   "metadata": {
    "collapsed": false
   },
   "outputs": [
    {
     "data": {
      "text/plain": [
       "LinearRegression(copy_X=True, fit_intercept=True, n_jobs=1, normalize=False)"
      ]
     },
     "execution_count": 13,
     "metadata": {},
     "output_type": "execute_result"
    }
   ],
   "source": [
    "clf2 = linear_model.LinearRegression()\n",
    "\n",
    "# Entrenamos el modelo tomando dos variables:\n",
    "clf2.fit(X2, y)"
   ]
  },
  {
   "cell_type": "markdown",
   "metadata": {},
   "source": [
    "En este caso tenemos dos coeficientes, uno por variable."
   ]
  },
  {
   "cell_type": "code",
   "execution_count": 14,
   "metadata": {
    "collapsed": false
   },
   "outputs": [
    {
     "name": "stdout",
     "output_type": "stream",
     "text": [
      "[  1.12068781e+03   1.67495206e-01]\n"
     ]
    }
   ],
   "source": [
    "print clf2.coef_"
   ]
  },
  {
   "cell_type": "markdown",
   "metadata": {},
   "source": [
    "El modelo es ahora más complejo, pero tenemos que analizar si añadir la variable ha añadido algo significativo a la calidad del modelo. ¿qué podríamos decir en este caso?"
   ]
  },
  {
   "cell_type": "code",
   "execution_count": 15,
   "metadata": {
    "collapsed": false
   },
   "outputs": [
    {
     "name": "stdout",
     "output_type": "stream",
     "text": [
      "0.973976393069\n"
     ]
    }
   ],
   "source": [
    "print clf2.score(X2, y)"
   ]
  },
  {
   "cell_type": "markdown",
   "metadata": {},
   "source": [
    "## Ejercicio: probando otros modelos"
   ]
  },
  {
   "cell_type": "markdown",
   "metadata": {},
   "source": [
    "Hemos probado con una variable y con las dos. Nos faltaría por probar un tercer modelo alternativo, utilizando solamente la variable unempl. ¿La calidad del modelo es mejor que la de los dos anterioes? ¿con cuál nos quedaríamos?"
   ]
  },
  {
   "cell_type": "markdown",
   "metadata": {},
   "source": [
    "En este caso solo teníamos dos variables, y hemos probado todos los modelos posibles. No obstante en general tendremos muchas variables (dimensionalidad alta) y es demasiado costoso probar todas las combinaciones. Por eso merece la pena observar si hay relaciones entre las variables de entrada antes de empezar a entrenar modelos. De este modo, podríamos descartar variables.\n",
    "\n",
    "Si dibujamos las dos variables gdp y unempl ¿se observa relación entre ellas? ¿podemos utilizar alguna medida de relación para identificar si están relacionadas?"
   ]
  },
  {
   "cell_type": "code",
   "execution_count": null,
   "metadata": {
    "collapsed": false
   },
   "outputs": [],
   "source": []
  }
 ],
 "metadata": {
  "anaconda-cloud": {},
  "kernelspec": {
   "display_name": "Python [py27]",
   "language": "python",
   "name": "Python [py27]"
  },
  "language_info": {
   "codemirror_mode": {
    "name": "ipython",
    "version": 2
   },
   "file_extension": ".py",
   "mimetype": "text/x-python",
   "name": "python",
   "nbconvert_exporter": "python",
   "pygments_lexer": "ipython2",
   "version": "2.7.12"
  }
 },
 "nbformat": 4,
 "nbformat_minor": 0
}
