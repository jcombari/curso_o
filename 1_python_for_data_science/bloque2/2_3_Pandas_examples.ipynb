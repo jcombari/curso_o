{
 "cells": [
  {
   "cell_type": "markdown",
   "metadata": {},
   "source": [
    "# Examples of using pandas"
   ]
  },
  {
   "cell_type": "markdown",
   "metadata": {},
   "source": [
    "## Loading datasets"
   ]
  },
  {
   "cell_type": "markdown",
   "metadata": {},
   "source": [
    "First we load a Stata (https://en.wikipedia.org/wiki/Stata) proprietary data file."
   ]
  },
  {
   "cell_type": "code",
   "execution_count": 1,
   "metadata": {
    "collapsed": false,
    "scrolled": true
   },
   "outputs": [
    {
     "name": "stdout",
     "output_type": "stream",
     "text": [
      "1428\n"
     ]
    },
    {
     "data": {
      "text/html": [
       "<div>\n",
       "<table border=\"1\" class=\"dataframe\">\n",
       "  <thead>\n",
       "    <tr style=\"text-align: right;\">\n",
       "      <th></th>\n",
       "      <th>idpatient</th>\n",
       "      <th>entryear</th>\n",
       "      <th>sex</th>\n",
       "      <th>infection</th>\n",
       "    </tr>\n",
       "  </thead>\n",
       "  <tbody>\n",
       "    <tr>\n",
       "      <th>0</th>\n",
       "      <td>1.0</td>\n",
       "      <td>1995.0</td>\n",
       "      <td>Male</td>\n",
       "      <td>HCV+ &amp; HIV-</td>\n",
       "    </tr>\n",
       "    <tr>\n",
       "      <th>1</th>\n",
       "      <td>2.0</td>\n",
       "      <td>1995.0</td>\n",
       "      <td>Male</td>\n",
       "      <td>HCV+ &amp; HIV-</td>\n",
       "    </tr>\n",
       "    <tr>\n",
       "      <th>2</th>\n",
       "      <td>3.0</td>\n",
       "      <td>1995.0</td>\n",
       "      <td>Male</td>\n",
       "      <td>HCV+ &amp; HIV-</td>\n",
       "    </tr>\n",
       "    <tr>\n",
       "      <th>3</th>\n",
       "      <td>4.0</td>\n",
       "      <td>1995.0</td>\n",
       "      <td>Male</td>\n",
       "      <td>HCV+ &amp; HIV-</td>\n",
       "    </tr>\n",
       "    <tr>\n",
       "      <th>4</th>\n",
       "      <td>5.0</td>\n",
       "      <td>1995.0</td>\n",
       "      <td>Male</td>\n",
       "      <td>HCV+ &amp; HIV-</td>\n",
       "    </tr>\n",
       "  </tbody>\n",
       "</table>\n",
       "</div>"
      ],
      "text/plain": [
       "   idpatient  entryear   sex    infection\n",
       "0        1.0    1995.0  Male  HCV+ & HIV-\n",
       "1        2.0    1995.0  Male  HCV+ & HIV-\n",
       "2        3.0    1995.0  Male  HCV+ & HIV-\n",
       "3        4.0    1995.0  Male  HCV+ & HIV-\n",
       "4        5.0    1995.0  Male  HCV+ & HIV-"
      ]
     },
     "execution_count": 1,
     "metadata": {},
     "output_type": "execute_result"
    }
   ],
   "source": [
    "import pandas as pd\n",
    "data1 = pd.read_stata(\"dats.dta\")\n",
    "print data1.size\n",
    "data1.head()"
   ]
  },
  {
   "cell_type": "markdown",
   "metadata": {},
   "source": [
    "Let's find out the values in \"infection\"."
   ]
  },
  {
   "cell_type": "code",
   "execution_count": 2,
   "metadata": {
    "collapsed": false
   },
   "outputs": [
    {
     "data": {
      "text/plain": [
       "[HCV+ & HIV-, HCV+ & HIV+]\n",
       "Categories (2, object): [HCV+ & HIV- < HCV+ & HIV+]"
      ]
     },
     "execution_count": 2,
     "metadata": {},
     "output_type": "execute_result"
    }
   ],
   "source": [
    "data1[\"infection\"].unique()"
   ]
  },
  {
   "cell_type": "code",
   "execution_count": 3,
   "metadata": {
    "collapsed": false
   },
   "outputs": [
    {
     "data": {
      "text/plain": [
       "array([ 1995.,  1996.,  1997.,  1998.,  1999.,  2000.,  2001.,  2002.,\n",
       "        2003.])"
      ]
     },
     "execution_count": 3,
     "metadata": {},
     "output_type": "execute_result"
    }
   ],
   "source": [
    "data1[\"entryear\"].unique()"
   ]
  },
  {
   "cell_type": "markdown",
   "metadata": {},
   "source": [
    "Now let's see the distribution of years and sex."
   ]
  },
  {
   "cell_type": "code",
   "execution_count": 4,
   "metadata": {
    "collapsed": false
   },
   "outputs": [
    {
     "name": "stdout",
     "output_type": "stream",
     "text": [
      "          idpatient  sex  infection\n",
      "entryear                           \n",
      "1995.0           53   53         53\n",
      "1996.0           60   60         60\n",
      "1997.0           63   63         63\n",
      "1998.0           43   43         43\n",
      "1999.0           48   48         48\n",
      "2000.0           30   30         30\n",
      "2001.0           19   19         19\n",
      "2002.0           25   25         25\n",
      "2003.0           16   16         16\n"
     ]
    }
   ],
   "source": [
    "byyear = data1.groupby(\"entryear\")\n",
    "print byyear.count()"
   ]
  },
  {
   "cell_type": "code",
   "execution_count": 5,
   "metadata": {
    "collapsed": false
   },
   "outputs": [
    {
     "name": "stdout",
     "output_type": "stream",
     "text": [
      "          idpatient  sex  infection\n",
      "entryear                           \n",
      "2001.0           19   19         19\n",
      "2002.0           25   25         25\n",
      "2003.0           16   16         16\n"
     ]
    }
   ],
   "source": [
    "some_part = data1[data1[\"entryear\"]>2000]\n",
    "print some_part.groupby(\"entryear\").count()"
   ]
  },
  {
   "cell_type": "code",
   "execution_count": 6,
   "metadata": {
    "collapsed": false
   },
   "outputs": [
    {
     "data": {
      "text/html": [
       "<div>\n",
       "<table border=\"1\" class=\"dataframe\">\n",
       "  <thead>\n",
       "    <tr style=\"text-align: right;\">\n",
       "      <th></th>\n",
       "      <th>idpatient</th>\n",
       "      <th>entryear</th>\n",
       "      <th>infection</th>\n",
       "    </tr>\n",
       "    <tr>\n",
       "      <th>sex</th>\n",
       "      <th></th>\n",
       "      <th></th>\n",
       "      <th></th>\n",
       "    </tr>\n",
       "  </thead>\n",
       "  <tbody>\n",
       "    <tr>\n",
       "      <th>Male</th>\n",
       "      <td>290</td>\n",
       "      <td>290</td>\n",
       "      <td>290</td>\n",
       "    </tr>\n",
       "    <tr>\n",
       "      <th>Female</th>\n",
       "      <td>67</td>\n",
       "      <td>67</td>\n",
       "      <td>67</td>\n",
       "    </tr>\n",
       "  </tbody>\n",
       "</table>\n",
       "</div>"
      ],
      "text/plain": [
       "        idpatient  entryear  infection\n",
       "sex                                   \n",
       "Male          290       290        290\n",
       "Female         67        67         67"
      ]
     },
     "execution_count": 6,
     "metadata": {},
     "output_type": "execute_result"
    }
   ],
   "source": [
    "data1.groupby(\"sex\").count()"
   ]
  },
  {
   "cell_type": "markdown",
   "metadata": {},
   "source": [
    "## Merging datasets"
   ]
  },
  {
   "cell_type": "markdown",
   "metadata": {},
   "source": [
    "Now we have a second dataset with more data."
   ]
  },
  {
   "cell_type": "code",
   "execution_count": 7,
   "metadata": {
    "collapsed": false
   },
   "outputs": [
    {
     "data": {
      "text/html": [
       "<div>\n",
       "<table border=\"1\" class=\"dataframe\">\n",
       "  <thead>\n",
       "    <tr style=\"text-align: right;\">\n",
       "      <th></th>\n",
       "      <th>idpatient\tentryear\tsex\tinfection\ttimeaddic</th>\n",
       "    </tr>\n",
       "  </thead>\n",
       "  <tbody>\n",
       "    <tr>\n",
       "      <th>0</th>\n",
       "      <td>54\\t1996\\tFemale\\tHCV+ &amp; HIV-\\t168</td>\n",
       "    </tr>\n",
       "    <tr>\n",
       "      <th>1</th>\n",
       "      <td>55\\t1996\\tFemale\\tHCV+ &amp; HIV-\\t96</td>\n",
       "    </tr>\n",
       "    <tr>\n",
       "      <th>2</th>\n",
       "      <td>56\\t1996\\tFemale\\tHCV+ &amp; HIV-\\t108</td>\n",
       "    </tr>\n",
       "    <tr>\n",
       "      <th>3</th>\n",
       "      <td>57\\t1996\\tFemale\\tHCV+ &amp; HIV-\\t60</td>\n",
       "    </tr>\n",
       "    <tr>\n",
       "      <th>4</th>\n",
       "      <td>58\\t1996\\tFemale\\tHCV+ &amp; HIV-\\t96</td>\n",
       "    </tr>\n",
       "  </tbody>\n",
       "</table>\n",
       "</div>"
      ],
      "text/plain": [
       "  idpatient\\tentryear\\tsex\\tinfection\\ttimeaddic\n",
       "0             54\\t1996\\tFemale\\tHCV+ & HIV-\\t168\n",
       "1              55\\t1996\\tFemale\\tHCV+ & HIV-\\t96\n",
       "2             56\\t1996\\tFemale\\tHCV+ & HIV-\\t108\n",
       "3              57\\t1996\\tFemale\\tHCV+ & HIV-\\t60\n",
       "4              58\\t1996\\tFemale\\tHCV+ & HIV-\\t96"
      ]
     },
     "execution_count": 7,
     "metadata": {},
     "output_type": "execute_result"
    }
   ],
   "source": [
    "data2 = pd.read_csv(\"TxtDatafile.txt\")\n",
    "data2.head()"
   ]
  },
  {
   "cell_type": "markdown",
   "metadata": {},
   "source": [
    "It seems the data was no CSV(Look at the \\t characters)"
   ]
  },
  {
   "cell_type": "code",
   "execution_count": 8,
   "metadata": {
    "collapsed": false
   },
   "outputs": [
    {
     "name": "stdout",
     "output_type": "stream",
     "text": [
      "1550\n"
     ]
    },
    {
     "data": {
      "text/html": [
       "<div>\n",
       "<table border=\"1\" class=\"dataframe\">\n",
       "  <thead>\n",
       "    <tr style=\"text-align: right;\">\n",
       "      <th></th>\n",
       "      <th>idpatient</th>\n",
       "      <th>entryear</th>\n",
       "      <th>sex</th>\n",
       "      <th>infection</th>\n",
       "      <th>timeaddic</th>\n",
       "    </tr>\n",
       "  </thead>\n",
       "  <tbody>\n",
       "    <tr>\n",
       "      <th>0</th>\n",
       "      <td>54</td>\n",
       "      <td>1996</td>\n",
       "      <td>Female</td>\n",
       "      <td>HCV+ &amp; HIV-</td>\n",
       "      <td>168</td>\n",
       "    </tr>\n",
       "    <tr>\n",
       "      <th>1</th>\n",
       "      <td>55</td>\n",
       "      <td>1996</td>\n",
       "      <td>Female</td>\n",
       "      <td>HCV+ &amp; HIV-</td>\n",
       "      <td>96</td>\n",
       "    </tr>\n",
       "    <tr>\n",
       "      <th>2</th>\n",
       "      <td>56</td>\n",
       "      <td>1996</td>\n",
       "      <td>Female</td>\n",
       "      <td>HCV+ &amp; HIV-</td>\n",
       "      <td>108</td>\n",
       "    </tr>\n",
       "    <tr>\n",
       "      <th>3</th>\n",
       "      <td>57</td>\n",
       "      <td>1996</td>\n",
       "      <td>Female</td>\n",
       "      <td>HCV+ &amp; HIV-</td>\n",
       "      <td>60</td>\n",
       "    </tr>\n",
       "    <tr>\n",
       "      <th>4</th>\n",
       "      <td>58</td>\n",
       "      <td>1996</td>\n",
       "      <td>Female</td>\n",
       "      <td>HCV+ &amp; HIV-</td>\n",
       "      <td>96</td>\n",
       "    </tr>\n",
       "  </tbody>\n",
       "</table>\n",
       "</div>"
      ],
      "text/plain": [
       "   idpatient  entryear     sex    infection  timeaddic\n",
       "0         54      1996  Female  HCV+ & HIV-        168\n",
       "1         55      1996  Female  HCV+ & HIV-         96\n",
       "2         56      1996  Female  HCV+ & HIV-        108\n",
       "3         57      1996  Female  HCV+ & HIV-         60\n",
       "4         58      1996  Female  HCV+ & HIV-         96"
      ]
     },
     "execution_count": 8,
     "metadata": {},
     "output_type": "execute_result"
    }
   ],
   "source": [
    "data2 = pd.read_table(\"TxtDatafile.txt\")\n",
    "print data2.size\n",
    "data2.head()"
   ]
  },
  {
   "cell_type": "markdown",
   "metadata": {},
   "source": [
    "We see there is an additional field. What about the range of patient ids? The size of the datasets are the same, so they are not exactly the same sample. Let's first try to retain all the information."
   ]
  },
  {
   "cell_type": "code",
   "execution_count": 9,
   "metadata": {
    "collapsed": false
   },
   "outputs": [
    {
     "name": "stdout",
     "output_type": "stream",
     "text": [
      "1815\n"
     ]
    },
    {
     "data": {
      "text/html": [
       "<div>\n",
       "<table border=\"1\" class=\"dataframe\">\n",
       "  <thead>\n",
       "    <tr style=\"text-align: right;\">\n",
       "      <th></th>\n",
       "      <th>idpatient</th>\n",
       "      <th>entryear</th>\n",
       "      <th>sex</th>\n",
       "      <th>infection</th>\n",
       "      <th>timeaddic</th>\n",
       "    </tr>\n",
       "  </thead>\n",
       "  <tbody>\n",
       "    <tr>\n",
       "      <th>0</th>\n",
       "      <td>1.0</td>\n",
       "      <td>1995.0</td>\n",
       "      <td>Male</td>\n",
       "      <td>HCV+ &amp; HIV-</td>\n",
       "      <td>NaN</td>\n",
       "    </tr>\n",
       "    <tr>\n",
       "      <th>1</th>\n",
       "      <td>2.0</td>\n",
       "      <td>1995.0</td>\n",
       "      <td>Male</td>\n",
       "      <td>HCV+ &amp; HIV-</td>\n",
       "      <td>NaN</td>\n",
       "    </tr>\n",
       "    <tr>\n",
       "      <th>2</th>\n",
       "      <td>3.0</td>\n",
       "      <td>1995.0</td>\n",
       "      <td>Male</td>\n",
       "      <td>HCV+ &amp; HIV-</td>\n",
       "      <td>NaN</td>\n",
       "    </tr>\n",
       "    <tr>\n",
       "      <th>3</th>\n",
       "      <td>4.0</td>\n",
       "      <td>1995.0</td>\n",
       "      <td>Male</td>\n",
       "      <td>HCV+ &amp; HIV-</td>\n",
       "      <td>NaN</td>\n",
       "    </tr>\n",
       "    <tr>\n",
       "      <th>4</th>\n",
       "      <td>5.0</td>\n",
       "      <td>1995.0</td>\n",
       "      <td>Male</td>\n",
       "      <td>HCV+ &amp; HIV-</td>\n",
       "      <td>NaN</td>\n",
       "    </tr>\n",
       "  </tbody>\n",
       "</table>\n",
       "</div>"
      ],
      "text/plain": [
       "   idpatient  entryear   sex    infection  timeaddic\n",
       "0        1.0    1995.0  Male  HCV+ & HIV-        NaN\n",
       "1        2.0    1995.0  Male  HCV+ & HIV-        NaN\n",
       "2        3.0    1995.0  Male  HCV+ & HIV-        NaN\n",
       "3        4.0    1995.0  Male  HCV+ & HIV-        NaN\n",
       "4        5.0    1995.0  Male  HCV+ & HIV-        NaN"
      ]
     },
     "execution_count": 9,
     "metadata": {},
     "output_type": "execute_result"
    }
   ],
   "source": [
    "data = data1.merge(data2, how=\"outer\")\n",
    "print data.size\n",
    "data.head()"
   ]
  },
  {
   "cell_type": "markdown",
   "metadata": {},
   "source": [
    "This means there was info on patients in each dataset with no match in the other. We can see that info:"
   ]
  },
  {
   "cell_type": "code",
   "execution_count": 10,
   "metadata": {
    "collapsed": false
   },
   "outputs": [
    {
     "data": {
      "text/plain": [
       "265"
      ]
     },
     "execution_count": 10,
     "metadata": {},
     "output_type": "execute_result"
    }
   ],
   "source": [
    "missingtime = data[pd.isnull(data[\"timeaddic\"])]\n",
    "missingtime.size"
   ]
  },
  {
   "cell_type": "markdown",
   "metadata": {},
   "source": [
    "We can then drop rows that contain any NA values, this is the default behaviour of dropna()"
   ]
  },
  {
   "cell_type": "code",
   "execution_count": 11,
   "metadata": {
    "collapsed": false
   },
   "outputs": [
    {
     "name": "stdout",
     "output_type": "stream",
     "text": [
      "1550\n"
     ]
    },
    {
     "data": {
      "text/html": [
       "<div>\n",
       "<table border=\"1\" class=\"dataframe\">\n",
       "  <thead>\n",
       "    <tr style=\"text-align: right;\">\n",
       "      <th></th>\n",
       "      <th>idpatient</th>\n",
       "      <th>entryear</th>\n",
       "      <th>sex</th>\n",
       "      <th>infection</th>\n",
       "      <th>timeaddic</th>\n",
       "    </tr>\n",
       "  </thead>\n",
       "  <tbody>\n",
       "    <tr>\n",
       "      <th>53</th>\n",
       "      <td>54.0</td>\n",
       "      <td>1996.0</td>\n",
       "      <td>Female</td>\n",
       "      <td>HCV+ &amp; HIV-</td>\n",
       "      <td>168.0</td>\n",
       "    </tr>\n",
       "    <tr>\n",
       "      <th>54</th>\n",
       "      <td>55.0</td>\n",
       "      <td>1996.0</td>\n",
       "      <td>Female</td>\n",
       "      <td>HCV+ &amp; HIV-</td>\n",
       "      <td>96.0</td>\n",
       "    </tr>\n",
       "    <tr>\n",
       "      <th>55</th>\n",
       "      <td>56.0</td>\n",
       "      <td>1996.0</td>\n",
       "      <td>Female</td>\n",
       "      <td>HCV+ &amp; HIV-</td>\n",
       "      <td>108.0</td>\n",
       "    </tr>\n",
       "    <tr>\n",
       "      <th>56</th>\n",
       "      <td>57.0</td>\n",
       "      <td>1996.0</td>\n",
       "      <td>Female</td>\n",
       "      <td>HCV+ &amp; HIV-</td>\n",
       "      <td>60.0</td>\n",
       "    </tr>\n",
       "    <tr>\n",
       "      <th>57</th>\n",
       "      <td>58.0</td>\n",
       "      <td>1996.0</td>\n",
       "      <td>Female</td>\n",
       "      <td>HCV+ &amp; HIV-</td>\n",
       "      <td>96.0</td>\n",
       "    </tr>\n",
       "  </tbody>\n",
       "</table>\n",
       "</div>"
      ],
      "text/plain": [
       "    idpatient  entryear     sex    infection  timeaddic\n",
       "53       54.0    1996.0  Female  HCV+ & HIV-      168.0\n",
       "54       55.0    1996.0  Female  HCV+ & HIV-       96.0\n",
       "55       56.0    1996.0  Female  HCV+ & HIV-      108.0\n",
       "56       57.0    1996.0  Female  HCV+ & HIV-       60.0\n",
       "57       58.0    1996.0  Female  HCV+ & HIV-       96.0"
      ]
     },
     "execution_count": 11,
     "metadata": {},
     "output_type": "execute_result"
    }
   ],
   "source": [
    "data = data.dropna()\n",
    "print data.size\n",
    "data.head()"
   ]
  },
  {
   "cell_type": "markdown",
   "metadata": {},
   "source": [
    "## Visualizing via pandas"
   ]
  },
  {
   "cell_type": "markdown",
   "metadata": {},
   "source": [
    "Pandas incorporates some methods to create plots using matplotlib behind the scenes. We can plot the whole dataframe, but in this case it will be nonsensical."
   ]
  },
  {
   "cell_type": "code",
   "execution_count": 12,
   "metadata": {
    "collapsed": false
   },
   "outputs": [
    {
     "name": "stderr",
     "output_type": "stream",
     "text": [
      "/Users/msicilia/anaconda3/envs/py27/lib/python2.7/site-packages/matplotlib/font_manager.py:273: UserWarning: Matplotlib is building the font cache using fc-list. This may take a moment.\n",
      "  warnings.warn('Matplotlib is building the font cache using fc-list. This may take a moment.')\n"
     ]
    },
    {
     "data": {
      "text/plain": [
       "<matplotlib.axes._subplots.AxesSubplot at 0x1122787d0>"
      ]
     },
     "execution_count": 12,
     "metadata": {},
     "output_type": "execute_result"
    },
    {
     "data": {
      "image/png": "[encoded data removed]",
      "text/plain": [
       "<matplotlib.figure.Figure at 0x1120b6fd0>"
      ]
     },
     "metadata": {},
     "output_type": "display_data"
    }
   ],
   "source": [
    "%matplotlib inline\n",
    "data.plot()"
   ]
  },
  {
   "cell_type": "code",
   "execution_count": 13,
   "metadata": {
    "collapsed": false
   },
   "outputs": [
    {
     "data": {
      "text/plain": [
       "array([<matplotlib.axes._subplots.AxesSubplot object at 0x1122ae490>,\n",
       "       <matplotlib.axes._subplots.AxesSubplot object at 0x114c6ba50>,\n",
       "       <matplotlib.axes._subplots.AxesSubplot object at 0x114cebe50>], dtype=object)"
      ]
     },
     "execution_count": 13,
     "metadata": {},
     "output_type": "execute_result"
    },
    {
     "data": {
      "image/png": "[encoded data removed]",
      "text/plain": [
       "<matplotlib.figure.Figure at 0x114720150>"
      ]
     },
     "metadata": {},
     "output_type": "display_data"
    }
   ],
   "source": [
    "data.plot(subplots=True, kind=\"hist\", bins=100)"
   ]
  },
  {
   "cell_type": "markdown",
   "metadata": {},
   "source": [
    "As we see, unless the data is in similar ranges it makes sense to plot it individually."
   ]
  },
  {
   "cell_type": "code",
   "execution_count": 14,
   "metadata": {
    "collapsed": false
   },
   "outputs": [
    {
     "data": {
      "text/plain": [
       "<matplotlib.axes._subplots.AxesSubplot at 0x114e2fc90>"
      ]
     },
     "execution_count": 14,
     "metadata": {},
     "output_type": "execute_result"
    },
    {
     "data": {
      "image/png": "[encoded data removed]",
      "text/plain": [
       "<matplotlib.figure.Figure at 0x114dabe10>"
      ]
     },
     "metadata": {},
     "output_type": "display_data"
    }
   ],
   "source": [
    "data.plot(y=\"timeaddic\", kind=\"hist\", bins=100)"
   ]
  },
  {
   "cell_type": "markdown",
   "metadata": {},
   "source": [
    "We see a single data point that clearly appeas as an outlier."
   ]
  },
  {
   "cell_type": "code",
   "execution_count": 15,
   "metadata": {
    "collapsed": false
   },
   "outputs": [
    {
     "name": "stdout",
     "output_type": "stream",
     "text": [
      "9999.0\n",
      "78\n"
     ]
    },
    {
     "data": {
      "text/plain": [
       "idpatient             79\n",
       "entryear            1996\n",
       "sex                 Male\n",
       "infection    HCV+ & HIV-\n",
       "timeaddic           9999\n",
       "Name: 78, dtype: object"
      ]
     },
     "execution_count": 15,
     "metadata": {},
     "output_type": "execute_result"
    }
   ],
   "source": [
    "# The maximum value:\n",
    "print data[\"timeaddic\"].max()\n",
    "# And the position of that value:\n",
    "print data[\"timeaddic\"].argmax()\n",
    "data.ix[78]"
   ]
  },
  {
   "cell_type": "markdown",
   "metadata": {},
   "source": [
    "Then we can exclude that value from the visualization."
   ]
  },
  {
   "cell_type": "code",
   "execution_count": 16,
   "metadata": {
    "collapsed": false
   },
   "outputs": [
    {
     "data": {
      "text/plain": [
       "<matplotlib.axes._subplots.AxesSubplot at 0x11624df50>"
      ]
     },
     "execution_count": 16,
     "metadata": {},
     "output_type": "execute_result"
    },
    {
     "data": {
      "image/png": "[encoded data removed]",
      "text/plain": [
       "<matplotlib.figure.Figure at 0x11638b550>"
      ]
     },
     "metadata": {},
     "output_type": "display_data"
    }
   ],
   "source": [
    "dataclean = data[data[\"timeaddic\"]<9999]\n",
    "dataclean.plot(y=\"timeaddic\", kind=\"hist\", bins=50)"
   ]
  },
  {
   "cell_type": "markdown",
   "metadata": {},
   "source": [
    "## Using subsets "
   ]
  },
  {
   "cell_type": "markdown",
   "metadata": {},
   "source": [
    "The grouping in pandas allows for studying different sub-samples easily."
   ]
  },
  {
   "cell_type": "code",
   "execution_count": 17,
   "metadata": {
    "collapsed": false
   },
   "outputs": [
    {
     "name": "stderr",
     "output_type": "stream",
     "text": [
      "/Users/msicilia/anaconda3/envs/py27/lib/python2.7/site-packages/pandas/tools/plotting.py:3082: FutureWarning: \n",
      "The default value for 'return_type' will change to 'axes' in a future release.\n",
      " To use the future behavior now, set return_type='axes'.\n",
      " To keep the previous behavior and silence this warning, set return_type='dict'.\n",
      "  rot=rot, grid=grid, **kwds)\n"
     ]
    },
    {
     "data": {
      "text/plain": [
       "OrderedDict([('HCV+ & HIV+',\n",
       "              {'boxes': [<matplotlib.lines.Line2D at 0x116ad1c10>],\n",
       "               'caps': [<matplotlib.lines.Line2D at 0x116adf9d0>,\n",
       "                <matplotlib.lines.Line2D at 0x116aeb050>],\n",
       "               'fliers': [<matplotlib.lines.Line2D at 0x116ad1490>],\n",
       "               'means': [],\n",
       "               'medians': [<matplotlib.lines.Line2D at 0x116ad1610>],\n",
       "               'whiskers': [<matplotlib.lines.Line2D at 0x116ad1d10>,\n",
       "                <matplotlib.lines.Line2D at 0x116adf390>]}),\n",
       "             ('HCV+ & HIV-',\n",
       "              {'boxes': [<matplotlib.lines.Line2D at 0x116a7c590>],\n",
       "               'caps': [<matplotlib.lines.Line2D at 0x116a53e90>,\n",
       "                <matplotlib.lines.Line2D at 0x116a47c90>],\n",
       "               'fliers': [<matplotlib.lines.Line2D at 0x116853d10>],\n",
       "               'means': [],\n",
       "               'medians': [<matplotlib.lines.Line2D at 0x116968c50>],\n",
       "               'whiskers': [<matplotlib.lines.Line2D at 0x116a7c250>,\n",
       "                <matplotlib.lines.Line2D at 0x116a68290>]})])"
      ]
     },
     "execution_count": 17,
     "metadata": {},
     "output_type": "execute_result"
    },
    {
     "data": {
      "image/png": "[encoded data removed]",
      "text/plain": [
       "<matplotlib.figure.Figure at 0x114e21f50>"
      ]
     },
     "metadata": {},
     "output_type": "display_data"
    }
   ],
   "source": [
    "bydisease = dataclean.groupby(\"infection\")\n",
    "bydisease.boxplot(column=\"timeaddic\")"
   ]
  },
  {
   "cell_type": "markdown",
   "metadata": {},
   "source": [
    "Let's check if the mean of both subpopulations is the same."
   ]
  },
  {
   "cell_type": "code",
   "execution_count": 18,
   "metadata": {
    "collapsed": false
   },
   "outputs": [
    {
     "name": "stdout",
     "output_type": "stream",
     "text": [
      "0.00200590028439\n",
      "Difference!\n"
     ]
    }
   ],
   "source": [
    "from scipy.stats import ttest_ind\n",
    "g1, g2 = bydisease.groups.values()\n",
    "ts, p = ttest_ind(g1, g2)\n",
    "print p\n",
    "print 'Difference!' if p < 0.05 else 'No difference'"
   ]
  },
  {
   "cell_type": "markdown",
   "metadata": {},
   "source": [
    "From the doc of ttest_ind: If the p-value is smaller than the threshold, e.g. 1%, 5% or 10%, then we reject the null hypothesis of equal averages."
   ]
  },
  {
   "cell_type": "markdown",
   "metadata": {},
   "source": [
    "We can also use categorical variables to create multiplots."
   ]
  },
  {
   "cell_type": "code",
   "execution_count": 19,
   "metadata": {
    "collapsed": false
   },
   "outputs": [
    {
     "data": {
      "text/plain": [
       "array([[<matplotlib.axes._subplots.AxesSubplot object at 0x10392ff50>,\n",
       "        <matplotlib.axes._subplots.AxesSubplot object at 0x1038ac5d0>,\n",
       "        <matplotlib.axes._subplots.AxesSubplot object at 0x118e22450>],\n",
       "       [<matplotlib.axes._subplots.AxesSubplot object at 0x119497650>,\n",
       "        <matplotlib.axes._subplots.AxesSubplot object at 0x1195d94d0>,\n",
       "        <matplotlib.axes._subplots.AxesSubplot object at 0x11975f690>],\n",
       "       [<matplotlib.axes._subplots.AxesSubplot object at 0x1197e2790>,\n",
       "        <matplotlib.axes._subplots.AxesSubplot object at 0x119781290>,\n",
       "        <matplotlib.axes._subplots.AxesSubplot object at 0x11c189650>]], dtype=object)"
      ]
     },
     "execution_count": 19,
     "metadata": {},
     "output_type": "execute_result"
    },
    {
     "data": {
      "image/png": "[encoded data removed]",
      "text/plain": [
       "<matplotlib.figure.Figure at 0x10392f690>"
      ]
     },
     "metadata": {},
     "output_type": "display_data"
    }
   ],
   "source": [
    "from pandas.tools.plotting import scatter_matrix\n",
    "import statsmodels.api as sm\n",
    "\n",
    "duncan_prestige = sm.datasets.get_rdataset(\"Duncan\", \"car\").data\n",
    "\n",
    "# print duncan_prestige.__doc__\n",
    "\n",
    "scatter_matrix(duncan_prestige)"
   ]
  },
  {
   "cell_type": "markdown",
   "metadata": {},
   "source": [
    "## A glimpse to statmodels"
   ]
  },
  {
   "cell_type": "markdown",
   "metadata": {},
   "source": [
    "In statistical libraries and machine learning, data can be specified via formulas or via selection of columns."
   ]
  },
  {
   "cell_type": "markdown",
   "metadata": {},
   "source": [
    "More info at: http://statsmodels.sourceforge.net/documentation.html"
   ]
  },
  {
   "cell_type": "code",
   "execution_count": 20,
   "metadata": {
    "collapsed": false
   },
   "outputs": [
    {
     "data": {
      "text/html": [
       "<div>\n",
       "<table border=\"1\" class=\"dataframe\">\n",
       "  <thead>\n",
       "    <tr style=\"text-align: right;\">\n",
       "      <th></th>\n",
       "      <th>Lottery</th>\n",
       "      <th>Literacy</th>\n",
       "      <th>Wealth</th>\n",
       "      <th>Region</th>\n",
       "    </tr>\n",
       "  </thead>\n",
       "  <tbody>\n",
       "    <tr>\n",
       "      <th>0</th>\n",
       "      <td>41</td>\n",
       "      <td>37</td>\n",
       "      <td>73</td>\n",
       "      <td>E</td>\n",
       "    </tr>\n",
       "    <tr>\n",
       "      <th>1</th>\n",
       "      <td>38</td>\n",
       "      <td>51</td>\n",
       "      <td>22</td>\n",
       "      <td>N</td>\n",
       "    </tr>\n",
       "    <tr>\n",
       "      <th>2</th>\n",
       "      <td>66</td>\n",
       "      <td>13</td>\n",
       "      <td>61</td>\n",
       "      <td>C</td>\n",
       "    </tr>\n",
       "    <tr>\n",
       "      <th>3</th>\n",
       "      <td>80</td>\n",
       "      <td>46</td>\n",
       "      <td>76</td>\n",
       "      <td>E</td>\n",
       "    </tr>\n",
       "    <tr>\n",
       "      <th>4</th>\n",
       "      <td>79</td>\n",
       "      <td>69</td>\n",
       "      <td>83</td>\n",
       "      <td>E</td>\n",
       "    </tr>\n",
       "  </tbody>\n",
       "</table>\n",
       "</div>"
      ],
      "text/plain": [
       "   Lottery  Literacy  Wealth Region\n",
       "0       41        37      73      E\n",
       "1       38        51      22      N\n",
       "2       66        13      61      C\n",
       "3       80        46      76      E\n",
       "4       79        69      83      E"
      ]
     },
     "execution_count": 20,
     "metadata": {},
     "output_type": "execute_result"
    }
   ],
   "source": [
    "import statsmodels.formula.api as smf\n",
    "import statsmodels.api as sm\n",
    "# Get a dataset from R collection:\n",
    "df = sm.datasets.get_rdataset(\"Guerry\", \"HistData\").data\n",
    "# Select some fields:\n",
    "df = df[['Lottery', 'Literacy', 'Wealth', 'Region']].dropna()\n",
    "df.head()"
   ]
  },
  {
   "cell_type": "code",
   "execution_count": 21,
   "metadata": {
    "collapsed": false
   },
   "outputs": [
    {
     "name": "stdout",
     "output_type": "stream",
     "text": [
      "Intercept    39.797879\n",
      "Literacy     -0.378007\n",
      "Wealth        0.413826\n",
      "dtype: float64\n",
      "0.308778740779\n"
     ]
    }
   ],
   "source": [
    "mod = smf.ols(formula='Lottery ~ Literacy + Wealth', data=df)\n",
    "res = mod.fit()\n",
    "print res.params\n",
    "print res.rsquared"
   ]
  },
  {
   "cell_type": "code",
   "execution_count": 22,
   "metadata": {
    "collapsed": false
   },
   "outputs": [
    {
     "name": "stdout",
     "output_type": "stream",
     "text": [
      "Literacy    0.181394\n",
      "Wealth      0.749521\n",
      "dtype: float64\n",
      "0.776785535712\n"
     ]
    }
   ],
   "source": [
    "y = df['Lottery']\n",
    "X = df[['Literacy', 'Wealth']]\n",
    "mod2 = sm.OLS(y,X)\n",
    "res = mod2.fit()\n",
    "print res.params\n",
    "print res.rsquared"
   ]
  },
  {
   "cell_type": "code",
   "execution_count": null,
   "metadata": {
    "collapsed": true
   },
   "outputs": [],
   "source": []
  }
 ],
 "metadata": {
  "kernelspec": {
   "display_name": "Python [py27]",
   "language": "python",
   "name": "Python [py27]"
  },
  "language_info": {
   "codemirror_mode": {
    "name": "ipython",
    "version": 2
   },
   "file_extension": ".py",
   "mimetype": "text/x-python",
   "name": "python",
   "nbconvert_exporter": "python",
   "pygments_lexer": "ipython2",
   "version": "2.7.12"
  }
 },
 "nbformat": 4,
 "nbformat_minor": 0
}
