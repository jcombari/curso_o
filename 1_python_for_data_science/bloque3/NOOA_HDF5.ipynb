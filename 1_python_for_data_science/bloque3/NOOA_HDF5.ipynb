{
 "cells": [
  {
   "cell_type": "markdown",
   "metadata": {},
   "source": [
    "# Comparando temperaturas con HDF5"
   ]
  },
  {
   "cell_type": "markdown",
   "metadata": {},
   "source": [
    "## El dataset"
   ]
  },
  {
   "cell_type": "markdown",
   "metadata": {},
   "source": [
    "El organismo NOOA de los Estados Unidos proporciona datasets de diferentes medidas climatológicas descargables desde su página:\n",
    "\n",
    "http://www.ncdc.noaa.gov/data-access/land-based-station-data/land-based-datasets\n",
    "\n",
    "Comenzaremos descargando datos de las series **Quality Controlled Local Climatological Data (QCLCD)**, que como su nombre indica, han sido objeto de control de calidad. \n",
    "\n",
    "En su página de descargas:\n",
    "http://www.ncdc.noaa.gov/orders/qclcd/\n",
    "\n",
    "Vemos que organiza los datos como un fichero comprimido por año y mes. Los ficheros comprimidos son relativamente grandes, entre 30 y 80 MB. \n"
   ]
  },
  {
   "cell_type": "markdown",
   "metadata": {},
   "source": [
    "## La comparación\n",
    "    "
   ]
  },
  {
   "cell_type": "markdown",
   "metadata": {},
   "source": [
    "Vamos a comparar los datos del mes de junio de varios años.\n",
    "Cada mes cuenta con los siguientes ficheros (entre otros que no tratamos aquí):\n",
    "* *AAAAMMdaily.txt* : Los datos por cada día y estación\n",
    "* *AAAAMMhourly.txt* : Los datos por cada día, hora y estación.\n",
    "* *AAAAMMmonthly.txt* : Los datos del mes por estación.\n",
    "\n",
    "Donde *AAAMM* es año y mes.\n",
    "\n",
    "Lógicamente, el tamaño para mayores niveles de detalle crece de manera acorde, el nivel horario son varios cientos de MB por ejemplo.\n"
   ]
  },
  {
   "cell_type": "markdown",
   "metadata": {},
   "source": [
    "## Pasando los datos a HDF5"
   ]
  },
  {
   "cell_type": "markdown",
   "metadata": {},
   "source": [
    "Dado que un fichero HDF5 puede contener una estructura de carpetas arbitraria, utilizamos un solo fichero para guardar todos los datos. Podemos replicar la estructura de NOOA para poder actualizarlo de acuerdo a sus mismas convenciones."
   ]
  },
  {
   "cell_type": "code",
   "execution_count": 1,
   "metadata": {
    "collapsed": false
   },
   "outputs": [
    {
     "name": "stdout",
     "output_type": "stream",
     "text": [
      "nooa.h5 (File) 'NOOA QCLCD data'\n",
      "Last modif.: 'Tue Nov  8 14:57:28 2016'\n",
      "Object Tree: \n",
      "/ (RootGroup) 'NOOA QCLCD data'\n",
      "/qclcd200706 (Group) 'Datos NOOA QCLCD June 2007'\n",
      "/qclcd200906 (Group) 'Datos NOOA QCLCD June 2009'\n",
      "/qclcd201006 (Group) 'Datos NOOA QCLCD June 2010'\n",
      "/qclcd201106 (Group) 'Datos NOOA QCLCD June 2011'\n",
      "/qclcd201206 (Group) 'Datos NOOA QCLCD June 2012'\n",
      "/qclcd201606 (Group) 'Datos NOOA QCLCD June 2016'\n",
      "\n"
     ]
    }
   ],
   "source": [
    "import os\n",
    "import tables as tb\n",
    "import numpy as np\n",
    "import pandas as pd\n",
    "try:\n",
    "    os.remove(\"nooa.h5\")\n",
    "except OSError:\n",
    "    pass\n",
    "    \n",
    "f = tb.open_file(\"nooa.h5\", \"w\", title=\"NOOA QCLCD data\")\n",
    "# Tomamos como ejemplo solo datos de unos meses concretos:\n",
    "f.create_group(\"/\", \"qclcd201606\", \"Datos NOOA QCLCD June 2016\")\n",
    "f.create_group(\"/\", \"qclcd201006\", \"Datos NOOA QCLCD June 2010\")\n",
    "f.create_group(\"/\", \"qclcd201106\", \"Datos NOOA QCLCD June 2011\")\n",
    "f.create_group(\"/\", \"qclcd201206\", \"Datos NOOA QCLCD June 2012\")\n",
    "f.create_group(\"/\", \"qclcd200906\", \"Datos NOOA QCLCD June 2009\")\n",
    "f.create_group(\"/\", \"qclcd200706\", \"Datos NOOA QCLCD June 2007\")\n",
    "\n",
    "# etc.\n",
    "print f\n",
    "f.close()"
   ]
  },
  {
   "cell_type": "markdown",
   "metadata": {},
   "source": [
    "La lectura de los ficheros se puede hacer por bloques, utilizando el parámetro <code>chunksize</code> de <code>read_csv</code>. Esto hace que el fichero se lea en fragmentos del número de filas especificado. Este parámetro puede perfilarse para mejorar la eficiencia de la lectura si se necesitase."
   ]
  },
  {
   "cell_type": "markdown",
   "metadata": {},
   "source": [
    "Podemos comprobar que se lee correctamente pidiendo solo las primeras lineas. "
   ]
  },
  {
   "cell_type": "code",
   "execution_count": 2,
   "metadata": {
    "collapsed": false
   },
   "outputs": [
    {
     "data": {
      "text/html": [
       "<div>\n",
       "<table border=\"1\" class=\"dataframe\">\n",
       "  <thead>\n",
       "    <tr style=\"text-align: right;\">\n",
       "      <th></th>\n",
       "      <th>WBAN</th>\n",
       "      <th>YearMonth</th>\n",
       "      <th>AvgMaxTemp</th>\n",
       "      <th>DepartureMaxTemp</th>\n",
       "      <th>AvgMinTemp</th>\n",
       "      <th>DepartureMinTemp</th>\n",
       "      <th>AvgTemp</th>\n",
       "      <th>DeparturefromNormal</th>\n",
       "      <th>AvgDewPoint</th>\n",
       "      <th>AvgWetBulb</th>\n",
       "      <th>...</th>\n",
       "      <th>HeavyFogDays</th>\n",
       "      <th>DaysWithPrecip&gt;=.01inch</th>\n",
       "      <th>DaysWithPrecip&gt;=.10inch</th>\n",
       "      <th>DaysWithSnowfall&gt;=1.0inch</th>\n",
       "      <th>WaterEquivalent</th>\n",
       "      <th>ResultantWindSpeed</th>\n",
       "      <th>ResultantWindDirection</th>\n",
       "      <th>AvgWindSpeed</th>\n",
       "      <th>AvgHDD</th>\n",
       "      <th>AvgCDD</th>\n",
       "    </tr>\n",
       "  </thead>\n",
       "  <tbody>\n",
       "    <tr>\n",
       "      <th>0</th>\n",
       "      <td>3013</td>\n",
       "      <td>201206</td>\n",
       "      <td>98.0</td>\n",
       "      <td>M</td>\n",
       "      <td>61.3</td>\n",
       "      <td>M</td>\n",
       "      <td>79.7</td>\n",
       "      <td>M</td>\n",
       "      <td>45.2</td>\n",
       "      <td>60.2</td>\n",
       "      <td>...</td>\n",
       "      <td>0</td>\n",
       "      <td>4</td>\n",
       "      <td>3</td>\n",
       "      <td>M</td>\n",
       "      <td>M</td>\n",
       "      <td>6.8</td>\n",
       "      <td>17</td>\n",
       "      <td>13.3</td>\n",
       "      <td>0.0</td>\n",
       "      <td>14.9</td>\n",
       "    </tr>\n",
       "    <tr>\n",
       "      <th>1</th>\n",
       "      <td>3016</td>\n",
       "      <td>201206</td>\n",
       "      <td>M</td>\n",
       "      <td>M</td>\n",
       "      <td>M</td>\n",
       "      <td>M</td>\n",
       "      <td>M</td>\n",
       "      <td>M</td>\n",
       "      <td>26.4</td>\n",
       "      <td>49.7</td>\n",
       "      <td>...</td>\n",
       "      <td>0</td>\n",
       "      <td>M</td>\n",
       "      <td>M</td>\n",
       "      <td>M</td>\n",
       "      <td>M</td>\n",
       "      <td>3.3</td>\n",
       "      <td>25</td>\n",
       "      <td>7.7</td>\n",
       "      <td>0.3</td>\n",
       "      <td>7.0</td>\n",
       "    </tr>\n",
       "    <tr>\n",
       "      <th>2</th>\n",
       "      <td>3017</td>\n",
       "      <td>201206</td>\n",
       "      <td>91.7</td>\n",
       "      <td>9.3</td>\n",
       "      <td>58.0</td>\n",
       "      <td>5.7</td>\n",
       "      <td>74.9</td>\n",
       "      <td>7.5</td>\n",
       "      <td>35.8</td>\n",
       "      <td>54.3</td>\n",
       "      <td>...</td>\n",
       "      <td>0</td>\n",
       "      <td>2</td>\n",
       "      <td>2</td>\n",
       "      <td>0</td>\n",
       "      <td>M</td>\n",
       "      <td>4.9</td>\n",
       "      <td>17</td>\n",
       "      <td>12.2</td>\n",
       "      <td>M</td>\n",
       "      <td>M</td>\n",
       "    </tr>\n",
       "    <tr>\n",
       "      <th>3</th>\n",
       "      <td>3024</td>\n",
       "      <td>201206</td>\n",
       "      <td>95.1</td>\n",
       "      <td>M</td>\n",
       "      <td>68.7</td>\n",
       "      <td>M</td>\n",
       "      <td>81.9</td>\n",
       "      <td>M</td>\n",
       "      <td>52.9</td>\n",
       "      <td>64.2</td>\n",
       "      <td>...</td>\n",
       "      <td>0</td>\n",
       "      <td>5</td>\n",
       "      <td>4</td>\n",
       "      <td>M</td>\n",
       "      <td>M</td>\n",
       "      <td>7.4</td>\n",
       "      <td>17</td>\n",
       "      <td>11.6</td>\n",
       "      <td>0.0</td>\n",
       "      <td>17.2</td>\n",
       "    </tr>\n",
       "    <tr>\n",
       "      <th>4</th>\n",
       "      <td>3026</td>\n",
       "      <td>201206</td>\n",
       "      <td>92.2</td>\n",
       "      <td>M</td>\n",
       "      <td>59.1</td>\n",
       "      <td>M</td>\n",
       "      <td>75.7</td>\n",
       "      <td>M</td>\n",
       "      <td>47.3</td>\n",
       "      <td>59.4</td>\n",
       "      <td>...</td>\n",
       "      <td>0</td>\n",
       "      <td>6</td>\n",
       "      <td>3</td>\n",
       "      <td>M</td>\n",
       "      <td>M</td>\n",
       "      <td>7.6</td>\n",
       "      <td>17</td>\n",
       "      <td>14.3</td>\n",
       "      <td>0.0</td>\n",
       "      <td>11.0</td>\n",
       "    </tr>\n",
       "  </tbody>\n",
       "</table>\n",
       "<p>5 rows × 50 columns</p>\n",
       "</div>"
      ],
      "text/plain": [
       "   WBAN  YearMonth AvgMaxTemp DepartureMaxTemp AvgMinTemp DepartureMinTemp  \\\n",
       "0  3013     201206       98.0                M       61.3                M   \n",
       "1  3016     201206          M                M          M                M   \n",
       "2  3017     201206       91.7              9.3       58.0              5.7   \n",
       "3  3024     201206       95.1                M       68.7                M   \n",
       "4  3026     201206       92.2                M       59.1                M   \n",
       "\n",
       "  AvgTemp DeparturefromNormal  AvgDewPoint  AvgWetBulb  ...   HeavyFogDays  \\\n",
       "0    79.7                   M         45.2        60.2  ...              0   \n",
       "1       M                   M         26.4        49.7  ...              0   \n",
       "2    74.9                 7.5         35.8        54.3  ...              0   \n",
       "3    81.9                   M         52.9        64.2  ...              0   \n",
       "4    75.7                   M         47.3        59.4  ...              0   \n",
       "\n",
       "  DaysWithPrecip>=.01inch DaysWithPrecip>=.10inch DaysWithSnowfall>=1.0inch  \\\n",
       "0                       4                       3                         M   \n",
       "1                       M                       M                         M   \n",
       "2                       2                       2                         0   \n",
       "3                       5                       4                         M   \n",
       "4                       6                       3                         M   \n",
       "\n",
       "  WaterEquivalent ResultantWindSpeed ResultantWindDirection AvgWindSpeed  \\\n",
       "0               M                6.8                     17         13.3   \n",
       "1               M                3.3                     25          7.7   \n",
       "2               M                4.9                     17         12.2   \n",
       "3               M                7.4                     17         11.6   \n",
       "4               M                7.6                     17         14.3   \n",
       "\n",
       "  AvgHDD AvgCDD  \n",
       "0    0.0   14.9  \n",
       "1    0.3    7.0  \n",
       "2      M      M  \n",
       "3    0.0   17.2  \n",
       "4    0.0   11.0  \n",
       "\n",
       "[5 rows x 50 columns]"
      ]
     },
     "execution_count": 2,
     "metadata": {},
     "output_type": "execute_result"
    }
   ],
   "source": [
    "pd.read_csv('./QCLCD201206/201206monthly.txt', nrows=5)"
   ]
  },
  {
   "cell_type": "code",
   "execution_count": 3,
   "metadata": {
    "collapsed": false
   },
   "outputs": [
    {
     "name": "stdout",
     "output_type": "stream",
     "text": [
      "CPU times: user 67 ms, sys: 5.51 ms, total: 72.5 ms\n",
      "Wall time: 72.1 ms\n"
     ]
    }
   ],
   "source": [
    "store = pd.HDFStore('nooa.h5',mode='w')\n",
    "lines = 500\n",
    "\n",
    "%time for chunk in pd.read_csv('./QCLCD201206/201206monthly.txt',chunksize=lines): store.append('qclcd201206/monthly',chunk)"
   ]
  },
  {
   "cell_type": "markdown",
   "metadata": {},
   "source": [
    "El problema está en que al hacer la carga de datos, en muchos campos no se ha hecho la conversión que desearíamos. "
   ]
  },
  {
   "cell_type": "code",
   "execution_count": 4,
   "metadata": {
    "collapsed": false
   },
   "outputs": [
    {
     "data": {
      "text/plain": [
       "WBAN                 int64\n",
       "YearMonth            int64\n",
       "AvgMaxTemp          object\n",
       "DepartureMaxTemp    object\n",
       "AvgMinTemp          object\n",
       "DepartureMinTemp    object\n",
       "AvgTemp             object\n",
       "dtype: object"
      ]
     },
     "execution_count": 4,
     "metadata": {},
     "output_type": "execute_result"
    }
   ],
   "source": [
    "store.select(\"qclcd201206/monthly\").dtypes.head(7)"
   ]
  },
  {
   "cell_type": "markdown",
   "metadata": {},
   "source": [
    "Esto es debido a que en muchos campos se utilizan letras para indicar valores especiales. Por ejemplo, en las temperaturas se utiliza \"M\" (missing data) como valor nulo. Por ello en la lectura es conveniente tener en cuenta estas convenciones. La hacemos de nuevo."
   ]
  },
  {
   "cell_type": "code",
   "execution_count": 5,
   "metadata": {
    "collapsed": false
   },
   "outputs": [],
   "source": [
    "store.close()\n",
    "os.remove(\"nooa.h5\")\n",
    "store = pd.HDFStore('nooa.h5',mode='w')\n",
    "\n",
    "# Creamos una función de conversion ad hoc:\n",
    "def str2f(x):\n",
    "    if x=='M' or x.strip()=='T':\n",
    "       return float(\"nan\")\n",
    "    else:\n",
    "        return float(x)\n",
    "\n",
    "# Tomamos solamente dos años para la comparación:\n",
    "for chunk in pd.read_csv('./QCLCD200706/200706monthly.txt', chunksize=lines, \\\n",
    "                         converters={'AvgTemp':str2f, 'TotalMonthlyPrecip':str2f, 'AvgMaxTemp':str2f}): \n",
    "    store.append('qclcd200706/monthly',chunk, data_columns =[\"AvgTemp\"])\n",
    "    \n",
    "for chunk in pd.read_csv('./QCLCD201206/201206monthly.txt', chunksize=lines, \\\n",
    "                         converters={'AvgTemp':str2f, 'TotalMonthlyPrecip':str2f, 'AvgMaxTemp':str2f}): \n",
    "    store.append('qclcd201206/monthly',chunk, data_columns =[\"AvgTemp\"])\n",
    "\n"
   ]
  },
  {
   "cell_type": "code",
   "execution_count": 6,
   "metadata": {
    "collapsed": false
   },
   "outputs": [
    {
     "data": {
      "text/plain": [
       "WBAN                  int64\n",
       "YearMonth             int64\n",
       "AvgMaxTemp          float64\n",
       "DepartureMaxTemp     object\n",
       "AvgMinTemp           object\n",
       "DepartureMinTemp     object\n",
       "AvgTemp             float64\n",
       "dtype: object"
      ]
     },
     "execution_count": 6,
     "metadata": {},
     "output_type": "execute_result"
    }
   ],
   "source": [
    "store.select(\"qclcd201206/monthly\").dtypes.head(7)"
   ]
  },
  {
   "cell_type": "code",
   "execution_count": 7,
   "metadata": {
    "collapsed": false
   },
   "outputs": [
    {
     "data": {
      "text/plain": [
       "21.86527276373844"
      ]
     },
     "execution_count": 7,
     "metadata": {},
     "output_type": "execute_result"
    }
   ],
   "source": [
    "media = store.select(\"qclcd201206/monthly\")[\"AvgTemp\"].mean()\n",
    "(media-32)/1.8"
   ]
  },
  {
   "cell_type": "code",
   "execution_count": 8,
   "metadata": {
    "collapsed": false
   },
   "outputs": [
    {
     "data": {
      "text/plain": [
       "21.78940002433977"
      ]
     },
     "execution_count": 8,
     "metadata": {},
     "output_type": "execute_result"
    }
   ],
   "source": [
    "media = store.select(\"qclcd200706/monthly\")[\"AvgTemp\"].mean()\n",
    "(media-32)/1.8"
   ]
  },
  {
   "cell_type": "markdown",
   "metadata": {},
   "source": [
    "## Consultas con PyTables"
   ]
  },
  {
   "cell_type": "markdown",
   "metadata": {},
   "source": [
    "HDFStore utiliza internamente PyTables pero nos permite manipular HDF5 como si tuviésemos arrays o dataframes.\n",
    "\n",
    "Podemos relacionar entonces campos diversos en el dataset, por ejemplo, las precipitaciones detectadas para el mes y la temperatura media para cada estación."
   ]
  },
  {
   "cell_type": "code",
   "execution_count": 9,
   "metadata": {
    "collapsed": false
   },
   "outputs": [
    {
     "name": "stderr",
     "output_type": "stream",
     "text": [
      "/Users/msicilia/anaconda3/envs/py27/lib/python2.7/site-packages/matplotlib/font_manager.py:273: UserWarning: Matplotlib is building the font cache using fc-list. This may take a moment.\n",
      "  warnings.warn('Matplotlib is building the font cache using fc-list. This may take a moment.')\n"
     ]
    },
    {
     "data": {
      "text/plain": [
       "<seaborn.axisgrid.JointGrid at 0x115282250>"
      ]
     },
     "execution_count": 9,
     "metadata": {},
     "output_type": "execute_result"
    },
    {
     "data": {
      "image/png": "[encoded data removed]",
      "text/plain": [
       "<matplotlib.figure.Figure at 0x115282390>"
      ]
     },
     "metadata": {},
     "output_type": "display_data"
    }
   ],
   "source": [
    "%matplotlib inline\n",
    "import seaborn as sns\n",
    "datos = store.select(\"qclcd200706/monthly\")\n",
    "cols = [\"AvgTemp\", \"TotalMonthlyPrecip\"]\n",
    "sns.jointplot(\"TotalMonthlyPrecip\", \"AvgTemp\", data=datos[cols].dropna(), kind=\"reg\")"
   ]
  },
  {
   "cell_type": "markdown",
   "metadata": {},
   "source": [
    "En el gráfico podemos observar que en muchas de las estaciones las precipitaciones del mes son cero o cercanas a cero, con una distribución sesgada positivamente. Curiosamente, observamos que en ese mes hay una correlación positiva entre la temperatura y las precipitaciones."
   ]
  },
  {
   "cell_type": "markdown",
   "metadata": {},
   "source": [
    "También podemos fusionar datos separados y hacer cálculos sobre los resultados. Por ejemplo, obtener las medias por estación."
   ]
  },
  {
   "cell_type": "code",
   "execution_count": 10,
   "metadata": {
    "collapsed": false
   },
   "outputs": [
    {
     "data": {
      "text/plain": [
       "WBAN\n",
       "3013    75.95\n",
       "3016    69.50\n",
       "3017    71.85\n",
       "3024    78.00\n",
       "3026    73.10\n",
       "3027    68.80\n",
       "3028    73.25\n",
       "3029    65.80\n",
       "3030    76.30\n",
       "3031    78.00\n",
       "Name: AvgTemp, dtype: float64"
      ]
     },
     "execution_count": 10,
     "metadata": {},
     "output_type": "execute_result"
    }
   ],
   "source": [
    "datos2 = store.select(\"qclcd201206/monthly\")\n",
    "totales = datos.append(datos2).groupby(\"WBAN\")\n",
    "totales[\"AvgTemp\"].mean().dropna().head(10)"
   ]
  },
  {
   "cell_type": "markdown",
   "metadata": {},
   "source": [
    "También podemos fusionar los datos por estación, de manera que tenemos dos columnas por cada estación y podemos compararlas."
   ]
  },
  {
   "cell_type": "code",
   "execution_count": 11,
   "metadata": {
    "collapsed": false
   },
   "outputs": [
    {
     "data": {
      "text/plain": [
       "<seaborn.axisgrid.FacetGrid at 0x115954450>"
      ]
     },
     "execution_count": 11,
     "metadata": {},
     "output_type": "execute_result"
    },
    {
     "data": {
      "image/png": "[encoded data removed]",
      "text/plain": [
       "<matplotlib.figure.Figure at 0x11586bf50>"
      ]
     },
     "metadata": {},
     "output_type": "display_data"
    }
   ],
   "source": [
    "totales = datos.merge(datos2, how=\"inner\", on=\"WBAN\")\n",
    "totales.head()\n",
    "ax = sns.lmplot(\"AvgTemp_x\",\"AvgTemp_y\", data=totales)\n",
    "ax.set(xlabel=' June 2007', ylabel='June 2012')"
   ]
  },
  {
   "cell_type": "markdown",
   "metadata": {},
   "source": [
    "La mayoría de los puntos están cerca de la diagonal, pero vemos que en algunos casos hay alguna diferencia apreciable. Este tipo de análisis podría servir para detectar posibles problemas puntuales en las estaciones si se hace longitudinalmente en todos los años, comparando las lecturas del mismo mes para una sola estación."
   ]
  },
  {
   "cell_type": "markdown",
   "metadata": {},
   "source": [
    "## Consumo de memoria y out-of-core processing"
   ]
  },
  {
   "cell_type": "markdown",
   "metadata": {},
   "source": [
    "Podemos consultar el consumo de memoria con <code>memory_usage</code>, que nos indica el consumo en un dataframe por cada columna. Al sumarlas tenemos el consumo total. "
   ]
  },
  {
   "cell_type": "code",
   "execution_count": 12,
   "metadata": {
    "collapsed": false
   },
   "outputs": [
    {
     "data": {
      "text/plain": [
       "385968"
      ]
     },
     "execution_count": 12,
     "metadata": {},
     "output_type": "execute_result"
    }
   ],
   "source": [
    "datos.memory_usage().sum()"
   ]
  },
  {
   "cell_type": "code",
   "execution_count": 13,
   "metadata": {
    "collapsed": false
   },
   "outputs": [
    {
     "data": {
      "text/plain": [
       "22704"
      ]
     },
     "execution_count": 13,
     "metadata": {},
     "output_type": "execute_result"
    }
   ],
   "source": [
    "datos[cols].memory_usage().sum()"
   ]
  },
  {
   "cell_type": "markdown",
   "metadata": {},
   "source": [
    "Si tuviésemos unos ficheros muy grandes, al hacer el <code>select</code> sobre el fichero HDF5 o indexarlo para obtener el DataFrame (o una selección total del dataframe con PyTables), se cargará entero en memoria, y puede ser muy lento o simplemente resultar en un <code>MemoryError</code> de Python."
   ]
  },
  {
   "cell_type": "markdown",
   "metadata": {},
   "source": [
    "Una forma \"manual\" de evitar esto es procesar mediante fragementos o <code>chunks</code>. De esta forma, se leen fragmentos de la tabla en el fichero HDF5, y podemos controlar el consumo de memoria. El problema es que tenemos entonces que ajustar nuestros cálculos a esta forma \"incremental\" de calcular. Esto se puede hacer procesando por \"trozos\", o si es aplicable, enviando una consulta PyTables con <code>select</code> (http://pandas.pydata.org/pandas-docs/stable/generated/pandas.HDFStore.select.html) que devuelva un conjunto de datos más reducido que entre en memoria."
   ]
  },
  {
   "cell_type": "code",
   "execution_count": 14,
   "metadata": {
    "collapsed": false
   },
   "outputs": [
    {
     "name": "stdout",
     "output_type": "stream",
     "text": [
      "81600\n",
      "81600\n",
      "81600\n",
      "81600\n",
      "59568\n",
      "68.7364693446\n"
     ]
    }
   ],
   "source": [
    "suma = 0\n",
    "rows = 0\n",
    "numlines = 200\n",
    "for datafragment in store.select(\"qclcd200706/monthly\", chunksize=200):\n",
    "    print datafragment.memory_usage().sum()\n",
    "    rows += len(datafragment.index)\n",
    "    suma += datafragment[\"AvgTemp\"].sum()\n",
    "print suma / rows"
   ]
  },
  {
   "cell_type": "markdown",
   "metadata": {},
   "source": [
    "Para utilizar consultas PyTables es necesario que se hayan declarado al añadir los datos la columnas sobre las que se harán consultas con el parámetro <code>data_columns</code>. Si en lugar de una lista de columnas especificamos en ese parámetro el valor True, se hace que todas las columnas puedan utilizarse en consultas."
   ]
  },
  {
   "cell_type": "code",
   "execution_count": 15,
   "metadata": {
    "collapsed": false
   },
   "outputs": [
    {
     "data": {
      "text/plain": [
       "217056"
      ]
     },
     "execution_count": 15,
     "metadata": {},
     "output_type": "execute_result"
    }
   ],
   "source": [
    "datos_reducidos = store.select(\"qclcd200706/monthly\", where=[\"AvgTemp>70\"])\n",
    "datos_reducidos.memory_usage().sum()"
   ]
  },
  {
   "cell_type": "code",
   "execution_count": 16,
   "metadata": {
    "collapsed": true
   },
   "outputs": [],
   "source": [
    "store.close()"
   ]
  },
  {
   "cell_type": "code",
   "execution_count": null,
   "metadata": {
    "collapsed": true
   },
   "outputs": [],
   "source": []
  }
 ],
 "metadata": {
  "anaconda-cloud": {},
  "kernelspec": {
   "display_name": "Python [py27]",
   "language": "python",
   "name": "Python [py27]"
  },
  "language_info": {
   "codemirror_mode": {
    "name": "ipython",
    "version": 2
   },
   "file_extension": ".py",
   "mimetype": "text/x-python",
   "name": "python",
   "nbconvert_exporter": "python",
   "pygments_lexer": "ipython2",
   "version": "2.7.12"
  }
 },
 "nbformat": 4,
 "nbformat_minor": 0
}
