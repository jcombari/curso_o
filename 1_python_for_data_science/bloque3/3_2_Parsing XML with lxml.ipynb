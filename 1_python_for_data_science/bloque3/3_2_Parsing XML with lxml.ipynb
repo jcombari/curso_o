{
 "cells": [
  {
   "cell_type": "markdown",
   "metadata": {},
   "source": [
    "# Parsing XML with lxml"
   ]
  },
  {
   "cell_type": "markdown",
   "metadata": {},
   "source": [
    "XML is a general purpose markup language that was designed to exchange data among systems. There are hundreds of \"XML schemas\" that are used for particular applications or uses. "
   ]
  },
  {
   "cell_type": "markdown",
   "metadata": {},
   "source": [
    "## Getting some data"
   ]
  },
  {
   "cell_type": "markdown",
   "metadata": {},
   "source": [
    "Let's get the XML file from the \"US Overseas loans and grants\" that was downloadable from here (it was retired august 2015): http://catalog.data.gov/dataset/us-overseas-loans-and-grants-greenbook-usaid-1554"
   ]
  },
  {
   "cell_type": "code",
   "execution_count": 1,
   "metadata": {
    "collapsed": false
   },
   "outputs": [],
   "source": [
    "# Code for getting the data:\n",
    "# URL not available, instead the original file is provided with the Notebook. \n",
    "#from urllib import urlretrieve\n",
    "#link = 'https://eads.usaid.gov/gbk/data/files/us_foreign_assistance.xml'\n",
    "#urlretrieve(link, \"fa.xml\")"
   ]
  },
  {
   "cell_type": "code",
   "execution_count": 2,
   "metadata": {
    "collapsed": false
   },
   "outputs": [
    {
     "name": "stdout",
     "output_type": "stream",
     "text": [
      "-rw-r--r--  1 msicilia  staff  2583173  8 may  2015 fa.xml\r\n"
     ]
    }
   ],
   "source": [
    "%ls -l *.xml"
   ]
  },
  {
   "cell_type": "code",
   "execution_count": 3,
   "metadata": {
    "collapsed": false
   },
   "outputs": [
    {
     "name": "stdout",
     "output_type": "stream",
     "text": [
      "<?xml version=\"1.0\" encoding=\"UTF-8\" standalone=\"yes\"?>\r",
      "\r\n",
      "<ForeignAssistance>\r",
      "\r\n",
      "\t<ForeignAssistanceRow>\r",
      "\r\n",
      "\t\t<AssistanceType>Economic</AssistanceType>\r",
      "\r\n",
      "\t\t<RecipientCountry>Afghanistan</RecipientCountry>\r",
      "\r\n",
      "\t\t<ProgramName>Child Survival and Health</ProgramName>\r",
      "\r\n",
      "\t\t<UnitName>Constant 2011 $US</UnitName>\r",
      "\r\n",
      "\t\t<FiscalYear>2002</FiscalYear>\r",
      "\r\n",
      "\t\t<Obligations>2691390</Obligations>\r",
      "\r\n",
      "\t</ForeignAssistanceRow>\r",
      "\r\n",
      "\t<ForeignAssistanceRow>\r",
      "\r\n",
      "\t\t<AssistanceType>Economic</AssistanceType>\r",
      "\r\n"
     ]
    }
   ],
   "source": [
    "!head -n12 fa.xml"
   ]
  },
  {
   "cell_type": "markdown",
   "metadata": {},
   "source": [
    "Note that this is a relatively simple XML. You can see a more complex one for example here: http://www.ec.tuwien.ac.at/~dorn/Courses/KM/Resources/hrxml/HR-XML-2_3/SIDES/StaffingInvoice.html\n",
    "\n",
    "Information in XML is not necessarily tabular, but it can be complex and with a nested structure, so there is no single way of importing that into a tabular structure (DataFrame)."
   ]
  },
  {
   "cell_type": "markdown",
   "metadata": {},
   "source": [
    "## Loading the XML into memory"
   ]
  },
  {
   "cell_type": "code",
   "execution_count": 4,
   "metadata": {
    "collapsed": false
   },
   "outputs": [
    {
     "name": "stdout",
     "output_type": "stream",
     "text": [
      "ForeignAssistance\n",
      "{}\n",
      "8278\n"
     ]
    }
   ],
   "source": [
    "from lxml import objectify\n",
    "parsed = objectify.parse('fa.xml')\n",
    "root = parsed.getroot()\n",
    "print root.tag\n",
    "print root.attrib\n",
    "print root.countchildren()"
   ]
  },
  {
   "cell_type": "markdown",
   "metadata": {},
   "source": [
    "We can see in the XML file that it follows a simple structure with each entry as a ForeignAssistanceRow element."
   ]
  },
  {
   "cell_type": "markdown",
   "metadata": {},
   "source": [
    "The expression root.ForeignAssistanceRow generates one element for each ForeignAssistanceRow element:"
   ]
  },
  {
   "cell_type": "code",
   "execution_count": 5,
   "metadata": {
    "collapsed": false
   },
   "outputs": [
    {
     "name": "stdout",
     "output_type": "stream",
     "text": [
      "8278 8278 8278 8278 8278\n"
     ]
    }
   ],
   "source": [
    "country=[]\n",
    "name=[]\n",
    "unit =[]\n",
    "year=[]\n",
    "amount=[]\n",
    "kind =[]\n",
    "program = []\n",
    "for row in root.ForeignAssistanceRow:\n",
    "    country.append(row.RecipientCountry.text)\n",
    "    name.append(row.ProgramName.text)\n",
    "    unit.append(row.UnitName.text)\n",
    "    year.append(row.FiscalYear.text)\n",
    "    amount.append(row.Obligations.text)\n",
    "    kind.append(row.AssistanceType.text)\n",
    "    program.append(row.ProgramName.text)\n",
    "    \n",
    "print len(country), len(name), len(unit), len(year), len(amount)"
   ]
  },
  {
   "cell_type": "code",
   "execution_count": 6,
   "metadata": {
    "collapsed": false
   },
   "outputs": [
    {
     "name": "stdout",
     "output_type": "stream",
     "text": [
      "<type 'str'>\n",
      "<type 'numpy.int32'>\n"
     ]
    },
    {
     "data": {
      "text/html": [
       "<div>\n",
       "<table border=\"1\" class=\"dataframe\">\n",
       "  <thead>\n",
       "    <tr style=\"text-align: right;\">\n",
       "      <th></th>\n",
       "      <th>country</th>\n",
       "      <th>name</th>\n",
       "      <th>unit</th>\n",
       "      <th>year</th>\n",
       "      <th>amount</th>\n",
       "      <th>type</th>\n",
       "      <th>program</th>\n",
       "    </tr>\n",
       "  </thead>\n",
       "  <tbody>\n",
       "    <tr>\n",
       "      <th>0</th>\n",
       "      <td>Afghanistan</td>\n",
       "      <td>Child Survival and Health</td>\n",
       "      <td>Constant 2011 $US</td>\n",
       "      <td>2002</td>\n",
       "      <td>2691390</td>\n",
       "      <td>Economic</td>\n",
       "      <td>Child Survival and Health</td>\n",
       "    </tr>\n",
       "    <tr>\n",
       "      <th>1</th>\n",
       "      <td>Afghanistan</td>\n",
       "      <td>Child Survival and Health</td>\n",
       "      <td>Constant 2011 $US</td>\n",
       "      <td>2003</td>\n",
       "      <td>58817159</td>\n",
       "      <td>Economic</td>\n",
       "      <td>Child Survival and Health</td>\n",
       "    </tr>\n",
       "    <tr>\n",
       "      <th>2</th>\n",
       "      <td>Afghanistan</td>\n",
       "      <td>Child Survival and Health</td>\n",
       "      <td>Constant 2011 $US</td>\n",
       "      <td>2004</td>\n",
       "      <td>41877130</td>\n",
       "      <td>Economic</td>\n",
       "      <td>Child Survival and Health</td>\n",
       "    </tr>\n",
       "    <tr>\n",
       "      <th>3</th>\n",
       "      <td>Afghanistan</td>\n",
       "      <td>Child Survival and Health</td>\n",
       "      <td>Constant 2011 $US</td>\n",
       "      <td>2005</td>\n",
       "      <td>41467658</td>\n",
       "      <td>Economic</td>\n",
       "      <td>Child Survival and Health</td>\n",
       "    </tr>\n",
       "    <tr>\n",
       "      <th>4</th>\n",
       "      <td>Afghanistan</td>\n",
       "      <td>Child Survival and Health</td>\n",
       "      <td>Constant 2011 $US</td>\n",
       "      <td>2006</td>\n",
       "      <td>42463433</td>\n",
       "      <td>Economic</td>\n",
       "      <td>Child Survival and Health</td>\n",
       "    </tr>\n",
       "  </tbody>\n",
       "</table>\n",
       "</div>"
      ],
      "text/plain": [
       "       country                       name               unit  year    amount  \\\n",
       "0  Afghanistan  Child Survival and Health  Constant 2011 $US  2002   2691390   \n",
       "1  Afghanistan  Child Survival and Health  Constant 2011 $US  2003  58817159   \n",
       "2  Afghanistan  Child Survival and Health  Constant 2011 $US  2004  41877130   \n",
       "3  Afghanistan  Child Survival and Health  Constant 2011 $US  2005  41467658   \n",
       "4  Afghanistan  Child Survival and Health  Constant 2011 $US  2006  42463433   \n",
       "\n",
       "       type                    program  \n",
       "0  Economic  Child Survival and Health  \n",
       "1  Economic  Child Survival and Health  \n",
       "2  Economic  Child Survival and Health  \n",
       "3  Economic  Child Survival and Health  \n",
       "4  Economic  Child Survival and Health  "
      ]
     },
     "execution_count": 6,
     "metadata": {},
     "output_type": "execute_result"
    }
   ],
   "source": [
    "import pandas as pd\n",
    "data = pd.DataFrame()\n",
    "data['country'] = country\n",
    "data['name'] = name\n",
    "data['unit'] = unit\n",
    "data['year'] = year\n",
    "data['amount'] = amount\n",
    "data['type'] = kind\n",
    "data['program'] = program\n",
    "\n",
    "# Always remember to check types and convert if needed:\n",
    "print type(data['amount'][0])\n",
    "data['amount'] = pd.Series(amount, dtype=\"int32\")\n",
    "print type(data['amount'][0])\n",
    "\n",
    "data.head(5)"
   ]
  },
  {
   "cell_type": "markdown",
   "metadata": {},
   "source": [
    "## Some basic analysis"
   ]
  },
  {
   "cell_type": "code",
   "execution_count": 7,
   "metadata": {
    "collapsed": false
   },
   "outputs": [],
   "source": [
    "yearly = data.groupby(year)"
   ]
  },
  {
   "cell_type": "code",
   "execution_count": 8,
   "metadata": {
    "collapsed": false
   },
   "outputs": [
    {
     "name": "stdout",
     "output_type": "stream",
     "text": [
      "<class 'pandas.core.series.Series'>\n"
     ]
    },
    {
     "data": {
      "text/plain": [
       "1946    1.047179e+09\n",
       "1947    1.499747e+09\n",
       "1948    1.491180e+09\n",
       "1949    7.399670e+08\n",
       "1950    3.812157e+09\n",
       "Name: amount, dtype: float64"
      ]
     },
     "execution_count": 8,
     "metadata": {},
     "output_type": "execute_result"
    }
   ],
   "source": [
    "per_year = yearly[\"amount\"].sum()\n",
    "print type(per_year)\n",
    "per_year.head(5)"
   ]
  },
  {
   "cell_type": "code",
   "execution_count": 9,
   "metadata": {
    "collapsed": false
   },
   "outputs": [
    {
     "name": "stderr",
     "output_type": "stream",
     "text": [
      "/Users/msicilia/anaconda3/envs/py27/lib/python2.7/site-packages/matplotlib/font_manager.py:273: UserWarning: Matplotlib is building the font cache using fc-list. This may take a moment.\n",
      "  warnings.warn('Matplotlib is building the font cache using fc-list. This may take a moment.')\n"
     ]
    },
    {
     "data": {
      "text/plain": [
       "<matplotlib.axes._subplots.AxesSubplot at 0x113723b10>"
      ]
     },
     "execution_count": 9,
     "metadata": {},
     "output_type": "execute_result"
    },
    {
     "data": {
      "image/png": "[encoded data removed]",
      "text/plain": [
       "<matplotlib.figure.Figure at 0x1137232d0>"
      ]
     },
     "metadata": {},
     "output_type": "display_data"
    }
   ],
   "source": [
    "%matplotlib inline\n",
    "per_year.plot()"
   ]
  },
  {
   "cell_type": "markdown",
   "metadata": {},
   "source": [
    "Note: we have not checked that these are constant dollars!"
   ]
  },
  {
   "cell_type": "code",
   "execution_count": 10,
   "metadata": {
    "collapsed": false
   },
   "outputs": [
    {
     "name": "stdout",
     "output_type": "stream",
     "text": [
      "<class 'pandas.core.groupby.DataFrameGroupBy'>\n",
      "country\n",
      "Afghanistan    4.437943e+10\n",
      "Albania        2.099278e+09\n",
      "Algeria        1.522753e+09\n",
      "Name: amount, dtype: float64\n",
      "---------\n",
      "country\n",
      "Afghanistan             4.437943e+10\n",
      "Bangladesh              1.920549e+10\n",
      "Brazil                  1.823752e+10\n",
      "Asia (not specified)    1.737289e+10\n",
      "Bolivia                 1.428634e+10\n",
      "Name: amount, dtype: float64\n"
     ]
    },
    {
     "name": "stderr",
     "output_type": "stream",
     "text": [
      "/Users/msicilia/anaconda3/envs/py27/lib/python2.7/site-packages/ipykernel/__main__.py:9: FutureWarning: sort is deprecated, use sort_values(inplace=True) for INPLACE sorting\n"
     ]
    },
    {
     "data": {
      "text/plain": [
       "<matplotlib.axes._subplots.AxesSubplot at 0x115b96e10>"
      ]
     },
     "execution_count": 10,
     "metadata": {},
     "output_type": "execute_result"
    },
    {
     "data": {
      "image/png": "[encoded data removed]",
      "text/plain": [
       "<matplotlib.figure.Figure at 0x115b39e90>"
      ]
     },
     "metadata": {},
     "output_type": "display_data"
    }
   ],
   "source": [
    "countrywise = data.groupby(\"country\")\n",
    "print type(countrywise)\n",
    "\n",
    "per_country = countrywise[\"amount\"].sum()\n",
    "print per_country.head(3)\n",
    "print \"---------\"\n",
    "\n",
    "# Sort and visualize:\n",
    "per_country.sort(ascending=False)\n",
    "print per_country.head(5)\n",
    "per_country.head(10).plot(kind=\"bar\")"
   ]
  },
  {
   "cell_type": "markdown",
   "metadata": {},
   "source": [
    "Now let's try to do that with homogeneous currency data."
   ]
  },
  {
   "cell_type": "code",
   "execution_count": 11,
   "metadata": {
    "collapsed": false
   },
   "outputs": [
    {
     "name": "stdout",
     "output_type": "stream",
     "text": [
      "{'Historical $US': array([   8,    9,   10, ..., 8275, 8276, 8277]), 'Constant 2011 $US': array([   0,    1,    2, ..., 8263, 8264, 8265])}\n",
      "                               amount\n",
      "unit                                 \n",
      "Constant 2011 $US count  4.156000e+03\n",
      "                  mean   2.481762e+07\n",
      "                  std    1.159899e+08\n",
      "                  min   -2.145264e+09\n",
      "                  25%    4.999602e+05\n",
      "                  50%    2.517717e+06\n",
      "                  75%    1.355126e+07\n",
      "                  max    2.100703e+09\n",
      "Historical $US    count  4.122000e+03\n",
      "                  mean   1.345892e+07\n",
      "                  std    7.355242e+07\n",
      "                  min   -1.639549e+09\n",
      "                  25%    3.000000e+05\n",
      "                  50%    1.557898e+06\n",
      "                  75%    7.730074e+06\n",
      "                  max    2.100703e+09\n",
      "----------------\n",
      "<class 'pandas.core.frame.DataFrame'>\n",
      "----------------\n",
      "29\n"
     ]
    },
    {
     "name": "stderr",
     "output_type": "stream",
     "text": [
      "/Users/msicilia/anaconda3/envs/py27/lib/python2.7/site-packages/ipykernel/__main__.py:17: FutureWarning: sort is deprecated, use sort_values(inplace=True) for INPLACE sorting\n"
     ]
    },
    {
     "data": {
      "text/plain": [
       "country\n",
       "Afghanistan             2.429522e+10\n",
       "Brazil                  1.515711e+10\n",
       "Bangladesh              1.281125e+10\n",
       "Asia (not specified)    1.126589e+10\n",
       "Bolivia                 9.569419e+09\n",
       "Belgium                 4.774177e+09\n",
       "Austria                 4.691108e+09\n",
       "Bosnia & Herzegovina    2.448232e+09\n",
       "Armenia                 2.214525e+09\n",
       "Angola                  2.044264e+09\n",
       "Name: amount, dtype: float64"
      ]
     },
     "execution_count": 11,
     "metadata": {},
     "output_type": "execute_result"
    },
    {
     "data": {
      "image/png": "[encoded data removed]",
      "text/plain": [
       "<matplotlib.figure.Figure at 0x115bbce50>"
      ]
     },
     "metadata": {},
     "output_type": "display_data"
    }
   ],
   "source": [
    "# Create groups based on unit:\n",
    "currencywise = data.groupby(\"unit\")\n",
    "print currencywise.indices\n",
    "print currencywise.describe()\n",
    "print \"----------------\"\n",
    "\n",
    "\n",
    "# Each group is a DataFrame:\n",
    "constantdollars = currencywise.get_group(\"Constant 2011 $US\")\n",
    "print type(constantdollars)\n",
    "print \"----------------\"\n",
    "\n",
    "\n",
    "# Now we group by country:\n",
    "percountry2 = constantdollars.groupby(\"country\")\n",
    "final = percountry2[\"amount\"].sum()\n",
    "final.sort(ascending=False)\n",
    "print len(final)\n",
    "final.head(10).plot(kind=\"bar\")\n",
    "final.head(10)"
   ]
  },
  {
   "cell_type": "markdown",
   "metadata": {},
   "source": [
    "## Analyzing the type of assistance"
   ]
  },
  {
   "cell_type": "markdown",
   "metadata": {},
   "source": [
    "We can get the different types of assistance:"
   ]
  },
  {
   "cell_type": "code",
   "execution_count": 12,
   "metadata": {
    "collapsed": false
   },
   "outputs": [
    {
     "name": "stdout",
     "output_type": "stream",
     "text": [
      "<type 'numpy.ndarray'>\n",
      "21\n"
     ]
    },
    {
     "data": {
      "text/plain": [
       "array(['Child Survival and Health',\n",
       "       'Department of Defense Security Assistance',\n",
       "       'Development Assistance',\n",
       "       'Economic Support Fund/Security Support Assistance',\n",
       "       'Food For Education', 'Global HIV/AIDS Initiative',\n",
       "       'Global Health and Child Survival', 'Inactive Programs',\n",
       "       'Migration and Refugee Assistance', 'Narcotics Control',\n",
       "       'Nonproliferation, Anti-Terrorism, Demining and Related',\n",
       "       'Other Active Grant Programs', 'Other Food Aid Programs',\n",
       "       'Other State Assistance', 'Other USAID Assistance',\n",
       "       'Other USDA Assistance', 'Peace Corps', 'Title I', 'Title II',\n",
       "       'Millennium Challenge Corporation',\n",
       "       'Voluntary Contributions to Multilateral Organizations, Total'], dtype=object)"
      ]
     },
     "execution_count": 12,
     "metadata": {},
     "output_type": "execute_result"
    }
   ],
   "source": [
    "programs = data[\"program\"].unique()\n",
    "print type(programs)\n",
    "print len(programs)\n",
    "programs"
   ]
  },
  {
   "cell_type": "code",
   "execution_count": 13,
   "metadata": {
    "collapsed": false
   },
   "outputs": [
    {
     "name": "stderr",
     "output_type": "stream",
     "text": [
      "/Users/msicilia/anaconda3/envs/py27/lib/python2.7/site-packages/ipykernel/__main__.py:4: FutureWarning: sort is deprecated, use sort_values(inplace=True) for INPLACE sorting\n"
     ]
    },
    {
     "data": {
      "text/plain": [
       "program\n",
       "Other USAID Assistance                                          4.769048e+10\n",
       "Economic Support Fund/Security Support Assistance               2.805559e+10\n",
       "Title II                                                        1.794273e+10\n",
       "Title I                                                         1.252579e+10\n",
       "Narcotics Control                                               9.986684e+09\n",
       "Inactive Programs                                               7.423651e+09\n",
       "Department of Defense Security Assistance                       6.170455e+09\n",
       "Development Assistance                                          5.439410e+09\n",
       "Voluntary Contributions to Multilateral Organizations, Total    3.481346e+09\n",
       "Other Food Aid Programs                                         3.116252e+09\n",
       "Global Health and Child Survival                                2.936038e+09\n",
       "Migration and Refugee Assistance                                2.822740e+09\n",
       "Other Active Grant Programs                                     2.250998e+09\n",
       "Millennium Challenge Corporation                                2.231246e+09\n",
       "Child Survival and Health                                       2.063446e+09\n",
       "Peace Corps                                                     1.660659e+09\n",
       "Nonproliferation, Anti-Terrorism, Demining and Related          1.414139e+09\n",
       "Other State Assistance                                          6.205952e+08\n",
       "Global HIV/AIDS Initiative                                      3.312005e+08\n",
       "Other USDA Assistance                                           2.732431e+08\n",
       "Food For Education                                              1.829975e+08\n",
       "Name: amount, dtype: float64"
      ]
     },
     "execution_count": 13,
     "metadata": {},
     "output_type": "execute_result"
    }
   ],
   "source": [
    "byprogram = data.groupby(\"program\")\n",
    "len(byprogram)\n",
    "amountbyprogram = byprogram[\"amount\"].sum()\n",
    "amountbyprogram.sort(ascending=False)\n",
    "amountbyprogram"
   ]
  },
  {
   "cell_type": "code",
   "execution_count": 14,
   "metadata": {
    "collapsed": false
   },
   "outputs": [
    {
     "data": {
      "text/plain": [
       "program\n",
       "Other USAID Assistance                               4.769048e+10\n",
       "Economic Support Fund/Security Support Assistance    2.805559e+10\n",
       "Title II                                             1.794273e+10\n",
       "Title I                                              1.252579e+10\n",
       "Narcotics Control                                    9.986684e+09\n",
       "Inactive Programs                                    7.423651e+09\n",
       "Name: amount, dtype: float64"
      ]
     },
     "execution_count": 14,
     "metadata": {},
     "output_type": "execute_result"
    }
   ],
   "source": [
    "sixtop = amountbyprogram[:6]\n",
    "sixtop"
   ]
  },
  {
   "cell_type": "code",
   "execution_count": 15,
   "metadata": {
    "collapsed": false
   },
   "outputs": [
    {
     "data": {
      "image/png": "[encoded data removed]",
      "text/plain": [
       "<matplotlib.figure.Figure at 0x1160e15d0>"
      ]
     },
     "metadata": {},
     "output_type": "display_data"
    }
   ],
   "source": [
    "\n",
    "names = [name[:12]+\".\" for name in list(sixtop.index)]\n",
    "pos = range(len(sixtop))\n",
    "\n",
    "\n",
    "import matplotlib.pyplot as plt\n",
    "line = plt.bar(pos, sixtop, color=\"r\")\n",
    "plt.xticks(pos, names, rotation=40)\n",
    "plt.title(\"Top six programs\")\n",
    "plt.ylabel(\"amount $\")\n",
    "plt.savefig(\"programs.jpg\", bbox_size=200)"
   ]
  },
  {
   "cell_type": "code",
   "execution_count": null,
   "metadata": {
    "collapsed": false
   },
   "outputs": [],
   "source": []
  }
 ],
 "metadata": {
  "anaconda-cloud": {},
  "kernelspec": {
   "display_name": "Python [py27]",
   "language": "python",
   "name": "Python [py27]"
  },
  "language_info": {
   "codemirror_mode": {
    "name": "ipython",
    "version": 2
   },
   "file_extension": ".py",
   "mimetype": "text/x-python",
   "name": "python",
   "nbconvert_exporter": "python",
   "pygments_lexer": "ipython2",
   "version": "2.7.12"
  }
 },
 "nbformat": 4,
 "nbformat_minor": 0
}
