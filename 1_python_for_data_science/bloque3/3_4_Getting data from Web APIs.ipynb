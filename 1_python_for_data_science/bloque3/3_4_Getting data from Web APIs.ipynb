{
 "cells": [
  {
   "cell_type": "markdown",
   "metadata": {},
   "source": [
    "# Getting data from Web APIs"
   ]
  },
  {
   "cell_type": "markdown",
   "metadata": {},
   "source": [
    "Most Web sites and applications nowadays provides access to its data and functionality using the REST architectural approach. The essential feature of REST is that it is acccessed using the HTTP protocol, i.e. you invoke operations by using the URLs of those.\n",
    "While a call to a REST operation can be used for getting data or for putting or doing some modification, here we focus only on reading data."
   ]
  },
  {
   "cell_type": "markdown",
   "metadata": {},
   "source": [
    "NOTE: Data in this Notebook is downloaded live, so some of the sentences may not work if some data has been removed from the site."
   ]
  },
  {
   "cell_type": "markdown",
   "metadata": {},
   "source": [
    "## A simple example"
   ]
  },
  {
   "cell_type": "markdown",
   "metadata": {},
   "source": [
    "In REST APIs we need to first learn the different endpoints or objects offered. As an example, let's look at the RESTful API of 4chan: https://github.com/4chan/4chan-API\n",
    "\n",
    "We can see in the left different endpoints: \n",
    "\n",
    "A list of threads:\n",
    "\n",
    "http(s)://a.4cdn.org/board/threads.json\n",
    "\n",
    "A list of archived thread IDs can be found here:\n",
    "\n",
    "http(s)://a.4cdn.org/board/archive.json\n",
    "\n",
    "A list of boards is exposed at the following URL:\n",
    "\n",
    "http(s)://a.4cdn.org/boards.json"
   ]
  },
  {
   "cell_type": "markdown",
   "metadata": {},
   "source": [
    "## Getting a piece of data"
   ]
  },
  {
   "cell_type": "markdown",
   "metadata": {},
   "source": [
    "Getting data is as simple as requesting one of these URIs."
   ]
  },
  {
   "cell_type": "code",
   "execution_count": 1,
   "metadata": {
    "collapsed": false,
    "scrolled": false
   },
   "outputs": [
    {
     "name": "stdout",
     "output_type": "stream",
     "text": [
      "200\n",
      "application/json\n",
      "{\"boards\":[{\"board\":\"3\",\"title\":\"3DCG\",\"ws_board\":1,\"per_page\":15,\"pages\":10,\"max_filesize\":4194304,\"max_webm_filesize\":3145728,\"max_comment_chars\":2000,\"max_webm_duration\":120,\"bump_limit\":310,\"image_limit\":150,\"cooldowns\":{\"threads\":600,\"replies\":60,\"images\":60},\"meta_description\":\"\\u0026quot;\\/3\\/ - 3DCG\\u0026quot; is 4chan's board for 3D modeling and imagery.\",\"is_archived\":1},{\"board\":\"a\",\"title\":\"Anime \\u0026 Manga\",\"ws_board\":1,\"per_page\":15,\"pages\":10,\"max_filesize\":4194304,\"max_webm_filesize\":3145728,\"max_comment_chars\":2000,\"max_webm_duration\":120,\"bump_limit\":500,\"image_limit\":250,\"cooldowns\":{\"threads\":600,\"replies\":60,\"images\":60},\"meta_description\":\"\\u0026quot;\\/a\\/ - Anime \\u0026amp; Manga\\u0026quot; is 4chan's imageboard dedicated to the discussion of Japanese animation and manga.\",\"spoilers\":1,\"custom_spoilers\":1,\"is_archived\":1},{\"board\":\"aco\",\"title\":\"Adult Cartoons\",\"ws_board\":0,\"per_page\":15,\"pages\":10,\"max_filesize\":4194304,\"max_webm_filesize\":3145728,\"max_comment\n"
     ]
    }
   ],
   "source": [
    "import requests as rq\n",
    "r = rq.get('https://a.4cdn.org/boards.json')\n",
    "print r.status_code\n",
    "print r.headers['content-type']\n",
    "print r.text[:1000]"
   ]
  },
  {
   "cell_type": "markdown",
   "metadata": {},
   "source": [
    "## Parsing Json"
   ]
  },
  {
   "cell_type": "markdown",
   "metadata": {},
   "source": [
    "Javascript Object Notation (JSON) is a format for encoding data in a hierarchical way similar to XML. Many REST APIs return JSON objects, as seen in the example above. We can parse JSON objects from inside Python. "
   ]
  },
  {
   "cell_type": "code",
   "execution_count": 2,
   "metadata": {
    "collapsed": false
   },
   "outputs": [
    {
     "name": "stdout",
     "output_type": "stream",
     "text": [
      "<type 'dict'>\n"
     ]
    }
   ],
   "source": [
    "import json\n",
    "boards = json.loads(r.text)\n",
    "print type(boards)\n",
    "# print(json.dumps(boards, indent=2))"
   ]
  },
  {
   "cell_type": "markdown",
   "metadata": {},
   "source": [
    "## Dictionaries in Python"
   ]
  },
  {
   "cell_type": "markdown",
   "metadata": {},
   "source": [
    "JSON is basically composed of dictionaries, i.e. maps of keys (strings) to values. And the values associated can be another dictionary. For example, in the above JSON, key \"board\" has as value an string, but key \"cooldowns\" is associated to another dictionary with several key-value pairs describing more data grouped."
   ]
  },
  {
   "cell_type": "markdown",
   "metadata": {},
   "source": [
    "Python has a dictionary type that is very similar to JSON structures."
   ]
  },
  {
   "cell_type": "code",
   "execution_count": 3,
   "metadata": {
    "collapsed": false
   },
   "outputs": [
    {
     "name": "stdout",
     "output_type": "stream",
     "text": [
      "full-time\n",
      "3\n"
     ]
    }
   ],
   "source": [
    "myoffer = {\"title\": \"Data scientist\", \"job_type\": \"full-time\"}\n",
    "print myoffer[\"job_type\"]\n",
    "myoffer[\"salary_max\"] = 200000\n",
    "print len(myoffer)"
   ]
  },
  {
   "cell_type": "markdown",
   "metadata": {},
   "source": [
    "## Converting a JSON document to a Dictionary"
   ]
  },
  {
   "cell_type": "markdown",
   "metadata": {},
   "source": [
    "The <code>json.loads</code> converts JSON documents into Python data types using the following conventions:\n",
    "    https://docs.python.org/3/library/json.html#json.loads"
   ]
  },
  {
   "cell_type": "markdown",
   "metadata": {},
   "source": [
    "The single job above is a JSON object, so that it is directly converted to a dict."
   ]
  },
  {
   "cell_type": "code",
   "execution_count": 4,
   "metadata": {
    "collapsed": false,
    "scrolled": true
   },
   "outputs": [
    {
     "data": {
      "text/plain": [
       "{u'board': u'an',\n",
       " u'bump_limit': 310,\n",
       " u'cooldowns': {u'images': 60, u'replies': 60, u'threads': 600},\n",
       " u'image_limit': 150,\n",
       " u'is_archived': 1,\n",
       " u'max_comment_chars': 2000,\n",
       " u'max_filesize': 4194304,\n",
       " u'max_webm_duration': 120,\n",
       " u'max_webm_filesize': 3145728,\n",
       " u'meta_description': u\"&quot;/an/ - Animals &amp; Nature&quot; is 4chan's imageboard for posting pictures of animals, pets, and nature.\",\n",
       " u'pages': 10,\n",
       " u'per_page': 15,\n",
       " u'title': u'Animals & Nature',\n",
       " u'ws_board': 1}"
      ]
     },
     "execution_count": 4,
     "metadata": {},
     "output_type": "execute_result"
    }
   ],
   "source": [
    "boards[\"boards\"][4]"
   ]
  },
  {
   "cell_type": "markdown",
   "metadata": {},
   "source": [
    "## Transforming data into DataFrames"
   ]
  },
  {
   "cell_type": "markdown",
   "metadata": {},
   "source": [
    "We can build data frames from JSON data by first creating the columns (Series) and then populating one row per JSON fragment that is retrieved."
   ]
  },
  {
   "cell_type": "code",
   "execution_count": 5,
   "metadata": {
    "collapsed": false
   },
   "outputs": [
    {
     "data": {
      "text/html": [
       "<div>\n",
       "<table border=\"1\" class=\"dataframe\">\n",
       "  <thead>\n",
       "    <tr style=\"text-align: right;\">\n",
       "      <th></th>\n",
       "      <th>title</th>\n",
       "      <th>meta_description</th>\n",
       "      <th>image_limit</th>\n",
       "      <th>threads_cd</th>\n",
       "    </tr>\n",
       "  </thead>\n",
       "  <tbody>\n",
       "    <tr>\n",
       "      <th>3</th>\n",
       "      <td>3DCG</td>\n",
       "      <td>&amp;quot;/3/ - 3DCG&amp;quot; is 4chan's board for 3D...</td>\n",
       "      <td>150.0</td>\n",
       "      <td>600.0</td>\n",
       "    </tr>\n",
       "    <tr>\n",
       "      <th>a</th>\n",
       "      <td>Anime &amp; Manga</td>\n",
       "      <td>&amp;quot;/a/ - Anime &amp;amp; Manga&amp;quot; is 4chan's...</td>\n",
       "      <td>250.0</td>\n",
       "      <td>600.0</td>\n",
       "    </tr>\n",
       "    <tr>\n",
       "      <th>aco</th>\n",
       "      <td>Adult Cartoons</td>\n",
       "      <td>&amp;quot;/aco/ - Adult Cartoons&amp;quot; is 4chan's ...</td>\n",
       "      <td>250.0</td>\n",
       "      <td>600.0</td>\n",
       "    </tr>\n",
       "    <tr>\n",
       "      <th>adv</th>\n",
       "      <td>Advice</td>\n",
       "      <td>&amp;quot;/adv/ - Advice&amp;quot; is 4chan's board fo...</td>\n",
       "      <td>150.0</td>\n",
       "      <td>600.0</td>\n",
       "    </tr>\n",
       "    <tr>\n",
       "      <th>an</th>\n",
       "      <td>Animals &amp; Nature</td>\n",
       "      <td>&amp;quot;/an/ - Animals &amp;amp; Nature&amp;quot; is 4ch...</td>\n",
       "      <td>150.0</td>\n",
       "      <td>600.0</td>\n",
       "    </tr>\n",
       "    <tr>\n",
       "      <th>asp</th>\n",
       "      <td>Alternative Sports &amp; Wrestling</td>\n",
       "      <td>&amp;quot;/asp/ - Alternative Sports &amp;amp; Wrestli...</td>\n",
       "      <td>150.0</td>\n",
       "      <td>600.0</td>\n",
       "    </tr>\n",
       "    <tr>\n",
       "      <th>b</th>\n",
       "      <td>Random</td>\n",
       "      <td>&amp;quot;/b/ - Random&amp;quot; is the birthplace of ...</td>\n",
       "      <td>150.0</td>\n",
       "      <td>60.0</td>\n",
       "    </tr>\n",
       "    <tr>\n",
       "      <th>biz</th>\n",
       "      <td>Business &amp; Finance</td>\n",
       "      <td>&amp;quot;/biz/ - Business &amp;amp; Finance&amp;quot; is ...</td>\n",
       "      <td>150.0</td>\n",
       "      <td>600.0</td>\n",
       "    </tr>\n",
       "    <tr>\n",
       "      <th>c</th>\n",
       "      <td>Anime/Cute</td>\n",
       "      <td>&amp;quot;/c/ - Anime/Cute&amp;quot; is 4chan's imageb...</td>\n",
       "      <td>150.0</td>\n",
       "      <td>600.0</td>\n",
       "    </tr>\n",
       "    <tr>\n",
       "      <th>cgl</th>\n",
       "      <td>Cosplay &amp; EGL</td>\n",
       "      <td>&amp;quot;/cgl/ - Cosplay &amp;amp; EGL&amp;quot; is 4chan...</td>\n",
       "      <td>150.0</td>\n",
       "      <td>600.0</td>\n",
       "    </tr>\n",
       "  </tbody>\n",
       "</table>\n",
       "</div>"
      ],
      "text/plain": [
       "                              title  \\\n",
       "3                              3DCG   \n",
       "a                     Anime & Manga   \n",
       "aco                  Adult Cartoons   \n",
       "adv                          Advice   \n",
       "an                 Animals & Nature   \n",
       "asp  Alternative Sports & Wrestling   \n",
       "b                            Random   \n",
       "biz              Business & Finance   \n",
       "c                        Anime/Cute   \n",
       "cgl                   Cosplay & EGL   \n",
       "\n",
       "                                      meta_description  image_limit  \\\n",
       "3    &quot;/3/ - 3DCG&quot; is 4chan's board for 3D...        150.0   \n",
       "a    &quot;/a/ - Anime &amp; Manga&quot; is 4chan's...        250.0   \n",
       "aco  &quot;/aco/ - Adult Cartoons&quot; is 4chan's ...        250.0   \n",
       "adv  &quot;/adv/ - Advice&quot; is 4chan's board fo...        150.0   \n",
       "an   &quot;/an/ - Animals &amp; Nature&quot; is 4ch...        150.0   \n",
       "asp  &quot;/asp/ - Alternative Sports &amp; Wrestli...        150.0   \n",
       "b    &quot;/b/ - Random&quot; is the birthplace of ...        150.0   \n",
       "biz  &quot;/biz/ - Business &amp; Finance&quot; is ...        150.0   \n",
       "c    &quot;/c/ - Anime/Cute&quot; is 4chan's imageb...        150.0   \n",
       "cgl  &quot;/cgl/ - Cosplay &amp; EGL&quot; is 4chan...        150.0   \n",
       "\n",
       "     threads_cd  \n",
       "3         600.0  \n",
       "a         600.0  \n",
       "aco       600.0  \n",
       "adv       600.0  \n",
       "an        600.0  \n",
       "asp       600.0  \n",
       "b          60.0  \n",
       "biz       600.0  \n",
       "c         600.0  \n",
       "cgl       600.0  "
      ]
     },
     "execution_count": 5,
     "metadata": {},
     "output_type": "execute_result"
    }
   ],
   "source": [
    "import pandas as pd\n",
    "\n",
    "boardsframe = pd.DataFrame(columns=[\"title\", \"meta_description\", \"image_limit\", \"threads_cd\"])\n",
    "\n",
    "def add_row(df, board):\n",
    "    title = board[\"title\"]\n",
    "    metadesc = board[\"meta_description\"]\n",
    "    imagelim = int(board[\"image_limit\"])\n",
    "    threadscs = int(board[\"cooldowns\"][\"threads\"])\n",
    "\n",
    "    df.loc[board[\"board\"]] = [title, metadesc, imagelim, threadscs]\n",
    "    \n",
    "for row in boards[\"boards\"]:\n",
    "    add_row(boardsframe, row)\n",
    "\n",
    "\n",
    "boardsframe.head(10)    \n"
   ]
  },
  {
   "cell_type": "code",
   "execution_count": 6,
   "metadata": {
    "collapsed": false
   },
   "outputs": [
    {
     "name": "stdout",
     "output_type": "stream",
     "text": [
      "71\n"
     ]
    }
   ],
   "source": [
    "print len(boardsframe)"
   ]
  },
  {
   "cell_type": "code",
   "execution_count": 7,
   "metadata": {
    "collapsed": false
   },
   "outputs": [
    {
     "name": "stdout",
     "output_type": "stream",
     "text": [
      "31\n"
     ]
    }
   ],
   "source": [
    "print len(boardsframe[boardsframe[\"image_limit\"]>200])"
   ]
  },
  {
   "cell_type": "markdown",
   "metadata": {
    "collapsed": false
   },
   "source": [
    "## Paginating"
   ]
  },
  {
   "cell_type": "markdown",
   "metadata": {},
   "source": [
    "Most of REST APIs use pagination so that you can get the data in small chunks. In the case of 4chan, this is an example of operation using pagination:\n",
    "```\n",
    "http(s)://a.4cdn.org/board/pagenumber.json (1 is main index)\n",
    "```\n"
   ]
  },
  {
   "cell_type": "markdown",
   "metadata": {},
   "source": [
    "We know from the examples above that the /an/ board has 10 pages, so that we can iterate them in the following way:"
   ]
  },
  {
   "cell_type": "code",
   "execution_count": 8,
   "metadata": {
    "collapsed": false
   },
   "outputs": [
    {
     "name": "stdout",
     "output_type": "stream",
     "text": [
      "Anonymous\n",
      "---------------------------\n",
      "So, about a week and a half ago, I was opening the fridge for something or other, and my pet rabbit, Dobbit, dashes into the fridge and clambers onto one of the shelves.<br><br>I pull him out, get my food, forget about it. Over the past period, he keeps running inside, on average 1-2 times a day, and I would shoo him out. I figured that there was something in there he could smell, so today I just tried rewarding his persistence and letting him nibble whatever it was he so badly wanted.<br><br>So today, when he hopped in, I didn&#039;t chase him out. And he didn&#039;t go for anything. He just kind of sat on one of the shelves and grunted contentedly.<br><br>Anyone ever deal with similar behavior? I&#039;m stumped at this one.\n",
      "---------------------------\n",
      "[{u'bumplimit': 0, u'name': u'Anonymous', u'no': 2260014, u'tn_w': 177, u'h': 376, u'time': 1478566948, u'fsize': 23863, u'replies': 5, u'imagelimit': 0, u'filename': u'Confusedface', u'tim': 1478566948410, u'ext': u'.jpg', u'resto': 0, u'w': 267, u'tn_h': 250, u'images': 0, u'semantic_url': u'so-about-a-week-and-a-half-ago-i-was-opening-the', u'now': u'11/07/16(Mon)20:02:28', u'com': u'So, about a week and a half ago, I was opening the fridge for something or other, and my pet rabbit, Dobbit, dashes into the fridge and clambers onto one of the shelves.<br><br>I pull him out, get my food, forget about it. Over the past period, he keeps running inside, on average 1-2 times a day, and I would shoo him out. I figured that there was something in there he could smell, so today I just tried rewarding his persistence and letting him nibble whatever it was he so badly wanted.<br><br>So today, when he hopped in, I didn&#039;t chase him out. And he didn&#039;t go for anything. He just kind of sat on one of the shelves and grunted contentedly.<br><br>Anyone ever deal with similar behavior? I&#039;m stumped at this one.', u'md5': u'1O/Ydf9aZcaXU3iK4zOWsw=='}, {u'name': u'Anonymous', u'no': 2260018, u'resto': 2260014, u'time': 1478567126, u'now': u'11/07/16(Mon)20:05:26', u'com': u'my cats jump in the fridge all the time, maybe your bun has seen you grab veggies out of there?'}]\n",
      "Anonymous\n",
      "---------------------------\n",
      "kot is sad because the old thread hit the bump limit after 2 months<br><br><span class=\"quote\">&gt;mods could have stickied it</span>\n",
      "---------------------------\n",
      "[{u'replies': 181, u'images': 108, u'sub': u'/kot/ general', u'no': 2222704, u'fsize': 315104, u'filename': u'KdB29YIUi-Q', u'tim': 1474383355325, u'omitted_images': 107, u'md5': u'jX3Se0ukgOnMw9wSsp4DAQ==', u'bumplimit': 0, u'tn_h': 187, u'imagelimit': 0, u'semantic_url': u'kot-general', u'now': u'09/20/16(Tue)10:55:55', u'omitted_posts': 176, u'name': u'Anonymous', u'tn_w': 250, u'h': 960, u'ext': u'.jpg', u'resto': 0, u'w': 1280, u'time': 1474383355, u'com': u'kot is sad because the old thread hit the bump limit after 2 months<br><br><span class=\"quote\">&gt;mods could have stickied it</span>'}, {u'name': u'Anonymous', u'no': 2259343, u'tn_w': 125, u'h': 437, u'time': 1478459068, u'fsize': 643996, u'filename': u'2016-11-06 14_04_08-How to Make Blini _ Russian Pancakes Recipe _ \\u041a\\u0430\\u043a \\u0441\\u0434\\u0435\\u043b\\u0430\\u0442\\u044c \\u0411\\u043b\\u0438\\u043d\\u044b - YouTube', u'tim': 1478459068825, u'ext': u'.png', u'resto': 2222704, u'w': 793, u'tn_h': 68, u'now': u'11/06/16(Sun)14:04:28', u'com': u'<a href=\"#p2225654\" class=\"quotelink\">&gt;&gt;2225654</a><br><a href=\"#p2258853\" class=\"quotelink\">&gt;&gt;2258853</a><br><br><br><span class=\"quote\">&gt; see vid related</span><br><br>https://www.youtube.com/watch?v=RXn<wbr>AE9LTyfU', u'md5': u'q1SASNFPP0xYS4+pXE0yHg=='}]\n",
      "Anonymous\n",
      "---------------------------\n",
      "Hey /an/, /k/ommando here. I have a security job in the middle of nowhere at a scrap yard, and there&#039;s some cats and raccoons around by the dumpster.<br><br><span class=\"quote\">&gt;couple weeks ago see a little kitten</span><br><span class=\"quote\">&gt;very shy, runs away if I try to go near</span><br><span class=\"quote\">&gt;one day it&#039;s under my car</span><br><span class=\"quote\">&gt;to into the break room and grab some crackers</span><br><span class=\"quote\">&gt;lay down by my car with my flashlight and feed it</span><br><span class=\"quote\">&gt;snifs my hand, then backs off</span><br><span class=\"quote\">&gt;don&#039;t see it for a while</span><br><span class=\"quote\">&gt;yesterday, see it again</span><br><span class=\"quote\">&gt;lie down again and feed it more crackers</span><br><span class=\"quote\">&gt;get to pet it</span><br><span class=\"quote\">&gt;get to pick it up</span><br><span class=\"quote\">&gt;bring it inside to cuddle with</span><br><span class=\"quote\">&gt;it won&#039;t last the winter outside</span><br><span class=\"quote\">&gt;decide to adopt it since my border collie passed away a couple months ago</span><br><br>I&#039;m taking it to the vet today for a check up and shots<br><br>This is my first cat, anything I need to know?<br><span class=\"quote\">&gt;pic related, named it crackers (think it&#039;s a female but it&#039;s so young it&#039;s hard to tell)</span>\n",
      "---------------------------\n",
      "[{u'replies': 61, u'images': 11, u'sub': u'Rescued a feral kitten, what do?', u'no': 2257470, u'fsize': 447243, u'filename': u'Screenshot_20161103-095406', u'tim': 1478181306405, u'omitted_images': 8, u'md5': u'pa1sXat8H/flfFIy/CIU+g==', u'bumplimit': 0, u'tn_h': 200, u'imagelimit': 0, u'semantic_url': u'rescued-a-feral-kitten-what-do', u'now': u'11/03/16(Thu)09:55:06', u'omitted_posts': 56, u'name': u'Anonymous', u'tn_w': 250, u'h': 637, u'ext': u'.jpg', u'resto': 0, u'w': 796, u'time': 1478181306, u'com': u'Hey /an/, /k/ommando here. I have a security job in the middle of nowhere at a scrap yard, and there&#039;s some cats and raccoons around by the dumpster.<br><br><span class=\"quote\">&gt;couple weeks ago see a little kitten</span><br><span class=\"quote\">&gt;very shy, runs away if I try to go near</span><br><span class=\"quote\">&gt;one day it&#039;s under my car</span><br><span class=\"quote\">&gt;to into the break room and grab some crackers</span><br><span class=\"quote\">&gt;lay down by my car with my flashlight and feed it</span><br><span class=\"quote\">&gt;snifs my hand, then backs off</span><br><span class=\"quote\">&gt;don&#039;t see it for a while</span><br><span class=\"quote\">&gt;yesterday, see it again</span><br><span class=\"quote\">&gt;lie down again and feed it more crackers</span><br><span class=\"quote\">&gt;get to pet it</span><br><span class=\"quote\">&gt;get to pick it up</span><br><span class=\"quote\">&gt;bring it inside to cuddle with</span><br><span class=\"quote\">&gt;it won&#039;t last the winter outside</span><br><span class=\"quote\">&gt;decide to adopt it since my border collie passed away a couple months ago</span><br><br>I&#039;m taking it to the vet today for a check up and shots<br><br>This is my first cat, anything I need to know?<br><span class=\"quote\">&gt;pic related, named it crackers (think it&#039;s a female but it&#039;s so young it&#039;s hard to tell)</span>'}, {u'name': u'Anonymous', u'no': 2260004, u'resto': 2257470, u'time': 1478566595, u'now': u'11/07/16(Mon)19:56:35', u'com': u'<a href=\"#p2257498\" class=\"quotelink\">&gt;&gt;2257498</a><br>I think we both know that wasn&#039;t a femanon'}]\n",
      "Anonymous\n",
      "---------------------------\n",
      "Can someone identify this fungus?\n",
      "---------------------------\n",
      "[{u'bumplimit': 0, u'name': u'Anonymous', u'no': 2259446, u'tn_w': 187, u'h': 3271, u'time': 1478471207, u'fsize': 3700365, u'replies': 2, u'imagelimit': 0, u'filename': u'20161106_142244-01', u'tim': 1478471207594, u'ext': u'.jpg', u'resto': 0, u'w': 2453, u'tn_h': 250, u'images': 0, u'semantic_url': u'can-someone-identify-this-fungus', u'now': u'11/06/16(Sun)17:26:47', u'com': u'Can someone identify this fungus?', u'md5': u'jsSHwzk+rQzOlkrtCFb5Mw=='}, {u'name': u'Anonymous', u'no': 2259459, u'resto': 2259446, u'time': 1478472955, u'now': u'11/06/16(Sun)17:55:55', u'com': u'<a href=\"#p2259446\" class=\"quotelink\">&gt;&gt;2259446</a><br>Mycobrownia reclusii'}]\n",
      "Anonymous\n",
      "---------------------------\n",
      "<span class=\"quote\">&gt;when you stepped on their tail and now they&#039;ll always think you just randomly decided to hurt them</span>\n",
      "---------------------------\n",
      "[{u'bumplimit': 0, u'name': u'Anonymous', u'no': 2259825, u'tn_w': 250, u'h': 427, u'time': 1478540891, u'fsize': 60897, u'replies': 4, u'imagelimit': 0, u'filename': u'IMG_0295', u'tim': 1478540891657, u'ext': u'.jpg', u'resto': 0, u'w': 640, u'tn_h': 166, u'images': 0, u'semantic_url': u'when-you-stepped-on-their-tail-and-now-theyll', u'now': u'11/07/16(Mon)12:48:11', u'com': u'<span class=\"quote\">&gt;when you stepped on their tail and now they&#039;ll always think you just randomly decided to hurt them</span>', u'md5': u'vKkl7ACgitGOtw26yoK8XA=='}, {u'name': u'Anonymous', u'no': 2259842, u'resto': 2259825, u'time': 1478543856, u'now': u'11/07/16(Mon)13:37:36', u'com': u'No they wont, they forget almost immediately. Unlike humans, animals don&#039;t hold grudges.'}]\n",
      "Anonymous\n",
      "---------------------------\n",
      "I discovered my cat has fleas today.<br><br>Skipping past hundreds of flawed housewife home remedies, how do I kill them permanently on my cat? What products actually work<br><br>In a week I&#039;m moving to a new apartment (traveling extremely light). Cleaning this apartment isn&#039;t an option. How can I deal with them for the next week and ensure that when I move, my cat and new apartment is free from fleas?<br><br>Please help.\n",
      "---------------------------\n",
      "[{u'bumplimit': 0, u'name': u'Anonymous', u'no': 2259763, u'tn_w': 232, u'h': 1248, u'time': 1478529204, u'fsize': 1533768, u'replies': 4, u'imagelimit': 0, u'filename': u'flea-exterior-interior_1162x1248', u'tim': 1478529204962, u'ext': u'.jpg', u'resto': 0, u'w': 1162, u'tn_h': 250, u'images': 0, u'semantic_url': u'i-discovered-my-cat-has-fleas-today', u'now': u'11/07/16(Mon)09:33:24', u'com': u'I discovered my cat has fleas today.<br><br>Skipping past hundreds of flawed housewife home remedies, how do I kill them permanently on my cat? What products actually work<br><br>In a week I&#039;m moving to a new apartment (traveling extremely light). Cleaning this apartment isn&#039;t an option. How can I deal with them for the next week and ensure that when I move, my cat and new apartment is free from fleas?<br><br>Please help.', u'md5': u'AFTJKJNUvkCa8HIS6BAp9g=='}, {u'name': u'Anonymous', u'no': 2259779, u'resto': 2259763, u'time': 1478531476, u'now': u'11/07/16(Mon)10:11:16', u'com': u'Frontline or Vectra for shoulder application, and capstar from the vet to kill anything presently living. Wash all clothes and bedding before introducing them to the new place. Also, have the vet check a stool sample for tapeworms too.'}]\n",
      "Anonymous\n",
      "---------------------------\n",
      "Sup /an/, decided to buy 6x12x6 inch, 1.5 gallon tank for my betta (seen in pic), it has some decent reviews on amazon. I will also be buying a small filter which is supposedly compatible. Using triops as tankmates and I plan breed them, the tank comes with dividers so I could separate the baby triops from the betta. Torpedo beach sand will be the substrate.<br><br>Does this sound like a good setup?<br><br>P.S: I might grow some flora if I get a Led.\n",
      "---------------------------\n",
      "[{u'replies': 9, u'images': 0, u'sub': u'Setup for my betta.', u'no': 2258511, u'fsize': 134962, u'filename': u'Tank', u'tim': 1478326305828, u'omitted_images': 0, u'md5': u'Da7IADLsl3zr+J2RfwsExA==', u'bumplimit': 0, u'tn_h': 177, u'imagelimit': 0, u'semantic_url': u'setup-for-my-betta', u'now': u'11/05/16(Sat)02:11:45', u'omitted_posts': 4, u'name': u'Anonymous', u'tn_w': 250, u'h': 1063, u'ext': u'.jpg', u'resto': 0, u'w': 1500, u'time': 1478326305, u'com': u'Sup /an/, decided to buy 6x12x6 inch, 1.5 gallon tank for my betta (seen in pic), it has some decent reviews on amazon. I will also be buying a small filter which is supposedly compatible. Using triops as tankmates and I plan breed them, the tank comes with dividers so I could separate the baby triops from the betta. Torpedo beach sand will be the substrate.<br><br>Does this sound like a good setup?<br><br>P.S: I might grow some flora if I get a Led.'}, {u'name': u'Anonymous', u'no': 2259320, u'resto': 2258511, u'time': 1478455872, u'now': u'11/06/16(Sun)13:11:12', u'com': u'<a href=\"#p2258511\" class=\"quotelink\">&gt;&gt;2258511</a><br>Google aquajapan-30 it&#039;s in the range of 100$ and comes with the light and built in filtration. It&#039;s 7.5 gallons ish, and capable of growing plants like crypto and Anubius. Don&#039;t use torpedo beach, start with either substratum by fluval (I think) or eco-complete. Mix 50/50 tap water and distilled (or rodi) for initial water and any/all water changes. Buy a heater, prime, a 200gph pump (lifegard), stability by seachem and flourish excel by seachem. Start off right to avoid heartache and read all the bottles.'}]\n",
      "Anonymous\n",
      "---------------------------\n",
      "Does this skull belong to a carnivore or a herbivore?\n",
      "---------------------------\n",
      "[{u'replies': 22, u'images': 11, u'sub': u'Mystery Skull', u'no': 2256677, u'fsize': 89638, u'filename': u'MysterySkull', u'tim': 1478064518226, u'omitted_images': 10, u'md5': u'mUmhxC1GNP0c3bQBLABn7A==', u'bumplimit': 0, u'tn_h': 158, u'imagelimit': 0, u'semantic_url': u'mystery-skull', u'now': u'11/02/16(Wed)01:28:38', u'omitted_posts': 17, u'name': u'Anonymous', u'tn_w': 250, u'h': 271, u'ext': u'.jpg', u'resto': 0, u'w': 428, u'time': 1478064518, u'com': u'Does this skull belong to a carnivore or a herbivore?'}, {u'name': u'Anonymous', u'no': 2259081, u'tn_w': 125, u'h': 280, u'time': 1478413057, u'fsize': 80732, u'filename': u'Fig-2-Skull-of-the-Korean-water-deer-A-Male-Specimen-ID-KJ0163-age-group-3-left', u'tim': 1478413057332, u'ext': u'.png', u'resto': 2256677, u'w': 850, u'tn_h': 41, u'now': u'11/06/16(Sun)01:17:37', u'com': u'<a href=\"#p2259079\" class=\"quotelink\">&gt;&gt;2259079</a><br>only the male has it<br><br>i imagine camels use their sharp teeth for processing rugged desert vegetation', u'md5': u'iTmHhqf3SEDUWysYNqCbdQ=='}]\n",
      "Anonymous\n",
      "---------------------------\n",
      "Can&#039;t seem to find any good YouTube channels for the subjects of zoology and ecology and other related subjects seems like you guys would know<br><br>Pic unrelated\n",
      "---------------------------\n",
      "[{u'bumplimit': 0, u'sub': u'ITT: any good YouTube channels about zoology/ecology/etc.', u'no': 2257852, u'tn_w': 140, u'h': 1136, u'time': 1478231636, u'fsize': 1248639, u'replies': 3, u'imagelimit': 0, u'filename': u'image', u'tim': 1478231636206, u'ext': u'.png', u'resto': 0, u'w': 640, u'tn_h': 250, u'images': 0, u'semantic_url': u'itt-any-good-youtube-channels-about', u'now': u'11/03/16(Thu)23:53:56', u'com': u'Can&#039;t seem to find any good YouTube channels for the subjects of zoology and ecology and other related subjects seems like you guys would know<br><br>Pic unrelated', u'md5': u'rqB9qKVln5R2nhVJjsTqnw==', u'name': u'Anonymous'}, {u'name': u'Anonymous', u'no': 2257882, u'resto': 2257852, u'time': 1478237902, u'now': u'11/04/16(Fri)01:38:22', u'com': u'(not related) Greg, is that you?'}]\n"
     ]
    }
   ],
   "source": [
    "for p in range(1, 10):\n",
    "    page = rq.get('https://a.4cdn.org/an/'+str(p)+'.json')\n",
    "    contents = json.loads(page.text)\n",
    "    #print contents\n",
    "    print contents[\"threads\"][0][\"posts\"][0][\"name\"]\n",
    "    print \"---------------------------\"\n",
    "    print contents[\"threads\"][0][\"posts\"][0][\"com\"]\n",
    "    print \"---------------------------\"\n",
    "    print contents[\"threads\"][0][\"posts\"][0:2]"
   ]
  },
  {
   "cell_type": "code",
   "execution_count": null,
   "metadata": {
    "collapsed": true
   },
   "outputs": [],
   "source": []
  }
 ],
 "metadata": {
  "anaconda-cloud": {},
  "kernelspec": {
   "display_name": "Python [py27]",
   "language": "python",
   "name": "Python [py27]"
  },
  "language_info": {
   "codemirror_mode": {
    "name": "ipython",
    "version": 2
   },
   "file_extension": ".py",
   "mimetype": "text/x-python",
   "name": "python",
   "nbconvert_exporter": "python",
   "pygments_lexer": "ipython2",
   "version": "2.7.12"
  }
 },
 "nbformat": 4,
 "nbformat_minor": 0
}
