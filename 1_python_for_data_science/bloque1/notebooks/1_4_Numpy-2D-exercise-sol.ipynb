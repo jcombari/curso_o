{
 "cells": [
  {
   "cell_type": "markdown",
   "metadata": {},
   "source": [
    "# Using NumPy arrays with two-dimensional data"
   ]
  },
  {
   "cell_type": "markdown",
   "metadata": {},
   "source": [
    "## Creating multi-dimensional data"
   ]
  },
  {
   "cell_type": "markdown",
   "metadata": {},
   "source": [
    "You can create bi-dimensional arrays passing a **list of lists** (works also with some other sequence types)."
   ]
  },
  {
   "cell_type": "code",
   "execution_count": 1,
   "metadata": {
    "collapsed": false
   },
   "outputs": [
    {
     "name": "stdout",
     "output_type": "stream",
     "text": [
      "[[ 1  2  3  4]\n",
      " [ 5  6  7  8]\n",
      " [ 9 10 11 12]]\n"
     ]
    }
   ],
   "source": [
    "import numpy as np\n",
    "m = np.array([[1, 2, 3, 4], [5, 6, 7, 8], [9, 10, 11, 12]])\n",
    "print m"
   ]
  },
  {
   "cell_type": "markdown",
   "metadata": {},
   "source": [
    "You can get the dimensions of the array with <code>shape</code>, and the number of dimensions with <code>ndim</code>."
   ]
  },
  {
   "cell_type": "code",
   "execution_count": 2,
   "metadata": {
    "collapsed": false
   },
   "outputs": [
    {
     "name": "stdout",
     "output_type": "stream",
     "text": [
      "(3, 4)\n",
      "2\n"
     ]
    }
   ],
   "source": [
    "print m.shape\n",
    "print m.ndim"
   ]
  },
  {
   "cell_type": "markdown",
   "metadata": {},
   "source": [
    "In the case of using creation functions, you have to pass a tuple with the **shape** you want the array to have."
   ]
  },
  {
   "cell_type": "code",
   "execution_count": 3,
   "metadata": {
    "collapsed": false
   },
   "outputs": [
    {
     "name": "stdout",
     "output_type": "stream",
     "text": [
      "[[ 1.  1.  1.  1.  1.  1.  1.]\n",
      " [ 1.  1.  1.  1.  1.  1.  1.]\n",
      " [ 1.  1.  1.  1.  1.  1.  1.]]\n"
     ]
    }
   ],
   "source": [
    "ones = np.ones((3, 7))\n",
    "print ones"
   ]
  },
  {
   "cell_type": "markdown",
   "metadata": {},
   "source": [
    "And you can use the same functions that with one-dimensional arrays."
   ]
  },
  {
   "cell_type": "code",
   "execution_count": 4,
   "metadata": {
    "collapsed": false
   },
   "outputs": [
    {
     "name": "stdout",
     "output_type": "stream",
     "text": [
      "42.0\n",
      "[[ 2.  2.  2.  2.  2.  2.  2.]\n",
      " [ 2.  2.  2.  2.  2.  2.  2.]\n",
      " [ 2.  2.  2.  2.  2.  2.  2.]]\n"
     ]
    }
   ],
   "source": [
    "ones.fill(2)\n",
    "print ones.sum()\n",
    "print ones"
   ]
  },
  {
   "cell_type": "markdown",
   "metadata": {},
   "source": [
    "## Indexing and slicing"
   ]
  },
  {
   "cell_type": "markdown",
   "metadata": {},
   "source": [
    "If you use a single index, you are getting a row. If you index two times, you are indexing a concrete element."
   ]
  },
  {
   "cell_type": "code",
   "execution_count": 5,
   "metadata": {
    "collapsed": false
   },
   "outputs": [
    {
     "name": "stdout",
     "output_type": "stream",
     "text": [
      "[ 9 10 11 12]\n",
      "11\n",
      "11\n"
     ]
    }
   ],
   "source": [
    "print m[2]\n",
    "print m[2][2]\n",
    "print m[2,2]"
   ]
  },
  {
   "cell_type": "markdown",
   "metadata": {},
   "source": [
    "You can slice the array in one or several of the axis."
   ]
  },
  {
   "cell_type": "code",
   "execution_count": 6,
   "metadata": {
    "collapsed": false
   },
   "outputs": [
    {
     "name": "stdout",
     "output_type": "stream",
     "text": [
      "[[ 2.  2.  2.  2.  2.  8.  8.]\n",
      " [ 2.  2.  2.  2.  2.  8.  8.]\n",
      " [ 2.  2.  2.  2.  2.  8.  8.]]\n"
     ]
    }
   ],
   "source": [
    "# We create a view of the data for all the rows (:) and the columns in positions 5 and 6.\n",
    "ones[:,5:7].fill(8)\n",
    "print ones"
   ]
  },
  {
   "cell_type": "code",
   "execution_count": 7,
   "metadata": {
    "collapsed": false
   },
   "outputs": [
    {
     "name": "stdout",
     "output_type": "stream",
     "text": [
      "[[  1   2  30   4]\n",
      " [  5   6  70   8]\n",
      " [  9  10 110  12]]\n",
      "[[  1   2  30   4]\n",
      " [  0   0   0   0]\n",
      " [  9  10 110  12]]\n"
     ]
    }
   ],
   "source": [
    "# Slice array m to get only the third column and multiply the values of that column by 10.\n",
    "m[:, 2] = m[:,2]*10\n",
    "print m\n",
    "\n",
    "# slice the middle row of m and set it to zeros\n",
    "m[1,:] = 0\n",
    "print m"
   ]
  },
  {
   "cell_type": "markdown",
   "metadata": {},
   "source": [
    "You can also index matrices with booleans."
   ]
  },
  {
   "cell_type": "code",
   "execution_count": 8,
   "metadata": {
    "collapsed": false
   },
   "outputs": [
    {
     "name": "stdout",
     "output_type": "stream",
     "text": [
      "[[False False  True False]\n",
      " [False False False False]\n",
      " [False False  True  True]]\n",
      "[ 1  2  4  0  0  0  0  9 10]\n"
     ]
    }
   ],
   "source": [
    "#Generate a boolean matrix with the numbers above 10 in m\n",
    "\n",
    "sel = m >10 \n",
    "print sel\n",
    "\n",
    "# Use the boolean matrix to get an array with the values that are below or equal than 10 in the matrix.\n",
    "a = m[sel == False]\n",
    "print a"
   ]
  },
  {
   "cell_type": "markdown",
   "metadata": {},
   "source": [
    "## Operations in different axis"
   ]
  },
  {
   "cell_type": "markdown",
   "metadata": {},
   "source": [
    "Statistical and other operations can be applied by rows or columns by indicating the **axis**."
   ]
  },
  {
   "cell_type": "code",
   "execution_count": 9,
   "metadata": {
    "collapsed": false
   },
   "outputs": [
    {
     "data": {
      "text/plain": [
       "array([10, 15,  7,  3, 14,  9,  6,  8,  1,  7,  3,  6, 19, 17, 15, 16,  8,\n",
       "       17])"
      ]
     },
     "execution_count": 9,
     "metadata": {},
     "output_type": "execute_result"
    }
   ],
   "source": [
    "mat = np.random.randint(1, 20, 18)\n",
    "mat"
   ]
  },
  {
   "cell_type": "code",
   "execution_count": 10,
   "metadata": {
    "collapsed": false
   },
   "outputs": [
    {
     "data": {
      "text/plain": [
       "array([[10, 15,  7],\n",
       "       [ 3, 14,  9],\n",
       "       [ 6,  8,  1],\n",
       "       [ 7,  3,  6],\n",
       "       [19, 17, 15],\n",
       "       [16,  8, 17]])"
      ]
     },
     "execution_count": 10,
     "metadata": {},
     "output_type": "execute_result"
    }
   ],
   "source": [
    "mat = mat.reshape((6,3))\n",
    "mat"
   ]
  },
  {
   "cell_type": "code",
   "execution_count": 11,
   "metadata": {
    "collapsed": false
   },
   "outputs": [
    {
     "data": {
      "text/plain": [
       "181"
      ]
     },
     "execution_count": 11,
     "metadata": {},
     "output_type": "execute_result"
    }
   ],
   "source": [
    "mat.sum()"
   ]
  },
  {
   "cell_type": "code",
   "execution_count": 12,
   "metadata": {
    "collapsed": false
   },
   "outputs": [
    {
     "data": {
      "text/plain": [
       "array([32, 26, 15, 16, 51, 41])"
      ]
     },
     "execution_count": 12,
     "metadata": {},
     "output_type": "execute_result"
    }
   ],
   "source": [
    "mat.sum(axis=1)"
   ]
  },
  {
   "cell_type": "code",
   "execution_count": 13,
   "metadata": {
    "collapsed": false
   },
   "outputs": [
    {
     "data": {
      "text/plain": [
       "array([61, 65, 55])"
      ]
     },
     "execution_count": 13,
     "metadata": {},
     "output_type": "execute_result"
    }
   ],
   "source": [
    "mat.sum(axis=0)"
   ]
  },
  {
   "cell_type": "markdown",
   "metadata": {},
   "source": [
    "## Transposing"
   ]
  },
  {
   "cell_type": "markdown",
   "metadata": {},
   "source": [
    "NumPy arrays can be reshaped easily."
   ]
  },
  {
   "cell_type": "code",
   "execution_count": 14,
   "metadata": {
    "collapsed": false
   },
   "outputs": [
    {
     "name": "stdout",
     "output_type": "stream",
     "text": [
      "(15,)\n",
      "[[ 20.          20.71428571  21.42857143]\n",
      " [ 22.14285714  22.85714286  23.57142857]\n",
      " [ 24.28571429  25.          25.71428571]\n",
      " [ 26.42857143  27.14285714  27.85714286]\n",
      " [ 28.57142857  29.28571429  30.        ]]\n",
      "(5, 3)\n"
     ]
    }
   ],
   "source": [
    "m1 = np.linspace(20,30, 15)\n",
    "print m1.shape\n",
    "m1 = m1.reshape((5, 3)) # You have to pass a tuple\n",
    "print m1\n",
    "print m1.shape"
   ]
  },
  {
   "cell_type": "markdown",
   "metadata": {},
   "source": [
    "You can also transpose a matrix."
   ]
  },
  {
   "cell_type": "code",
   "execution_count": 15,
   "metadata": {
    "collapsed": false
   },
   "outputs": [
    {
     "name": "stdout",
     "output_type": "stream",
     "text": [
      "[[ 20.          22.14285714  24.28571429  26.42857143  28.57142857]\n",
      " [ 20.71428571  22.85714286  25.          27.14285714  29.28571429]\n",
      " [ 21.42857143  23.57142857  25.71428571  27.85714286  30.        ]]\n"
     ]
    }
   ],
   "source": [
    "print m1.T"
   ]
  },
  {
   "cell_type": "markdown",
   "metadata": {},
   "source": [
    "## Plotting"
   ]
  },
  {
   "cell_type": "markdown",
   "metadata": {},
   "source": [
    "Plotting by default takes each column of a matrix as an independent series of data."
   ]
  },
  {
   "cell_type": "code",
   "execution_count": 16,
   "metadata": {
    "collapsed": false
   },
   "outputs": [
    {
     "name": "stderr",
     "output_type": "stream",
     "text": [
      "/Users/msicilia/anaconda3/envs/py27/lib/python2.7/site-packages/matplotlib/font_manager.py:273: UserWarning: Matplotlib is building the font cache using fc-list. This may take a moment.\n",
      "  warnings.warn('Matplotlib is building the font cache using fc-list. This may take a moment.')\n"
     ]
    },
    {
     "data": {
      "text/plain": [
       "{'boxes': [<matplotlib.lines.Line2D at 0x10c8830d0>,\n",
       "  <matplotlib.lines.Line2D at 0x10c8a28d0>,\n",
       "  <matplotlib.lines.Line2D at 0x10c8c4510>],\n",
       " 'caps': [<matplotlib.lines.Line2D at 0x10c883fd0>,\n",
       "  <matplotlib.lines.Line2D at 0x10c892650>,\n",
       "  <matplotlib.lines.Line2D at 0x10c8afc10>,\n",
       "  <matplotlib.lines.Line2D at 0x10c8b9290>,\n",
       "  <matplotlib.lines.Line2D at 0x10ca07850>,\n",
       "  <matplotlib.lines.Line2D at 0x10ca07e90>],\n",
       " 'fliers': [<matplotlib.lines.Line2D at 0x10c8a2310>,\n",
       "  <matplotlib.lines.Line2D at 0x10c8b9f10>,\n",
       "  <matplotlib.lines.Line2D at 0x10ca13b50>],\n",
       " 'means': [],\n",
       " 'medians': [<matplotlib.lines.Line2D at 0x10c892c90>,\n",
       "  <matplotlib.lines.Line2D at 0x10c8b98d0>,\n",
       "  <matplotlib.lines.Line2D at 0x10ca13510>],\n",
       " 'whiskers': [<matplotlib.lines.Line2D at 0x10c8832d0>,\n",
       "  <matplotlib.lines.Line2D at 0x10c883990>,\n",
       "  <matplotlib.lines.Line2D at 0x10c8a2f50>,\n",
       "  <matplotlib.lines.Line2D at 0x10c8af5d0>,\n",
       "  <matplotlib.lines.Line2D at 0x10c8c4b90>,\n",
       "  <matplotlib.lines.Line2D at 0x10ca07210>]}"
      ]
     },
     "execution_count": 16,
     "metadata": {},
     "output_type": "execute_result"
    },
    {
     "data": {
      "image/png": "[encoded data removed]",
      "text/plain": [
       "<matplotlib.figure.Figure at 0x10953df90>"
      ]
     },
     "metadata": {},
     "output_type": "display_data"
    }
   ],
   "source": [
    "import matplotlib.pyplot as plt\n",
    "%matplotlib inline\n",
    "plt.boxplot(m1)"
   ]
  },
  {
   "cell_type": "code",
   "execution_count": null,
   "metadata": {
    "collapsed": false
   },
   "outputs": [],
   "source": []
  }
 ],
 "metadata": {
  "anaconda-cloud": {},
  "kernelspec": {
   "display_name": "Python [py27]",
   "language": "python",
   "name": "Python [py27]"
  },
  "language_info": {
   "codemirror_mode": {
    "name": "ipython",
    "version": 2
   },
   "file_extension": ".py",
   "mimetype": "text/x-python",
   "name": "python",
   "nbconvert_exporter": "python",
   "pygments_lexer": "ipython2",
   "version": "2.7.12"
  }
 },
 "nbformat": 4,
 "nbformat_minor": 0
}
