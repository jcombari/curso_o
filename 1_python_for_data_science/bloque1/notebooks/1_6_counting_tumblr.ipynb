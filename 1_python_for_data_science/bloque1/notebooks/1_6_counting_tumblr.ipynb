{
 "cells": [
  {
   "cell_type": "markdown",
   "metadata": {},
   "source": [
    "## Tipos de posts en Tumblr"
   ]
  },
  {
   "cell_type": "markdown",
   "metadata": {},
   "source": [
    "La bibliotecas pytumblr es la \"oficial\" de la red social para el lenguaje Python. Más información aquí: https://github.com/tumblr/pytumblr"
   ]
  },
  {
   "cell_type": "code",
   "execution_count": 2,
   "metadata": {
    "collapsed": false
   },
   "outputs": [],
   "source": [
    "import pytumblr"
   ]
  },
  {
   "cell_type": "markdown",
   "metadata": {},
   "source": [
    "Como solo vamos a extraer posts taggeados, no hace falta autenticación, basta con una consumer key que temdremos que obtener creando antes una cuenta en Tumblr y solicitando una aplicación."
   ]
  },
  {
   "cell_type": "code",
   "execution_count": 3,
   "metadata": {
    "collapsed": false
   },
   "outputs": [],
   "source": [
    "apikey = \"FEe2Qt1CS2Z6ZSFsU4KUgGfHNgcGIXfUOoELZjyxpZJFtjS203\"\n",
    "client = pytumblr.TumblrRestClient(consumer_key=apikey)"
   ]
  },
  {
   "cell_type": "markdown",
   "metadata": {},
   "source": [
    "Probamos el tipo de datos que nos devuelve la recuperación por tags. "
   ]
  },
  {
   "cell_type": "code",
   "execution_count": 4,
   "metadata": {
    "collapsed": false
   },
   "outputs": [
    {
     "name": "stdout",
     "output_type": "stream",
     "text": [
      "<type 'dict'>\n"
     ]
    },
    {
     "data": {
      "text/plain": [
       "{u'blog_name': u'enchantressofbeauty',\n",
       " u'body': u'',\n",
       " u'can_like': True,\n",
       " u'can_reblog': True,\n",
       " u'can_reply': False,\n",
       " u'can_send_in_message': True,\n",
       " u'date': u'2016-10-26 14:13:41 GMT',\n",
       " u'display_avatar': True,\n",
       " u'format': u'html',\n",
       " u'highlighted': [],\n",
       " u'id': 152336659195,\n",
       " u'note_count': 0,\n",
       " u'post_url': u'http://enchantressofbeauty.tumblr.com/post/152336659195',\n",
       " u'reblog': {u'comment': u'', u'tree_html': u''},\n",
       " u'reblog_key': u'fIGXG2XD',\n",
       " u'recommended_color': None,\n",
       " u'recommended_source': None,\n",
       " u'short_url': u'https://tmblr.co/Z37Ifw2Dt_FBx',\n",
       " u'slug': u'walang-sagot-sa-tanong-kung-bakit-ka-mahalaga',\n",
       " u'state': u'published',\n",
       " u'summary': u'walang sagot sa tanong kung bakit ka mahalaga.',\n",
       " u'tags': [u'random', u'sila'],\n",
       " u'timestamp': 1477491221,\n",
       " u'title': u'walang sagot sa tanong kung bakit ka mahalaga.',\n",
       " u'trail': [],\n",
       " u'type': u'text'}"
      ]
     },
     "execution_count": 4,
     "metadata": {},
     "output_type": "execute_result"
    }
   ],
   "source": [
    "# Prueba, imprimimos el primero de la lista que nos devuelve.\n",
    "post = client.tagged(\"random\")[0]\n",
    "print type(post)\n",
    "post"
   ]
  },
  {
   "cell_type": "markdown",
   "metadata": {},
   "source": [
    "Ahora vamos a sacar muestras de posts sucesivas para analizar los tipos."
   ]
  },
  {
   "cell_type": "code",
   "execution_count": 5,
   "metadata": {
    "collapsed": false
   },
   "outputs": [],
   "source": [
    "samplingtimes = 10"
   ]
  },
  {
   "cell_type": "markdown",
   "metadata": {},
   "source": [
    "Y almacenaremos los tipos de los posts en una matriz."
   ]
  },
  {
   "cell_type": "code",
   "execution_count": 6,
   "metadata": {
    "collapsed": false
   },
   "outputs": [],
   "source": [
    "import numpy as np\n",
    "data = np.matrix([])\n",
    "# 20 columnas, porque Tumblr devuelve grupos de 20.\n",
    "data.shape=(0, 20)"
   ]
  },
  {
   "cell_type": "code",
   "execution_count": 7,
   "metadata": {
    "collapsed": false
   },
   "outputs": [
    {
     "name": "stdout",
     "output_type": "stream",
     "text": [
      "[u'text', u'text', u'photo', u'photo', u'photo', u'photo', u'photo', u'chat', u'photo', u'text', u'text', u'text', u'photo', u'text', u'photo', u'photo', u'photo', u'chat', u'photo', u'text']\n",
      "[u'photo', u'text', u'photo', u'text', u'photo', u'quote', u'photo', u'text', u'text', u'photo', u'photo', u'text', u'photo', u'text', u'text', u'photo', u'photo', u'text', u'text', u'text']\n",
      "[u'photo', u'photo', u'text', u'photo', u'photo', u'text', u'text', u'chat', u'photo', u'text', u'video', u'text', u'text', u'text', u'text', u'photo', u'text', u'text', u'photo', u'text']\n",
      "[u'photo', u'text', u'text', u'video', u'photo', u'text', u'text', u'text', u'text', u'text', u'text', u'photo', u'text', u'photo', u'photo', u'text', u'quote', u'photo', u'quote', u'text']\n",
      "[u'photo', u'text', u'text', u'text', u'text', u'photo', u'photo', u'photo', u'text', u'text', u'photo', u'text', u'photo', u'photo', u'photo', u'text', u'photo', u'text', u'text', u'photo']\n",
      "[u'text', u'photo', u'text', u'photo', u'text', u'photo', u'text', u'photo', u'video', u'photo', u'photo', u'photo', u'photo', u'text', u'photo', u'photo', u'photo', u'text', u'photo', u'photo']\n",
      "[u'photo', u'photo', u'photo', u'photo', u'photo', u'text', u'photo', u'text', u'photo', u'photo', u'photo', u'text', u'photo', u'text', u'photo', u'text', u'text', u'photo', u'photo', u'text']\n",
      "[u'text', u'photo', u'photo', u'text', u'text', u'photo', u'photo', u'quote', u'photo', u'photo', u'text', u'photo', u'text', u'photo', u'photo', u'photo', u'text', u'text', u'text', u'photo']\n",
      "[u'photo', u'text', u'text', u'photo', u'photo', u'photo', u'text', u'text', u'photo', u'text', u'photo', u'text', u'photo', u'text', u'text', u'text', u'photo', u'photo', u'photo', u'photo']\n",
      "[u'audio', u'photo', u'text', u'photo', u'text', u'photo', u'photo', u'photo', u'text', u'text', u'text', u'photo', u'photo', u'text', u'photo', u'photo', u'text', u'text', u'photo', u'text']\n"
     ]
    }
   ],
   "source": [
    "\n",
    "before = None # Para controlar que sacamos grupos diferentes de posts.\n",
    "\n",
    "for i in range(0, samplingtimes):\n",
    "    if before is None:\n",
    "        posts = client.tagged(\"random\")\n",
    "    else:\n",
    "        posts = client.tagged(\"random\", before=before)\n",
    "    # Tomamos los tipos de post y las marcas temporales:\n",
    "    types = []\n",
    "    timestamps = []\n",
    "    for p in posts:\n",
    "        types.append(p[\"type\"])\n",
    "        timestamps.append(p[\"timestamp\"])\n",
    "    print types\n",
    "    # Sacamos la marca temporal más antigua:\n",
    "    before = min(timestamps)\n",
    "    data = np.vstack([data, np.array(types)])    "
   ]
  },
  {
   "cell_type": "code",
   "execution_count": 8,
   "metadata": {
    "collapsed": false
   },
   "outputs": [
    {
     "data": {
      "text/plain": [
       "matrix([[u'text', u'text', u'photo', u'photo', u'photo', u'photo', u'photo',\n",
       "         u'chat', u'photo', u'text', u'text', u'text', u'photo', u'text',\n",
       "         u'photo', u'photo', u'photo', u'chat', u'photo', u'text'],\n",
       "        [u'photo', u'text', u'photo', u'text', u'photo', u'quote', u'photo',\n",
       "         u'text', u'text', u'photo', u'photo', u'text', u'photo', u'text',\n",
       "         u'text', u'photo', u'photo', u'text', u'text', u'text'],\n",
       "        [u'photo', u'photo', u'text', u'photo', u'photo', u'text', u'text',\n",
       "         u'chat', u'photo', u'text', u'video', u'text', u'text', u'text',\n",
       "         u'text', u'photo', u'text', u'text', u'photo', u'text'],\n",
       "        [u'photo', u'text', u'text', u'video', u'photo', u'text', u'text',\n",
       "         u'text', u'text', u'text', u'text', u'photo', u'text', u'photo',\n",
       "         u'photo', u'text', u'quote', u'photo', u'quote', u'text'],\n",
       "        [u'photo', u'text', u'text', u'text', u'text', u'photo', u'photo',\n",
       "         u'photo', u'text', u'text', u'photo', u'text', u'photo', u'photo',\n",
       "         u'photo', u'text', u'photo', u'text', u'text', u'photo'],\n",
       "        [u'text', u'photo', u'text', u'photo', u'text', u'photo', u'text',\n",
       "         u'photo', u'video', u'photo', u'photo', u'photo', u'photo',\n",
       "         u'text', u'photo', u'photo', u'photo', u'text', u'photo', u'photo'],\n",
       "        [u'photo', u'photo', u'photo', u'photo', u'photo', u'text',\n",
       "         u'photo', u'text', u'photo', u'photo', u'photo', u'text', u'photo',\n",
       "         u'text', u'photo', u'text', u'text', u'photo', u'photo', u'text'],\n",
       "        [u'text', u'photo', u'photo', u'text', u'text', u'photo', u'photo',\n",
       "         u'quote', u'photo', u'photo', u'text', u'photo', u'text', u'photo',\n",
       "         u'photo', u'photo', u'text', u'text', u'text', u'photo'],\n",
       "        [u'photo', u'text', u'text', u'photo', u'photo', u'photo', u'text',\n",
       "         u'text', u'photo', u'text', u'photo', u'text', u'photo', u'text',\n",
       "         u'text', u'text', u'photo', u'photo', u'photo', u'photo'],\n",
       "        [u'audio', u'photo', u'text', u'photo', u'text', u'photo', u'photo',\n",
       "         u'photo', u'text', u'text', u'text', u'photo', u'photo', u'text',\n",
       "         u'photo', u'photo', u'text', u'text', u'photo', u'text']], \n",
       "       dtype='<U32')"
      ]
     },
     "execution_count": 8,
     "metadata": {},
     "output_type": "execute_result"
    }
   ],
   "source": [
    "data"
   ]
  },
  {
   "cell_type": "code",
   "execution_count": 9,
   "metadata": {
    "collapsed": false
   },
   "outputs": [
    {
     "data": {
      "text/plain": [
       "(10, 20)"
      ]
     },
     "execution_count": 9,
     "metadata": {},
     "output_type": "execute_result"
    }
   ],
   "source": [
    "data.shape"
   ]
  },
  {
   "cell_type": "markdown",
   "metadata": {},
   "source": [
    "Podemos ahora con <code>unique()</code> obtener las diferentes etiquetas que han salido en la muestra (no necesariamente todos los valores de Tumblr)"
   ]
  },
  {
   "cell_type": "code",
   "execution_count": 10,
   "metadata": {
    "collapsed": false
   },
   "outputs": [
    {
     "data": {
      "text/plain": [
       "array([u'audio', u'chat', u'photo', u'quote', u'text', u'video'], \n",
       "      dtype='<U32')"
      ]
     },
     "execution_count": 10,
     "metadata": {},
     "output_type": "execute_result"
    }
   ],
   "source": [
    "labels = np.unique(np.array(data))\n",
    "labels"
   ]
  },
  {
   "cell_type": "markdown",
   "metadata": {},
   "source": [
    "### Contando los diferentes tipos"
   ]
  },
  {
   "cell_type": "code",
   "execution_count": 11,
   "metadata": {
    "collapsed": false
   },
   "outputs": [
    {
     "name": "stdout",
     "output_type": "stream",
     "text": [
      "[1, 3, 101, 4, 88, 3] 200\n",
      "[ 0.005  0.015  0.505  0.02   0.44   0.015]\n"
     ]
    }
   ],
   "source": [
    "counts = []\n",
    "for t in labels:\n",
    "    valores = data[data == t]\n",
    "    cuenta = valores.size  # Cuidado, no utilizar len()\n",
    "    counts = counts + [cuenta]\n",
    "    \n",
    "\n",
    "print counts, sum(counts)\n",
    "print np.array(counts) / float(sum(counts))    "
   ]
  },
  {
   "cell_type": "markdown",
   "metadata": {},
   "source": [
    "### Ejercicios propuestos"
   ]
  },
  {
   "cell_type": "markdown",
   "metadata": {},
   "source": [
    "1. Supongamos que contamos la proporción de los posts de tipo \"photo\" contra el total de los posts de cada extracción de Tumblr. Cada extracción tendría un valor de esta proporción que lógicamente no sería el mismo. Si tomamos las proporciones para las <code>samplingtimes</code> extracciones, tendríamos un array de proporciones. Intenta extraerlo y dibujar su histograma y distribución de densidad para diferentes valores de <code>samplingtimes</code>. ¿A qué distribución se parece? ¿Qué teorema fundamental de la estadística estamos observando?\n",
    "2. Utilizando funciones en scipy.stats, calcula la probabilidad de que tomando 100 posts de Tumblr, haya 80 que sean de tipo \"photo\", considerando el resto como un segundo tipo globalmente. Puedes utilizar las técnicas anteriores para estimar las probabilidades (la proporción de un tipo respecto al resto). \n",
    "3. Toma muestras de Tumblr y dibuja las frecuencias de aparición de los tags. "
   ]
  },
  {
   "cell_type": "code",
   "execution_count": null,
   "metadata": {
    "collapsed": true
   },
   "outputs": [],
   "source": []
  }
 ],
 "metadata": {
  "kernelspec": {
   "display_name": "Python [py27]",
   "language": "python",
   "name": "Python [py27]"
  },
  "language_info": {
   "codemirror_mode": {
    "name": "ipython",
    "version": 2
   },
   "file_extension": ".py",
   "mimetype": "text/x-python",
   "name": "python",
   "nbconvert_exporter": "python",
   "pygments_lexer": "ipython2",
   "version": "2.7.12"
  }
 },
 "nbformat": 4,
 "nbformat_minor": 0
}
