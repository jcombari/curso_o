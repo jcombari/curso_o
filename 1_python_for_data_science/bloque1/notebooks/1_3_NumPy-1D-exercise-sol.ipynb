{
 "cells": [
  {
   "cell_type": "markdown",
   "metadata": {},
   "source": [
    "# Using NumPy arrays with one-dimensional data"
   ]
  },
  {
   "cell_type": "markdown",
   "metadata": {},
   "source": [
    "## What is NumPy? "
   ]
  },
  {
   "cell_type": "markdown",
   "metadata": {},
   "source": [
    "Numerical Python (NumPy) is a Python library providing a fast and space-efficient data structure: the <code>ndarray</code>, a **homogeneous** array structure, indexed with integers.\n",
    "The official documentation is <a href=\"http://www.numpy.org/\">here</a>."
   ]
  },
  {
   "cell_type": "markdown",
   "metadata": {},
   "source": [
    "## Creating arrays"
   ]
  },
  {
   "cell_type": "markdown",
   "metadata": {},
   "source": [
    "You can create an empty array. Simply import numpy and use following constructors: <code>array</code>, <code>arange</code>, <code>ones</code>, <code>zeros</code> or <code>empty</code>. "
   ]
  },
  {
   "cell_type": "code",
   "execution_count": 2,
   "metadata": {
    "collapsed": false
   },
   "outputs": [
    {
     "name": "stdout",
     "output_type": "stream",
     "text": [
      "[10  5  6  8 -2]\n",
      "[10  5  6  9 -2]\n"
     ]
    }
   ],
   "source": [
    "import numpy as np # Everybody uses np as shorthand...\n",
    "# Now we can create arrays from any sequence-like object:\n",
    "L = [10, 5, 6, 8, -2]\n",
    "T = (10, 5, 6, 9, -2)\n",
    "a = np.array(L)\n",
    "b = np.array(T)\n",
    "print a\n",
    "print b\n"
   ]
  },
  {
   "cell_type": "code",
   "execution_count": 3,
   "metadata": {
    "collapsed": false
   },
   "outputs": [
    {
     "data": {
      "text/plain": [
       "array([  0.00000000e+000,  -1.28822983e-231,   2.20699090e-314,\n",
       "         2.20693629e-314,   2.20665280e-314,   2.20693404e-314,\n",
       "         2.15210873e-314,   0.00000000e+000,   2.20564859e-314,\n",
       "         2.15210876e-314])"
      ]
     },
     "execution_count": 3,
     "metadata": {},
     "output_type": "execute_result"
    }
   ],
   "source": [
    "# If you create it with empty, the values are arbitrary (not random, not necessarily zero).\n",
    "nothing = np.empty(10)\n",
    "nothing"
   ]
  },
  {
   "cell_type": "markdown",
   "metadata": {},
   "source": [
    "You can create arrays based on the lenght of other arrays, e.g. with the <code>ones_like</code> function."
   ]
  },
  {
   "cell_type": "code",
   "execution_count": 4,
   "metadata": {
    "collapsed": false
   },
   "outputs": [
    {
     "data": {
      "text/plain": [
       "array([1, 1, 1, 1, 1, 1, 1])"
      ]
     },
     "execution_count": 4,
     "metadata": {},
     "output_type": "execute_result"
    }
   ],
   "source": [
    "#Create an array of ones with the same lenght as this one:\n",
    "L = [2, 3, 4, 6, 4, 3, 2]\n",
    "b = np.ones(len(L))\n",
    "a = np.ones_like(L)\n",
    "a"
   ]
  },
  {
   "cell_type": "markdown",
   "metadata": {},
   "source": [
    "You can also create ranges with <code>arange</code>."
   ]
  },
  {
   "cell_type": "code",
   "execution_count": 5,
   "metadata": {
    "collapsed": false
   },
   "outputs": [
    {
     "data": {
      "text/plain": [
       "array([200, 202, 204, 206, 208, 210, 212, 214, 216, 218, 220, 222, 224,\n",
       "       226, 228, 230, 232, 234, 236, 238, 240, 242, 244, 246, 248, 250])"
      ]
     },
     "execution_count": 5,
     "metadata": {},
     "output_type": "execute_result"
    }
   ],
   "source": [
    "# Create an array with the even numbers \n",
    "# between (and including) 200 and 250.\n",
    "a = np.arange(200, 251, 2)\n",
    "a"
   ]
  },
  {
   "cell_type": "markdown",
   "metadata": {},
   "source": [
    "The function <a href=\"http://docs.scipy.org/doc/numpy/reference/generated/numpy.linspace.html\">linspace</a> allows for controlling the amount of numbers to generate."
   ]
  },
  {
   "cell_type": "code",
   "execution_count": 6,
   "metadata": {
    "collapsed": false
   },
   "outputs": [
    {
     "data": {
      "text/plain": [
       "array([ 2.  ,  2.25,  2.5 ,  2.75,  3.  ])"
      ]
     },
     "execution_count": 6,
     "metadata": {},
     "output_type": "execute_result"
    }
   ],
   "source": [
    "np.linspace(2.0, 3.0, num=5)"
   ]
  },
  {
   "cell_type": "markdown",
   "metadata": {},
   "source": [
    "## Arrays have types"
   ]
  },
  {
   "cell_type": "markdown",
   "metadata": {},
   "source": [
    "The <code>dtype</code> attribut of an array returns the type of its elements."
   ]
  },
  {
   "cell_type": "code",
   "execution_count": 7,
   "metadata": {
    "collapsed": false
   },
   "outputs": [
    {
     "name": "stdout",
     "output_type": "stream",
     "text": [
      "<type 'numpy.float64'>\n",
      "[ 1.  1.  1.  1.  1.]\n",
      "float64\n",
      "8\n"
     ]
    }
   ],
   "source": [
    "ones = np.ones(5)\n",
    "print type(ones[0])\n",
    "print ones\n",
    "print ones.dtype\n",
    "print ones.itemsize"
   ]
  },
  {
   "cell_type": "markdown",
   "metadata": {},
   "source": [
    "NumPy arrays have a single element type for all its values. "
   ]
  },
  {
   "cell_type": "code",
   "execution_count": 8,
   "metadata": {
    "collapsed": false
   },
   "outputs": [
    {
     "name": "stdout",
     "output_type": "stream",
     "text": [
      "float64\n"
     ]
    }
   ],
   "source": [
    "L = [1, 4.6, 5]\n",
    "a = np.array(L)\n",
    "print a.dtype"
   ]
  },
  {
   "cell_type": "markdown",
   "metadata": {},
   "source": [
    "We can **explicitly** indicate the type we want for a NumPy array."
   ]
  },
  {
   "cell_type": "code",
   "execution_count": 9,
   "metadata": {
    "collapsed": false
   },
   "outputs": [
    {
     "name": "stdout",
     "output_type": "stream",
     "text": [
      "int32\n",
      "[1 4 5]\n"
     ]
    }
   ],
   "source": [
    "#What happened with the numbers? \n",
    "L = [1, 4.6, 5]\n",
    "a = np.array(L, dtype=\"int32\")\n",
    "print a.dtype\n",
    "print a"
   ]
  },
  {
   "cell_type": "markdown",
   "metadata": {},
   "source": [
    "NumPy element types are not the same as the standard data types of Python. "
   ]
  },
  {
   "cell_type": "code",
   "execution_count": 10,
   "metadata": {
    "collapsed": false
   },
   "outputs": [
    {
     "name": "stdout",
     "output_type": "stream",
     "text": [
      "|S12\n"
     ]
    }
   ],
   "source": [
    "L = [\"this\", \"is\", \"an\", \"array555rrrr\"]\n",
    "a = np.array(L)\n",
    "print a.dtype\n",
    "#TODO: Now interpret the type... look in the documentation of NumPy data types. "
   ]
  },
  {
   "cell_type": "markdown",
   "metadata": {},
   "source": [
    "You can convert the type of an array using <code>as_type</code> operation."
   ]
  },
  {
   "cell_type": "code",
   "execution_count": 12,
   "metadata": {
    "collapsed": false
   },
   "outputs": [
    {
     "name": "stdout",
     "output_type": "stream",
     "text": [
      "[5 4 3]\n",
      "['23' '12' 'nan' '32' '10']\n"
     ]
    },
    {
     "ename": "ValueError",
     "evalue": "invalid literal for int() with base 10: 'nan'",
     "output_type": "error",
     "traceback": [
      "\u001b[0;31m---------------------------------------------------------------------------\u001b[0m",
      "\u001b[0;31mValueError\u001b[0m                                Traceback (most recent call last)",
      "\u001b[0;32m<ipython-input-12-e02f6be3beec>\u001b[0m in \u001b[0;36m<module>\u001b[0;34m()\u001b[0m\n\u001b[1;32m      7\u001b[0m \u001b[0ma\u001b[0m \u001b[0;34m=\u001b[0m \u001b[0mnp\u001b[0m\u001b[0;34m.\u001b[0m\u001b[0marray\u001b[0m\u001b[0;34m(\u001b[0m\u001b[0;34m[\u001b[0m\u001b[0;34m\"23\"\u001b[0m\u001b[0;34m,\u001b[0m \u001b[0;34m\"12\"\u001b[0m\u001b[0;34m,\u001b[0m \u001b[0;34m\"nan\"\u001b[0m\u001b[0;34m,\u001b[0m \u001b[0;34m\"32\"\u001b[0m\u001b[0;34m,\u001b[0m \u001b[0;34m\"10\"\u001b[0m\u001b[0;34m]\u001b[0m\u001b[0;34m)\u001b[0m\u001b[0;34m\u001b[0m\u001b[0m\n\u001b[1;32m      8\u001b[0m \u001b[0;32mprint\u001b[0m \u001b[0ma\u001b[0m\u001b[0;34m\u001b[0m\u001b[0m\n\u001b[0;32m----> 9\u001b[0;31m \u001b[0mb\u001b[0m \u001b[0;34m=\u001b[0m \u001b[0ma\u001b[0m\u001b[0;34m.\u001b[0m\u001b[0mastype\u001b[0m\u001b[0;34m(\u001b[0m\u001b[0mnp\u001b[0m\u001b[0;34m.\u001b[0m\u001b[0mint32\u001b[0m\u001b[0;34m)\u001b[0m\u001b[0;34m\u001b[0m\u001b[0m\n\u001b[0m",
      "\u001b[0;31mValueError\u001b[0m: invalid literal for int() with base 10: 'nan'"
     ]
    }
   ],
   "source": [
    "#Convert form float to int with astype:\n",
    "a = np.array([5.7, 4.2, 3.0])\n",
    "b = a.astype(np.int32)\n",
    "print b\n",
    "\n",
    "#Try to convert this array of strings to some kind of integer array:\n",
    "a = np.array([\"23\", \"12\", \"nan\", \"32\", \"10\"])\n",
    "print a\n",
    "b = a.astype(np.int32)"
   ]
  },
  {
   "cell_type": "markdown",
   "metadata": {},
   "source": [
    "## Vectorization!"
   ]
  },
  {
   "cell_type": "markdown",
   "metadata": {},
   "source": [
    "In general, operations of arrays with scalars are **vectorized**, i.e. they are applied to each element."
   ]
  },
  {
   "cell_type": "code",
   "execution_count": 13,
   "metadata": {
    "collapsed": false
   },
   "outputs": [
    {
     "name": "stdout",
     "output_type": "stream",
     "text": [
      "[ 2.  2.  2.  2.  2.  2.  2.  2.  2.  2.]\n"
     ]
    }
   ],
   "source": [
    "x = np.ones(10)\n",
    "x = x*2\n",
    "print x"
   ]
  },
  {
   "cell_type": "markdown",
   "metadata": {},
   "source": [
    "And if we apply operation between arrays of the same shape (size) they are applied element-wise."
   ]
  },
  {
   "cell_type": "code",
   "execution_count": 14,
   "metadata": {
    "collapsed": false
   },
   "outputs": [
    {
     "data": {
      "text/plain": [
       "array([ 3.,  3.,  3.,  3.,  3.,  3.,  3.,  3.,  3.,  3.])"
      ]
     },
     "execution_count": 14,
     "metadata": {},
     "output_type": "execute_result"
    }
   ],
   "source": [
    "y = np.ones(10)\n",
    "y + x"
   ]
  },
  {
   "cell_type": "code",
   "execution_count": 15,
   "metadata": {
    "collapsed": false
   },
   "outputs": [
    {
     "ename": "ValueError",
     "evalue": "operands could not be broadcast together with shapes (10,) (5,) ",
     "output_type": "error",
     "traceback": [
      "\u001b[0;31m---------------------------------------------------------------------------\u001b[0m",
      "\u001b[0;31mValueError\u001b[0m                                Traceback (most recent call last)",
      "\u001b[0;32m<ipython-input-15-43e069923f90>\u001b[0m in \u001b[0;36m<module>\u001b[0;34m()\u001b[0m\n\u001b[1;32m      1\u001b[0m \u001b[0;31m# Arrays need to be same size:\u001b[0m\u001b[0;34m\u001b[0m\u001b[0;34m\u001b[0m\u001b[0m\n\u001b[1;32m      2\u001b[0m \u001b[0mz\u001b[0m \u001b[0;34m=\u001b[0m \u001b[0mnp\u001b[0m\u001b[0;34m.\u001b[0m\u001b[0mones\u001b[0m\u001b[0;34m(\u001b[0m\u001b[0;36m5\u001b[0m\u001b[0;34m)\u001b[0m\u001b[0;34m\u001b[0m\u001b[0m\n\u001b[0;32m----> 3\u001b[0;31m \u001b[0mx\u001b[0m\u001b[0;34m+\u001b[0m\u001b[0mz\u001b[0m\u001b[0;34m\u001b[0m\u001b[0m\n\u001b[0m",
      "\u001b[0;31mValueError\u001b[0m: operands could not be broadcast together with shapes (10,) (5,) "
     ]
    }
   ],
   "source": [
    "# Arrays need to be same size:\n",
    "z = np.ones(5)\n",
    "x+z"
   ]
  },
  {
   "cell_type": "markdown",
   "metadata": {},
   "source": [
    "Now an exercise!"
   ]
  },
  {
   "cell_type": "code",
   "execution_count": 16,
   "metadata": {
    "collapsed": false,
    "scrolled": true
   },
   "outputs": [
    {
     "name": "stdout",
     "output_type": "stream",
     "text": [
      "[  3.74993001  10.02055911   2.34997228   5.36116543   0.51347329\n",
      "   3.37018834   1.46547792   5.00554218   8.53071198   3.97964266\n",
      "   7.09253903   3.67100234   5.18942902   2.36053632   7.88357028\n",
      "   8.9719898    1.47078779   0.28450061   1.19898825   2.73032099]\n",
      "[  4.49991601  12.02467094   2.81996673   6.43339851   0.61616794\n",
      "   4.04422601   1.7585735    6.00665061  10.23685437   4.77557119\n",
      "   8.51104684   4.4052028    6.22731482   2.83264359   9.46028433\n",
      "  10.76638776   1.76494535   0.34140073   1.4387859    3.27638518]\n"
     ]
    }
   ],
   "source": [
    "# create an array of 20 numbers between 5 and 10 using a gamma distribution, print them \n",
    "# and later increase them in a 20% (you have to find the numpy function for that in the docs)\n",
    "shape, scale = 2., 2. # mean and dispersion\n",
    "r = np.random.gamma(shape, scale, 20)\n",
    "print r\n",
    "r = r*1.2\n",
    "print r"
   ]
  },
  {
   "cell_type": "markdown",
   "metadata": {},
   "source": [
    "## Basic graphing"
   ]
  },
  {
   "cell_type": "markdown",
   "metadata": {},
   "source": [
    "You can use matplotlib as usual. Now let's generate more random numbers."
   ]
  },
  {
   "cell_type": "code",
   "execution_count": 17,
   "metadata": {
    "collapsed": false
   },
   "outputs": [
    {
     "data": {
      "text/plain": [
       "[<matplotlib.lines.Line2D at 0x10c8c9810>]"
      ]
     },
     "execution_count": 17,
     "metadata": {},
     "output_type": "execute_result"
    },
    {
     "data": {
      "image/png": "[encoded data removed]",
      "text/plain": [
       "<matplotlib.figure.Figure at 0x10a376a10>"
      ]
     },
     "metadata": {},
     "output_type": "display_data"
    }
   ],
   "source": [
    "import matplotlib.pyplot as plt\n",
    "%matplotlib inline\n",
    "#Re-generate the previous array but with 2000 elements and plot it\n",
    "r = np.random.gamma(shape, scale, 2000)\n",
    "plt.plot(r)"
   ]
  },
  {
   "cell_type": "markdown",
   "metadata": {},
   "source": [
    "But for plotting the histogram, you need to do it other way..."
   ]
  },
  {
   "cell_type": "code",
   "execution_count": 18,
   "metadata": {
    "collapsed": false
   },
   "outputs": [
    {
     "data": {
      "text/plain": [
       "(array([ 20.,  30.,  42.,  89.,  70.,  73.,  82.,  89.,  99.,  73.,  81.,\n",
       "         85.,  68.,  92.,  67.,  74.,  68.,  55.,  68.,  47.,  51.,  57.,\n",
       "         42.,  39.,  46.,  42.,  25.,  34.,  22.,  23.,  18.,  20.,  15.,\n",
       "         15.,  18.,  17.,  15.,   8.,  13.,   8.,  14.,   9.,   7.,  10.,\n",
       "          4.,   7.,   3.,   2.,   4.,   4.,   4.,   2.,   2.,   2.,   1.,\n",
       "          1.,   2.,   2.,   1.,   1.,   1.,   1.,   3.,   1.,   0.,   1.,\n",
       "          0.,   2.,   0.,   1.,   1.,   0.,   1.,   0.,   0.,   0.,   1.,\n",
       "          0.,   1.,   0.,   0.,   1.,   1.,   0.,   0.,   0.,   0.,   0.,\n",
       "          0.,   0.,   0.,   0.,   0.,   0.,   0.,   1.,   0.,   0.,   0.,\n",
       "          1.]), array([  0.03908509,   0.27229379,   0.50550249,   0.73871119,\n",
       "          0.97191989,   1.20512859,   1.43833729,   1.67154599,\n",
       "          1.90475469,   2.1379634 ,   2.3711721 ,   2.6043808 ,\n",
       "          2.8375895 ,   3.0707982 ,   3.3040069 ,   3.5372156 ,\n",
       "          3.7704243 ,   4.003633  ,   4.2368417 ,   4.4700504 ,\n",
       "          4.7032591 ,   4.9364678 ,   5.1696765 ,   5.4028852 ,\n",
       "          5.6360939 ,   5.8693026 ,   6.1025113 ,   6.33572001,\n",
       "          6.56892871,   6.80213741,   7.03534611,   7.26855481,\n",
       "          7.50176351,   7.73497221,   7.96818091,   8.20138961,\n",
       "          8.43459831,   8.66780701,   8.90101571,   9.13422441,\n",
       "          9.36743311,   9.60064181,   9.83385051,  10.06705921,\n",
       "         10.30026791,  10.53347662,  10.76668532,  10.99989402,\n",
       "         11.23310272,  11.46631142,  11.69952012,  11.93272882,\n",
       "         12.16593752,  12.39914622,  12.63235492,  12.86556362,\n",
       "         13.09877232,  13.33198102,  13.56518972,  13.79839842,\n",
       "         14.03160712,  14.26481582,  14.49802452,  14.73123323,\n",
       "         14.96444193,  15.19765063,  15.43085933,  15.66406803,\n",
       "         15.89727673,  16.13048543,  16.36369413,  16.59690283,\n",
       "         16.83011153,  17.06332023,  17.29652893,  17.52973763,\n",
       "         17.76294633,  17.99615503,  18.22936373,  18.46257243,\n",
       "         18.69578114,  18.92898984,  19.16219854,  19.39540724,\n",
       "         19.62861594,  19.86182464,  20.09503334,  20.32824204,\n",
       "         20.56145074,  20.79465944,  21.02786814,  21.26107684,\n",
       "         21.49428554,  21.72749424,  21.96070294,  22.19391164,\n",
       "         22.42712034,  22.66032904,  22.89353775,  23.12674645,  23.35995515]), <a list of 100 Patch objects>)"
      ]
     },
     "execution_count": 18,
     "metadata": {},
     "output_type": "execute_result"
    },
    {
     "data": {
      "image/png": "[encoded data removed]",
      "text/plain": [
       "<matplotlib.figure.Figure at 0x10a459c50>"
      ]
     },
     "metadata": {},
     "output_type": "display_data"
    }
   ],
   "source": [
    "# TODO: Search in the docs of the pyplot object a way to plot a histogram. \n",
    "# You should particularly read what \"bins\" are as this influence the plotting of histograms. \n",
    "plt.hist(r, bins=100)"
   ]
  },
  {
   "cell_type": "markdown",
   "metadata": {},
   "source": [
    "Check if this looks like a Gamma distribution with the given parameters :-)"
   ]
  },
  {
   "cell_type": "markdown",
   "metadata": {},
   "source": [
    "## Using statistical libraries: analysis of variance"
   ]
  },
  {
   "cell_type": "markdown",
   "metadata": {},
   "source": [
    "Create three arrays of the same size, two with a Gamma distribution, and one with an exponential distribution. Print their variances."
   ]
  },
  {
   "cell_type": "code",
   "execution_count": 19,
   "metadata": {
    "collapsed": false
   },
   "outputs": [
    {
     "name": "stdout",
     "output_type": "stream",
     "text": [
      "0.0176395551519 0.0149299558867 0.639316513306 0.0149299558867\n"
     ]
    }
   ],
   "source": [
    "#Create three arrays of 200 random elements, two with Gamma and one exponential. \n",
    "# Print variances.\n",
    "a = np.random.gamma(0.25, 0.3, 200)\n",
    "b = np.random.gamma(0.3, 0.35, 200)\n",
    "c = np.random.exponential(0.7, 200)\n",
    "print a.var(), b.var(), c.var(), b.var()"
   ]
  },
  {
   "cell_type": "markdown",
   "metadata": {},
   "source": [
    "And now let's do the analysis of variance."
   ]
  },
  {
   "cell_type": "code",
   "execution_count": 20,
   "metadata": {
    "collapsed": false
   },
   "outputs": [
    {
     "name": "stdout",
     "output_type": "stream",
     "text": [
      "8.51661546135 0.00351918381207\n",
      "200.285569077 1.80931652773e-45\n"
     ]
    }
   ],
   "source": [
    "# Check analysis of variance between each pair of arrays and comment the results.\n",
    "# Note and read the assumptions of ANOVA, to see if they fit in this case.\n",
    "from scipy.stats import kruskal\n",
    "# In the first case, the p-value is relatively high which means they do not have different medians. \n",
    "h_val, p_val = kruskal(a, b)\n",
    "print h_val, p_val\n",
    "# In the second case, the p-value is very low, which means we reject the null hypothesis that \n",
    "# they come from the same population...\n",
    "h_val, p_val = kruskal(b, c)\n",
    "print h_val, p_val"
   ]
  },
  {
   "cell_type": "markdown",
   "metadata": {},
   "source": [
    "Now do the same check with two random samples normally distributed..."
   ]
  },
  {
   "cell_type": "markdown",
   "metadata": {},
   "source": [
    "## Indexing and slicing"
   ]
  },
  {
   "cell_type": "markdown",
   "metadata": {},
   "source": [
    "You can index and slice numpy arrays just as you do with Python lists. If you assign a value to an slice, it gets propagated to all the cells."
   ]
  },
  {
   "cell_type": "code",
   "execution_count": null,
   "metadata": {
    "collapsed": false
   },
   "outputs": [],
   "source": [
    "#Create an array of ten ones, then slice the second half and set all the elements\n",
    "#in the slice to zero.\n",
    "o = np.ones(10)\n",
    "print o\n",
    "o[5:]=0\n",
    "print o"
   ]
  },
  {
   "cell_type": "markdown",
   "metadata": {},
   "source": [
    "A very important aspect of slicing is that **it creates views, not copies**"
   ]
  },
  {
   "cell_type": "code",
   "execution_count": null,
   "metadata": {
    "collapsed": false
   },
   "outputs": [],
   "source": [
    "#Create a slice of the four elements in the middle of the above array \n",
    "# and use a new variable to reference it.\n",
    "# Then assign the value 2 to the new reference and print the original.\n",
    "sl = o[3:7]\n",
    "print sl\n",
    "sl[:] = 4\n",
    "print sl\n",
    "z = sl.copy()\n",
    "print o\n",
    "print z"
   ]
  },
  {
   "cell_type": "markdown",
   "metadata": {},
   "source": [
    "## Boolean arrays"
   ]
  },
  {
   "cell_type": "markdown",
   "metadata": {},
   "source": [
    "You can use boolean expressions to get boolean arrays."
   ]
  },
  {
   "cell_type": "code",
   "execution_count": null,
   "metadata": {
    "collapsed": false
   },
   "outputs": [],
   "source": [
    "# Assign scores in a class of 15 students for two assignments.\n",
    "# Create two arrays with the scores of the students using a normal distribution.\n",
    "assig1 = np.random.normal(5, 2, 15)\n",
    "assig2 = np.random.normal(5, 2, 15)\n",
    "\n",
    "#TODO Round all the scores to one decimal. \n",
    "assig1 = assig1.round(1)\n",
    "assig2 = assig2.round(1)\n",
    "print assig1\n",
    "print assig2"
   ]
  },
  {
   "cell_type": "code",
   "execution_count": null,
   "metadata": {
    "collapsed": false
   },
   "outputs": [],
   "source": [
    "assig1 >= 5"
   ]
  },
  {
   "cell_type": "code",
   "execution_count": null,
   "metadata": {
    "collapsed": false
   },
   "outputs": [],
   "source": [
    "# Now let's think that only the students that passed the first assignment will \n",
    "# have the second considered.\n",
    "# Get a boolean array for the students that passed the first assignement. \n",
    "passed1 = assig1 >= 5.0\n",
    "print passed1\n",
    "\n",
    "# Now get the mean of the two assignments per each of the students that passed the first one.\n",
    "print ((assig2+assig1)/2)[passed1]"
   ]
  },
  {
   "cell_type": "markdown",
   "metadata": {},
   "source": [
    "## Playing with ufuncs"
   ]
  },
  {
   "cell_type": "markdown",
   "metadata": {},
   "source": [
    "Universal functions (ufuncs) are vectorized operations on NumPy arrays. Let's plot some functions implemented with ufuncs. The complete list is here: http://docs.scipy.org/doc/numpy/reference/ufuncs.html "
   ]
  },
  {
   "cell_type": "code",
   "execution_count": null,
   "metadata": {
    "collapsed": false
   },
   "outputs": [],
   "source": [
    "import numpy as np\n",
    "#TODO: Create an array of 50 elements between 1 and 100 using linspace. Look\n",
    "# at the documentation of this function.\n",
    "x = np.linspace(1, 100)\n",
    "print len(x)\n",
    "\n",
    "# Get the sin of each of the generated points and plot them.\n",
    "y = np.sin(x)\n",
    "plt.plot(x,y)"
   ]
  },
  {
   "cell_type": "markdown",
   "metadata": {},
   "source": [
    "You can plot several arrays in the same plot. "
   ]
  },
  {
   "cell_type": "code",
   "execution_count": null,
   "metadata": {
    "collapsed": false
   },
   "outputs": [],
   "source": [
    "# TODO: Plot the same as above, plus the square of the sin values. \n",
    "# Look in the docs how you can pass more than one array to plot, and how to draw the second \n",
    "# with a different color, e.g. red.\n",
    "plt.plot(x, y, x, y**2, 'r-^')"
   ]
  },
  {
   "cell_type": "markdown",
   "metadata": {},
   "source": [
    "You can also generate random points and do scaterplotting"
   ]
  },
  {
   "cell_type": "code",
   "execution_count": null,
   "metadata": {
    "collapsed": false
   },
   "outputs": [],
   "source": [
    "#TODO: generate two arrays of the same size using a random generator with gamma dstribution.\n",
    "a = np.random.gamma(3,2, 100)\n",
    "b = np.random.gamma(3,2, 100)\n",
    "\n",
    "# Plot the two arrays as a scatterplot.\n",
    "plt.scatter(a,b)"
   ]
  },
  {
   "cell_type": "markdown",
   "metadata": {
    "collapsed": false
   },
   "source": [
    "Summarization operations are implemented also."
   ]
  },
  {
   "cell_type": "code",
   "execution_count": null,
   "metadata": {
    "collapsed": false
   },
   "outputs": [],
   "source": [
    "b.mean()"
   ]
  },
  {
   "cell_type": "code",
   "execution_count": null,
   "metadata": {
    "collapsed": false
   },
   "outputs": [],
   "source": [
    "np.sqrt(b)"
   ]
  },
  {
   "cell_type": "markdown",
   "metadata": {},
   "source": [
    "This is a key reference:\n",
    "http://wiki.scipy.org/Numpy_Example_List"
   ]
  },
  {
   "cell_type": "code",
   "execution_count": null,
   "metadata": {
    "collapsed": true
   },
   "outputs": [],
   "source": []
  }
 ],
 "metadata": {
  "kernelspec": {
   "display_name": "Python [py27]",
   "language": "python",
   "name": "Python [py27]"
  },
  "language_info": {
   "codemirror_mode": {
    "name": "ipython",
    "version": 2
   },
   "file_extension": ".py",
   "mimetype": "text/x-python",
   "name": "python",
   "nbconvert_exporter": "python",
   "pygments_lexer": "ipython2",
   "version": "2.7.12"
  }
 },
 "nbformat": 4,
 "nbformat_minor": 0
}
