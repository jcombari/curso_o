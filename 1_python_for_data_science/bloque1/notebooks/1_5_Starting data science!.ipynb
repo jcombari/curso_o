{
 "cells": [
  {
   "cell_type": "markdown",
   "metadata": {},
   "source": [
    "# Starting data science!"
   ]
  },
  {
   "cell_type": "markdown",
   "metadata": {},
   "source": [
    "Data science usually starts from some <b>data</b> and some <b>business question</b>. Let's start with a very basic question: what will be my total sales in the near future?"
   ]
  },
  {
   "cell_type": "markdown",
   "metadata": {},
   "source": [
    "## Some data, for now very basic"
   ]
  },
  {
   "cell_type": "markdown",
   "metadata": {},
   "source": [
    "To keep things very simple (and naïve) we will consider monthly sales in $ of the last N months as input data."
   ]
  },
  {
   "cell_type": "code",
   "execution_count": 1,
   "metadata": {
    "collapsed": false
   },
   "outputs": [],
   "source": [
    "monthly_data_2013 = [100, 90, 120, 140, 180, 200, 190, 208, 212]"
   ]
  },
  {
   "cell_type": "markdown",
   "metadata": {},
   "source": [
    "Remember: this is a regular Python list. Try the following and later try it again later with a NumPy array. For lists, the \"*\" operator does replication, in NumPy is a vectorized operation."
   ]
  },
  {
   "cell_type": "code",
   "execution_count": 2,
   "metadata": {
    "collapsed": false
   },
   "outputs": [
    {
     "data": {
      "text/plain": [
       "90"
      ]
     },
     "execution_count": 2,
     "metadata": {},
     "output_type": "execute_result"
    }
   ],
   "source": [
    "len(monthly_data_2013 * 10)"
   ]
  },
  {
   "cell_type": "markdown",
   "metadata": {},
   "source": [
    "## A look at the data"
   ]
  },
  {
   "cell_type": "markdown",
   "metadata": {},
   "source": [
    "The first thing to do with data is taking a look at it. In our case, we will start by plotting it."
   ]
  },
  {
   "cell_type": "code",
   "execution_count": 3,
   "metadata": {
    "collapsed": false
   },
   "outputs": [
    {
     "name": "stderr",
     "output_type": "stream",
     "text": [
      "/Users/msicilia/anaconda3/envs/py27/lib/python2.7/site-packages/matplotlib/font_manager.py:273: UserWarning: Matplotlib is building the font cache using fc-list. This may take a moment.\n",
      "  warnings.warn('Matplotlib is building the font cache using fc-list. This may take a moment.')\n"
     ]
    },
    {
     "data": {
      "text/plain": [
       "[<matplotlib.lines.Line2D at 0x10c882fd0>]"
      ]
     },
     "execution_count": 3,
     "metadata": {},
     "output_type": "execute_result"
    },
    {
     "data": {
      "image/png": "[encoded data removed]",
      "text/plain": [
       "<matplotlib.figure.Figure at 0x103cc2890>"
      ]
     },
     "metadata": {},
     "output_type": "display_data"
    }
   ],
   "source": [
    "%matplotlib inline\n",
    "import matplotlib.pyplot as plt\n",
    "plt.plot(monthly_data_2013)"
   ]
  },
  {
   "cell_type": "markdown",
   "metadata": {},
   "source": [
    "Now we convert the data to a NumPy array. NumPy arrays are more efficient (but this will not be appreciable for the small data we use here), but they also provide a large number of interesting functions. This is because they are <b>homogeneous</b> and use their own <b>basic data types</b>."
   ]
  },
  {
   "cell_type": "code",
   "execution_count": 4,
   "metadata": {
    "collapsed": false
   },
   "outputs": [
    {
     "name": "stdout",
     "output_type": "stream",
     "text": [
      "<type 'list'>\n",
      "<type 'numpy.ndarray'>\n"
     ]
    }
   ],
   "source": [
    "import numpy as np\n",
    "print type(monthly_data_2013)\n",
    "monthly_data_2013 = np.array(monthly_data_2013)\n",
    "print type(monthly_data_2013)\n"
   ]
  },
  {
   "cell_type": "markdown",
   "metadata": {},
   "source": [
    "You can also initialize NumPy arrays using a number of functions like np.arange, np.ones, np.zeros or np.empty"
   ]
  },
  {
   "cell_type": "code",
   "execution_count": 5,
   "metadata": {
    "collapsed": false
   },
   "outputs": [
    {
     "name": "stdout",
     "output_type": "stream",
     "text": [
      "int64\n"
     ]
    }
   ],
   "source": [
    "print monthly_data_2013.dtype"
   ]
  },
  {
   "cell_type": "code",
   "execution_count": 6,
   "metadata": {
    "collapsed": false
   },
   "outputs": [
    {
     "name": "stdout",
     "output_type": "stream",
     "text": [
      "212\n",
      "160.0\n"
     ]
    }
   ],
   "source": [
    "print monthly_data_2013.max()\n",
    "print monthly_data_2013.mean()\n"
   ]
  },
  {
   "cell_type": "code",
   "execution_count": 7,
   "metadata": {
    "collapsed": false
   },
   "outputs": [
    {
     "data": {
      "text/plain": [
       "[<matplotlib.lines.Line2D at 0x10cf4e510>]"
      ]
     },
     "execution_count": 7,
     "metadata": {},
     "output_type": "execute_result"
    },
    {
     "data": {
      "image/png": "[encoded data removed]",
      "text/plain": [
       "<matplotlib.figure.Figure at 0x103a20850>"
      ]
     },
     "metadata": {},
     "output_type": "display_data"
    }
   ],
   "source": [
    "cumulative = monthly_data_2013.cumsum()\n",
    "plt.plot(cumulative)"
   ]
  },
  {
   "cell_type": "markdown",
   "metadata": {},
   "source": [
    "## A basic forecast using regression"
   ]
  },
  {
   "cell_type": "markdown",
   "metadata": {},
   "source": [
    "It looks that the sales might be approximated by a linear function, so let's try with linear regression as implemented in <a href=\"http://docs.scipy.org/doc/scipy-0.15.1/reference/generated/scipy.stats.linregress.html\">scipy.stats.linregress</a>."
   ]
  },
  {
   "cell_type": "code",
   "execution_count": 8,
   "metadata": {
    "collapsed": false
   },
   "outputs": [],
   "source": [
    "from scipy.stats import linregress\n",
    "x = range(len(monthly_data_2013))\n",
    "slope, intercept, r_value, p_value, std_err = linregress(x, monthly_data_2013)\n"
   ]
  },
  {
   "cell_type": "code",
   "execution_count": 9,
   "metadata": {
    "collapsed": false
   },
   "outputs": [
    {
     "name": "stdout",
     "output_type": "stream",
     "text": [
      "16.7 93.2 0.953429957145 6.85616306195e-05 1.99678312722\n"
     ]
    }
   ],
   "source": [
    "print slope, intercept, r_value, p_value, std_err"
   ]
  },
  {
   "cell_type": "code",
   "execution_count": 10,
   "metadata": {
    "collapsed": false
   },
   "outputs": [],
   "source": [
    "def sales(slope, intercept, x):\n",
    "    return slope*x + intercept"
   ]
  },
  {
   "cell_type": "markdown",
   "metadata": {},
   "source": [
    "Now if we want to see our future sales in three months, we can simply do the following."
   ]
  },
  {
   "cell_type": "code",
   "execution_count": 11,
   "metadata": {
    "collapsed": false
   },
   "outputs": [
    {
     "name": "stdout",
     "output_type": "stream",
     "text": [
      "293.6\n"
     ]
    }
   ],
   "source": [
    "print sales(slope, intercept, len(monthly_data_2013)+3)"
   ]
  },
  {
   "cell_type": "markdown",
   "metadata": {},
   "source": [
    "And we can draw the function"
   ]
  },
  {
   "cell_type": "code",
   "execution_count": 12,
   "metadata": {
    "collapsed": false
   },
   "outputs": [
    {
     "data": {
      "text/plain": [
       "[<matplotlib.lines.Line2D at 0x10e832ad0>]"
      ]
     },
     "execution_count": 12,
     "metadata": {},
     "output_type": "execute_result"
    },
    {
     "data": {
      "image/png": "[encoded data removed]",
      "text/plain": [
       "<matplotlib.figure.Figure at 0x10e832a90>"
      ]
     },
     "metadata": {},
     "output_type": "display_data"
    }
   ],
   "source": [
    "x = np.arange(len(monthly_data_2013)+5)\n",
    "y = [sales(slope, intercept, v)  for v in x]\n",
    "plt.plot(x,y)\n",
    "plt.plot(monthly_data_2013)"
   ]
  },
  {
   "cell_type": "markdown",
   "metadata": {},
   "source": [
    "*NOTE:* Of course, this model is really a naïve one. It only accounts for time, so it is lacking all the variables that are needed in marketing, and does not consider seasonality as it should. However, it servers as a \"minimalistic\" example to get a first idea of the tasks and outcomes of interactive data science."
   ]
  },
  {
   "cell_type": "markdown",
   "metadata": {},
   "source": [
    "## Simulating sales increase"
   ]
  },
  {
   "cell_type": "markdown",
   "metadata": {},
   "source": [
    "NumPy provides vectorized operations, so for example:"
   ]
  },
  {
   "cell_type": "code",
   "execution_count": 13,
   "metadata": {
    "collapsed": false
   },
   "outputs": [
    {
     "name": "stdout",
     "output_type": "stream",
     "text": [
      "[ 105.    94.5  126.   147.   189.   210.   199.5  218.4  222.6]\n",
      "float64\n"
     ]
    }
   ],
   "source": [
    "monthly_data_2014 =  monthly_data_2013*1.05\n",
    "print monthly_data_2014\n",
    "print monthly_data_2014.dtype"
   ]
  },
  {
   "cell_type": "markdown",
   "metadata": {},
   "source": [
    "Then we can convert to integer volumen of sales."
   ]
  },
  {
   "cell_type": "code",
   "execution_count": 14,
   "metadata": {
    "collapsed": false
   },
   "outputs": [
    {
     "name": "stdout",
     "output_type": "stream",
     "text": [
      "[105  94 126 147 189 210 199 218 222]\n"
     ]
    }
   ],
   "source": [
    "monthly_data_2014 = monthly_data_2014.astype(np.int16)\n",
    "print monthly_data_2014"
   ]
  },
  {
   "cell_type": "markdown",
   "metadata": {},
   "source": [
    "<b>Vectorized operations</b> are batch operations on NumPy arrays where you don't neet to write any for loops."
   ]
  },
  {
   "cell_type": "code",
   "execution_count": 15,
   "metadata": {
    "collapsed": false
   },
   "outputs": [
    {
     "name": "stdout",
     "output_type": "stream",
     "text": [
      "[  84.    75.2  100.8  117.6  151.2  168.   159.2  174.4  177.6]\n"
     ]
    }
   ],
   "source": [
    "monthly_data_2015 = monthly_data_2014 *0.8\n",
    "print monthly_data_2015"
   ]
  },
  {
   "cell_type": "markdown",
   "metadata": {},
   "source": [
    "You can also use random numbers and add them via vectorized operations."
   ]
  },
  {
   "cell_type": "code",
   "execution_count": 16,
   "metadata": {
    "collapsed": false
   },
   "outputs": [
    {
     "name": "stdout",
     "output_type": "stream",
     "text": [
      "[  91.    84.2  109.8  124.6  160.2  176.   163.2  182.4  185.6]\n"
     ]
    }
   ],
   "source": [
    "monthly_data_2015 += np.random.randint(0, 10, monthly_data_2015.size)\n",
    "print monthly_data_2015"
   ]
  },
  {
   "cell_type": "markdown",
   "metadata": {},
   "source": [
    "## Evaluating the model"
   ]
  },
  {
   "cell_type": "markdown",
   "metadata": {},
   "source": [
    "The first parameter is r-squared, which is 1 in models with a perfect fit. Standard error (s) is relatively small, which says that the observations are close to the fitted line. Finally, the p-value is very small, indicating that the model is significative."
   ]
  },
  {
   "cell_type": "markdown",
   "metadata": {},
   "source": [
    "But what about trying with other data?"
   ]
  },
  {
   "cell_type": "code",
   "execution_count": 17,
   "metadata": {
    "collapsed": false
   },
   "outputs": [],
   "source": [
    "monthly_data_2012 = [80, 200, 90, 170, 150, 140, 79, 200]"
   ]
  },
  {
   "cell_type": "code",
   "execution_count": 18,
   "metadata": {
    "collapsed": false
   },
   "outputs": [
    {
     "name": "stdout",
     "output_type": "stream",
     "text": [
      "4.34523809524 123.416666667 0.209860695661 0.617911776974 8.26468607409\n"
     ]
    },
    {
     "data": {
      "text/plain": [
       "[<matplotlib.lines.Line2D at 0x10d00c090>]"
      ]
     },
     "execution_count": 18,
     "metadata": {},
     "output_type": "execute_result"
    },
    {
     "data": {
      "image/png": "[encoded data removed]",
      "text/plain": [
       "<matplotlib.figure.Figure at 0x10cf66a10>"
      ]
     },
     "metadata": {},
     "output_type": "display_data"
    }
   ],
   "source": [
    "x2 = range(len(monthly_data_2012))\n",
    "slope2, intercept2, r_value2, p_value2, std_err2 = linregress(x2, monthly_data_2012)\n",
    "print slope2, intercept2, r_value2, p_value2, std_err2\n",
    "x2 = np.arange(len(monthly_data_2012)+5)\n",
    "y2 = [sales(slope2, intercept2, v)  for v in x2]\n",
    "plt.plot(x2,y2)\n",
    "plt.plot(monthly_data_2012)"
   ]
  },
  {
   "cell_type": "markdown",
   "metadata": {},
   "source": [
    "What do the parameters say about the model? "
   ]
  },
  {
   "cell_type": "markdown",
   "metadata": {},
   "source": [
    "## Sales per region"
   ]
  },
  {
   "cell_type": "markdown",
   "metadata": {},
   "source": [
    "We can represent multi-dimensional data in NumPy"
   ]
  },
  {
   "cell_type": "code",
   "execution_count": 19,
   "metadata": {
    "collapsed": false
   },
   "outputs": [
    {
     "name": "stdout",
     "output_type": "stream",
     "text": [
      "[[100  50  87]\n",
      " [120  38  78]\n",
      " [150  48  37]]\n",
      "(3, 3)\n"
     ]
    }
   ],
   "source": [
    "# Each sublist represents sales in the same month. \n",
    "# for three regions, one per column.\n",
    "monthly = [[100, 50, 87],[120, 38, 78],[150, 48, 37]] \n",
    "monthly_data_2008 = np.array(monthly)\n",
    "print monthly_data_2008\n",
    "print monthly_data_2008.shape"
   ]
  },
  {
   "cell_type": "markdown",
   "metadata": {},
   "source": [
    "Indexing works like in Python sequences, but it is important to know that <b>creates views, not copies!</b>. This is an important difference for performance reasons with large arrays."
   ]
  },
  {
   "cell_type": "code",
   "execution_count": 20,
   "metadata": {
    "collapsed": false
   },
   "outputs": [
    {
     "name": "stdout",
     "output_type": "stream",
     "text": [
      "[38 78]\n",
      "[[100  50  87]\n",
      " [120  39  79]\n",
      " [150  48  37]]\n"
     ]
    }
   ],
   "source": [
    "m2_some_regions =  monthly_data_2008[1, 1:3]\n",
    "print m2_some_regions\n",
    "m2_some_regions += 1\n",
    "print monthly_data_2008"
   ]
  },
  {
   "cell_type": "markdown",
   "metadata": {},
   "source": [
    "You can get the sales of a particular region (column) by indexing."
   ]
  },
  {
   "cell_type": "code",
   "execution_count": 21,
   "metadata": {
    "collapsed": false
   },
   "outputs": [
    {
     "data": {
      "text/plain": [
       "array([50, 39, 48])"
      ]
     },
     "execution_count": 21,
     "metadata": {},
     "output_type": "execute_result"
    }
   ],
   "source": [
    "monthly_data_2008[:,1]"
   ]
  },
  {
   "cell_type": "markdown",
   "metadata": {},
   "source": [
    "One can obtain boolean NumPy arrays by using conditions."
   ]
  },
  {
   "cell_type": "code",
   "execution_count": 22,
   "metadata": {
    "collapsed": false
   },
   "outputs": [
    {
     "name": "stdout",
     "output_type": "stream",
     "text": [
      "[[ True False  True]\n",
      " [ True False  True]\n",
      " [ True False False]]\n"
     ]
    }
   ],
   "source": [
    "good_ones = monthly_data_2008 > 50\n",
    "print good_ones"
   ]
  },
  {
   "cell_type": "markdown",
   "metadata": {},
   "source": [
    "Then you can use these arrays to index arrays!"
   ]
  },
  {
   "cell_type": "code",
   "execution_count": 23,
   "metadata": {
    "collapsed": false
   },
   "outputs": [
    {
     "data": {
      "text/plain": [
       "array([100,  87, 120,  79, 150])"
      ]
     },
     "execution_count": 23,
     "metadata": {},
     "output_type": "execute_result"
    }
   ],
   "source": [
    "monthly_data_2008[good_ones]"
   ]
  },
  {
   "cell_type": "markdown",
   "metadata": {},
   "source": [
    "We can get total sales by adding by rows. This uses **list comprehensions** check what they are here: https://docs.python.org/2/tutorial/datastructures.html"
   ]
  },
  {
   "cell_type": "code",
   "execution_count": 24,
   "metadata": {
    "collapsed": false
   },
   "outputs": [
    {
     "name": "stdout",
     "output_type": "stream",
     "text": [
      "[237, 238, 235]\n"
     ]
    }
   ],
   "source": [
    "monthly_data_2008_totals = [month.sum() for month in monthly_data_2008]\n",
    "print monthly_data_2008_totals"
   ]
  },
  {
   "cell_type": "markdown",
   "metadata": {},
   "source": [
    "We can get sales per region"
   ]
  },
  {
   "cell_type": "code",
   "execution_count": 25,
   "metadata": {
    "collapsed": false
   },
   "outputs": [
    {
     "name": "stdout",
     "output_type": "stream",
     "text": [
      "[370, 137, 203]\n"
     ]
    }
   ],
   "source": [
    "monthly_data_2008_regions = [monthly_data_2008[:,region].sum() \n",
    " for region in range(monthly_data_2008.shape[1])]\n",
    "print monthly_data_2008_regions"
   ]
  },
  {
   "cell_type": "code",
   "execution_count": 26,
   "metadata": {
    "collapsed": false
   },
   "outputs": [
    {
     "name": "stdout",
     "output_type": "stream",
     "text": [
      "[137, 203, 370]\n"
     ]
    }
   ],
   "source": [
    "monthly_data_2008_regions.sort()\n",
    "print monthly_data_2008_regions"
   ]
  },
  {
   "cell_type": "code",
   "execution_count": null,
   "metadata": {
    "collapsed": false
   },
   "outputs": [],
   "source": []
  }
 ],
 "metadata": {
  "kernelspec": {
   "display_name": "Python [py27]",
   "language": "python",
   "name": "Python [py27]"
  },
  "language_info": {
   "codemirror_mode": {
    "name": "ipython",
    "version": 2
   },
   "file_extension": ".py",
   "mimetype": "text/x-python",
   "name": "python",
   "nbconvert_exporter": "python",
   "pygments_lexer": "ipython2",
   "version": "2.7.12"
  }
 },
 "nbformat": 4,
 "nbformat_minor": 0
}
